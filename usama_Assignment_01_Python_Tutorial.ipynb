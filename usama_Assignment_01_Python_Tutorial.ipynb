{
 "cells": [
  {
   "cell_type": "markdown",
   "id": "8cedf98d-9bfc-4b0f-97d3-f2c4353a4fc1",
   "metadata": {},
   "source": [
    "# 2. Data Types\n",
    "\n",
    "## 2.1. Variables:\n",
    "\n",
    "- The below code defines use of assignment operator in declaring variables of different types.\n",
    "- We then print out the values stored in them.\n",
    "- Print here is a function."
   ]
  },
  {
   "cell_type": "code",
   "execution_count": 10,
   "id": "ed0fdcf1-a255-40ac-ab2f-781b768fef73",
   "metadata": {},
   "outputs": [
    {
     "name": "stdout",
     "output_type": "stream",
     "text": [
      "100.0\n",
      "100\n",
      "Mehvish\n"
     ]
    }
   ],
   "source": [
    "# Define variables with different types\n",
    "counter= 100.00  # float type variable\n",
    "miles= 100  # integer type variable\n",
    "name = \"Mehvish\"  # string type variable\n",
    "\n",
    "# Print all values\n",
    "print(counter)\n",
    "print(miles)\n",
    "print(name)"
   ]
  },
  {
   "cell_type": "markdown",
   "id": "96d2409e-8015-4adc-bd29-bfd9d3adfd50",
   "metadata": {},
   "source": [
    "## 2.2. Numbers:\n",
    "\n",
    "- The below code defines use of directly printing integers without declaring them to a variable.\n"
   ]
  },
  {
   "cell_type": "code",
   "execution_count": 11,
   "id": "c58ed237-ca7b-493d-88ce-0a711728e334",
   "metadata": {},
   "outputs": [
    {
     "data": {
      "text/plain": [
       "2"
      ]
     },
     "execution_count": 11,
     "metadata": {},
     "output_type": "execute_result"
    }
   ],
   "source": [
    "2 #integer"
   ]
  },
  {
   "cell_type": "markdown",
   "id": "1b22d1ba-0f37-4308-b9bc-8f20f3a09791",
   "metadata": {},
   "source": [
    "- The below code outputs the result of numeric operation of addition."
   ]
  },
  {
   "cell_type": "code",
   "execution_count": 12,
   "id": "b499b82b-3d42-46f4-acc7-b34dc51f6a10",
   "metadata": {},
   "outputs": [
    {
     "data": {
      "text/plain": [
       "5"
      ]
     },
     "execution_count": 12,
     "metadata": {},
     "output_type": "execute_result"
    }
   ],
   "source": [
    " 2+3 #integer"
   ]
  },
  {
   "cell_type": "markdown",
   "id": "85685c0b-1a9f-4a9e-989a-1f75f30fa103",
   "metadata": {},
   "source": [
    "- The below code doutputs the result of addition of float type numbers."
   ]
  },
  {
   "cell_type": "code",
   "execution_count": 13,
   "id": "7347a2d3-e0d7-4b76-bb52-e6f05a009da4",
   "metadata": {},
   "outputs": [
    {
     "data": {
      "text/plain": [
       "7.8"
      ]
     },
     "execution_count": 13,
     "metadata": {},
     "output_type": "execute_result"
    }
   ],
   "source": [
    "2.3+5.5 #float"
   ]
  },
  {
   "cell_type": "markdown",
   "id": "95ebcffa-ad8e-4bb1-8950-45a2de130188",
   "metadata": {},
   "source": [
    "- The below code outputs the result of numeric operation of exponential."
   ]
  },
  {
   "cell_type": "code",
   "execution_count": 14,
   "id": "12b5f4e5-8c12-410a-aa77-f730a1e8b133",
   "metadata": {},
   "outputs": [
    {
     "data": {
      "text/plain": [
       "4"
      ]
     },
     "execution_count": 14,
     "metadata": {},
     "output_type": "execute_result"
    }
   ],
   "source": [
    "2**2 #exponent "
   ]
  },
  {
   "cell_type": "markdown",
   "id": "836d40f8-b825-4ac0-8dd4-2d19c2e77062",
   "metadata": {},
   "source": [
    "## 2.3. Strings:\n",
    "\n",
    "- The below code defines use of strings using single comma and double comma.\n",
    "- Print can be used to concatenate strings.\n"
   ]
  },
  {
   "cell_type": "code",
   "execution_count": 15,
   "id": "dba9589d-98c3-4c4c-b3c6-85344041eaa7",
   "metadata": {},
   "outputs": [
    {
     "name": "stdout",
     "output_type": "stream",
     "text": [
      "usama NUST\n"
     ]
    }
   ],
   "source": [
    "name= 'usama'\n",
    "university= \"NUST\"\n",
    "print(name, university)"
   ]
  },
  {
   "cell_type": "markdown",
   "id": "54f642bc-2955-4135-b9f1-965529d19691",
   "metadata": {},
   "source": [
    "****a. Access values in String****\n",
    "- The below code first prints out the 0th character using bracket. Index starts from 0.\n",
    "- Then it prints the 1st to 5th character. "
   ]
  },
  {
   "cell_type": "code",
   "execution_count": 16,
   "id": "4a3533f9-51e7-474b-841b-fbe4e1d7a99b",
   "metadata": {},
   "outputs": [
    {
     "name": "stdout",
     "output_type": "stream",
     "text": [
      "stringVariable[0]: H\n",
      "stringVariable[1:5]: ello\n"
     ]
    }
   ],
   "source": [
    "stringVariable = \"Hello World\"\n",
    "print(\"stringVariable[0]:\",stringVariable[0])\n",
    "print(\"stringVariable[1:5]:\", stringVariable[1:5])"
   ]
  },
  {
   "cell_type": "markdown",
   "id": "7f289951-d8f2-4f36-b761-ef084cc1f91b",
   "metadata": {},
   "source": [
    "****b. Updating String****\n",
    "- The below code replaces the 'World' with 'Python'. It starts to replace from 6th index and continues till end.\n",
    "- Note it will replace the whole string on the right irrespective of the size of new addition."
   ]
  },
  {
   "cell_type": "code",
   "execution_count": 17,
   "id": "2c83f99d-406e-4e9e-a26c-4e93f3ef89fc",
   "metadata": {},
   "outputs": [
    {
     "name": "stdout",
     "output_type": "stream",
     "text": [
      "Updated string:  Hello Python\n"
     ]
    }
   ],
   "source": [
    "stringVariable = \"Hello World\"\n",
    "stringVariable = stringVariable[:6]+\"Python\" \n",
    "print(\"Updated string: \", stringVariable) "
   ]
  },
  {
   "cell_type": "markdown",
   "id": "828c3976-c019-4c96-9d00-36bf25178921",
   "metadata": {},
   "source": [
    "****c. Delete String****\n",
    "- The below code demonstrates the use of del operation. It deletes the entries of the variable \"stringVariable\"."
   ]
  },
  {
   "cell_type": "code",
   "execution_count": 18,
   "id": "f58b435b-091e-42a5-b75b-0fdb9477fe35",
   "metadata": {},
   "outputs": [
    {
     "name": "stdout",
     "output_type": "stream",
     "text": [
      "Hello World\n"
     ]
    },
    {
     "ename": "NameError",
     "evalue": "name 'stringVariable' is not defined",
     "output_type": "error",
     "traceback": [
      "\u001b[1;31m---------------------------------------------------------------------------\u001b[0m",
      "\u001b[1;31mNameError\u001b[0m                                 Traceback (most recent call last)",
      "Cell \u001b[1;32mIn[18], line 4\u001b[0m\n\u001b[0;32m      2\u001b[0m \u001b[38;5;28mprint\u001b[39m(stringVariable)\n\u001b[0;32m      3\u001b[0m \u001b[38;5;28;01mdel\u001b[39;00m stringVariable\n\u001b[1;32m----> 4\u001b[0m \u001b[38;5;28mprint\u001b[39m(stringVariable)\n",
      "\u001b[1;31mNameError\u001b[0m: name 'stringVariable' is not defined"
     ]
    }
   ],
   "source": [
    "stringVariable = \"Hello World\"\n",
    "print(stringVariable)\n",
    "del stringVariable\n",
    "print(stringVariable) "
   ]
  },
  {
   "cell_type": "markdown",
   "id": "0e5864d9-d5fd-4e5d-a94e-27208b28824f",
   "metadata": {},
   "source": [
    "****d. String special operators****\n",
    "- The below code demonstrates the use of + operation within the print statement/function.\n",
    "- It concatenates the Hello and Python strings."
   ]
  },
  {
   "cell_type": "code",
   "execution_count": 19,
   "id": "148485ac-0fc3-4da0-a0ad-7aa0c58dab56",
   "metadata": {},
   "outputs": [
    {
     "name": "stdout",
     "output_type": "stream",
     "text": [
      "HelloPython\n"
     ]
    }
   ],
   "source": [
    "variable = \"Hello\"\n",
    "print(variable+\"Python\")"
   ]
  },
  {
   "cell_type": "markdown",
   "id": "c8daef91-8722-424e-814e-22bf32b907dc",
   "metadata": {},
   "source": [
    "- The below code demonstrates the use of * operation within the print statement/function.\n",
    "- It replicates the Hello string thrice."
   ]
  },
  {
   "cell_type": "markdown",
   "id": "fc80bf66-40ae-44a7-b805-c087b2bae28f",
   "metadata": {},
   "source": [
    "variable = \"Hello\"\n",
    "print(variable*3)"
   ]
  },
  {
   "cell_type": "markdown",
   "id": "a950e184-915f-41c9-aae6-83b0bcf59894",
   "metadata": {},
   "source": [
    "- The below code demonstrates the use of [] operation within the print statement/function.\n",
    "- It outputs the character e present at index 1."
   ]
  },
  {
   "cell_type": "code",
   "execution_count": 20,
   "id": "b57182ce-a464-4d57-8053-b27051b5252a",
   "metadata": {},
   "outputs": [
    {
     "name": "stdout",
     "output_type": "stream",
     "text": [
      "e\n"
     ]
    }
   ],
   "source": [
    "variable = \"Hello\"\n",
    "print(variable[1])"
   ]
  },
  {
   "cell_type": "markdown",
   "id": "bb3ed257-dc76-4d9b-a158-a73d67609114",
   "metadata": {},
   "source": [
    "- The below code demonstrates the use of [:] operation within the print statement/function.\n",
    "- It outputs the character el starting from index 1 to 3.\n",
    "- Notice it didnt print l again. Only printed till 2nd index."
   ]
  },
  {
   "cell_type": "code",
   "execution_count": 21,
   "id": "739725d8-4437-4949-9838-7a0d49485d20",
   "metadata": {},
   "outputs": [
    {
     "name": "stdout",
     "output_type": "stream",
     "text": [
      "el\n"
     ]
    }
   ],
   "source": [
    "variable = \"Hello\"\n",
    "print(variable[1:3])"
   ]
  },
  {
   "cell_type": "markdown",
   "id": "776236de-0aea-4802-84a6-825f7085a326",
   "metadata": {},
   "source": [
    "- The below code demonstrates the use of \"in\" operation within the print statement/function.\n",
    "- It outputs True if character exists in the string.\n",
    "Here, it returns True because H is present."
   ]
  },
  {
   "cell_type": "code",
   "execution_count": 22,
   "id": "2737f81d-8566-4798-905f-ca5f5b92f9db",
   "metadata": {},
   "outputs": [
    {
     "name": "stdout",
     "output_type": "stream",
     "text": [
      "True\n"
     ]
    }
   ],
   "source": [
    "variable = \"Hello\"\n",
    "print('H' in variable)"
   ]
  },
  {
   "cell_type": "markdown",
   "id": "55133128-b4b7-4a34-87c9-2d7db57d4442",
   "metadata": {},
   "source": [
    "- The below code demonstrates the use of \"not in\" operation within the print statement/function.\n",
    "- It outputs True if character doesn't exists in the string.\n",
    "Here, it returns True because G is not present."
   ]
  },
  {
   "cell_type": "code",
   "execution_count": 23,
   "id": "e11c3603-c249-41a3-a94b-eb4fc73024ab",
   "metadata": {},
   "outputs": [
    {
     "name": "stdout",
     "output_type": "stream",
     "text": [
      "True\n"
     ]
    }
   ],
   "source": [
    "variable = \"Hello\"\n",
    "print('G' not in variable)"
   ]
  },
  {
   "cell_type": "markdown",
   "id": "1c478a2c-7453-44c9-83d9-f000cf522d14",
   "metadata": {},
   "source": [
    "****e. String formatting operator****\n",
    "- The below code demonstrates the use of % operator within the print function.\n",
    "- It takes in the values of string and number from %s and %d values."
   ]
  },
  {
   "cell_type": "code",
   "execution_count": 24,
   "id": "5dd138e0-1c7e-4453-b778-0b45321420c9",
   "metadata": {},
   "outputs": [
    {
     "name": "stdout",
     "output_type": "stream",
     "text": [
      "My name is Usama and age is 30 years!\n"
     ]
    }
   ],
   "source": [
    "print(\"My name is %s and age is %d years!\" % (\"Usama\",30))"
   ]
  },
  {
   "cell_type": "markdown",
   "id": "79073aad-df63-4b24-89d2-8d54654f3b6b",
   "metadata": {},
   "source": [
    "## 2.4. Lists\n",
    "\n",
    "The below code prints the entries defined in list.\n"
   ]
  },
  {
   "cell_type": "code",
   "execution_count": 25,
   "id": "5f2abbe7-9dc2-4f76-ae30-63f82eb1ec79",
   "metadata": {},
   "outputs": [
    {
     "name": "stdout",
     "output_type": "stream",
     "text": [
      "['Mehvish', '1880']\n"
     ]
    }
   ],
   "source": [
    "list1 = ['Mehvish','1880']\n",
    "print(list1)"
   ]
  },
  {
   "cell_type": "markdown",
   "id": "75ef196f-7fa3-42ee-af6c-549c2a62fd08",
   "metadata": {},
   "source": [
    "****a. Accessing values in Lists****\n",
    "- The below code prints the specific values from the list entries defined above."
   ]
  },
  {
   "cell_type": "code",
   "execution_count": 26,
   "id": "05d35c3f-3f23-4cc3-b632-d24762634603",
   "metadata": {},
   "outputs": [
    {
     "name": "stdout",
     "output_type": "stream",
     "text": [
      "list1[0]:  physics\n",
      "list2[1:5]:  [2, 3, 4, 5]\n"
     ]
    }
   ],
   "source": [
    "list1 = ['physics', 'chemistry', 1997, 2000];\n",
    "list2 = [1, 2, 3, 4, 5, 6, 7 ]; \n",
    "print (\"list1[0]: \", list1[0]) \n",
    "print (\"list2[1:5]: \", list2[1:5]) "
   ]
  },
  {
   "cell_type": "markdown",
   "id": "066b1b44-1226-4e5b-9f20-f4ba2544d4fc",
   "metadata": {},
   "source": [
    "****b. Updating Lists****\n",
    "- The below code accesses the 1st index entry and changes chemistry to computer science. Then the append function adds Computer science at the last."
   ]
  },
  {
   "cell_type": "code",
   "execution_count": 27,
   "id": "e71d4ac1-390f-4be1-a92c-159fc914a0ab",
   "metadata": {},
   "outputs": [
    {
     "name": "stdout",
     "output_type": "stream",
     "text": [
      "['physics', 'computer science', 1997, 2000]\n",
      "['physics', 'computer science', 1997, 2000, 'Computer Science']\n"
     ]
    }
   ],
   "source": [
    "list1 = ['physics', 'chemistry', 1997, 2000];\n",
    "list1[1] = \"computer science\"\n",
    "print(list1) \n",
    "list1.append('Computer Science') \n",
    "print(list1) "
   ]
  },
  {
   "cell_type": "markdown",
   "id": "5758f53a-7cab-4812-81ae-b6aa549810a3",
   "metadata": {},
   "source": [
    "****c. Delete List Element****\n",
    "- The below code uses del to remove the entry at specific index in the list.\n",
    " "
   ]
  },
  {
   "cell_type": "code",
   "execution_count": 2,
   "id": "682ba482-77ed-40ef-b6d6-5ca0013e2919",
   "metadata": {},
   "outputs": [
    {
     "name": "stdout",
     "output_type": "stream",
     "text": [
      "['physics', 'chemistry', 1997, 2000]\n",
      "After deleting value at index 2 : \n",
      "['physics', 'chemistry', 2000]\n"
     ]
    }
   ],
   "source": [
    "list1 = ['physics', 'chemistry', 1997, 2000]; \n",
    "print (list1) \n",
    "del list1[2];\n",
    "print (\"After deleting value at index 2 : \") \n",
    "print (list1) "
   ]
  },
  {
   "cell_type": "markdown",
   "id": "b21d62e6-88ac-46b9-ad36-3d8b3c4a1186",
   "metadata": {},
   "source": [
    "- The below code uses remove function to delete the specific entry inside the list without knowing the index location.\n"
   ]
  },
  {
   "cell_type": "code",
   "execution_count": 4,
   "id": "dd0ccd88-bac1-4ce2-9b6e-284fdaef0a82",
   "metadata": {},
   "outputs": [
    {
     "name": "stdout",
     "output_type": "stream",
     "text": [
      "['physics', 'chemistry', 1997, 2000]\n",
      "After deleting value at index 1: \n",
      "['physics', 1997, 2000]\n"
     ]
    }
   ],
   "source": [
    "list1 = ['physics', 'chemistry', 1997, 2000]; \n",
    "print (list1) \n",
    "list1.remove('chemistry')\n",
    "print (\"After deleting value at index 1: \") \n",
    "print (list1)"
   ]
  },
  {
   "cell_type": "markdown",
   "id": "98c39e4c-511c-48b2-b448-7967ea15552f",
   "metadata": {},
   "source": [
    "## 2.5. Dictionaries\n",
    "\n",
    "- The below code depicts the use of dictionary. It is based on key and values seperated by :. "
   ]
  },
  {
   "cell_type": "markdown",
   "id": "9c5ee553-1085-4603-8751-3890c78a0286",
   "metadata": {},
   "source": [
    "****a. Accessing value in Dictionary****\n",
    "- We are printing the value contained in key 'Name'."
   ]
  },
  {
   "cell_type": "code",
   "execution_count": 5,
   "id": "540080de-2bdc-4764-8dbd-56f114b1e248",
   "metadata": {},
   "outputs": [
    {
     "name": "stdout",
     "output_type": "stream",
     "text": [
      "Usama\n"
     ]
    }
   ],
   "source": [
    "dict = {'Name':\"Usama\", 'Depart': \"BCS\", 'Batch': 2014}\n",
    "print (dict['Name'])"
   ]
  },
  {
   "cell_type": "markdown",
   "id": "1bfeadb9-09bd-457b-8fdc-38d59ba456ca",
   "metadata": {},
   "source": [
    "****b. Updating Dictionary****\n",
    "- The below code prints the entries of dict. Then changes the value contained in key 'Batch'. Then adds another key:value named university: NUST."
   ]
  },
  {
   "cell_type": "code",
   "execution_count": 6,
   "id": "cffbe16a-97d5-42bc-8113-ace5d9f7c254",
   "metadata": {},
   "outputs": [
    {
     "name": "stdout",
     "output_type": "stream",
     "text": [
      "{'Name': 'Mehvish', 'Depart': 'BCS', 'Batch': 2014}\n",
      "{'Name': 'Mehvish', 'Depart': 'BCS', 'Batch': 'SP14'}\n",
      "{'Name': 'Mehvish', 'Depart': 'BCS', 'Batch': 'SP14', 'University': 'NUST'}\n"
     ]
    }
   ],
   "source": [
    "dict = {'Name':\"Mehvish\", 'Depart': \"BCS\", 'Batch': 2014}\n",
    "print (dict)\n",
    "dict['Batch'] = \"SP14\"\n",
    "print (dict) \n",
    "dict['University'] = \"NUST\" \n",
    "print(dict) "
   ]
  },
  {
   "cell_type": "markdown",
   "id": "02049dcf-060e-4529-b7a1-1094b0a11494",
   "metadata": {},
   "source": [
    "- The below code deletes the entry of key named Batch alongwith its value."
   ]
  },
  {
   "cell_type": "code",
   "execution_count": 32,
   "id": "bf0ee59a-6a41-44f4-ba4a-9524271e484b",
   "metadata": {},
   "outputs": [
    {
     "name": "stdout",
     "output_type": "stream",
     "text": [
      "{'Name': 'Mehvish', 'Depart': 'BCS', 'Batch': 2014}\n",
      "{'Name': 'Mehvish', 'Depart': 'BCS'}\n"
     ]
    }
   ],
   "source": [
    "dict = {'Name':\"Mehvish\", 'Depart': \"BCS\", 'Batch': 2014} \n",
    "print (dict) \n",
    "del dict['Batch'] \n",
    "print (dict)"
   ]
  },
  {
   "cell_type": "markdown",
   "id": "21eb4823-11bf-4e43-91fb-3d7038a990ed",
   "metadata": {},
   "source": [
    "- The below code clears all the entries of the dict using clear function."
   ]
  },
  {
   "cell_type": "code",
   "execution_count": 33,
   "id": "0ddfa8d6-d539-4061-b6e4-04ea4592c886",
   "metadata": {},
   "outputs": [
    {
     "name": "stdout",
     "output_type": "stream",
     "text": [
      "{}\n"
     ]
    }
   ],
   "source": [
    "dict = {'Name':\"Mehvish\", 'Depart': \"BCS\", 'Batch': 2014} \n",
    "dict.clear() \n",
    "print (dict)"
   ]
  },
  {
   "cell_type": "markdown",
   "id": "f4163cb9-6ef2-4170-9aee-e9bb3959f07b",
   "metadata": {},
   "source": [
    "## 2.6. Tuples\n",
    "\n",
    "- Same as Lists. But they are fixed entries."
   ]
  },
  {
   "cell_type": "markdown",
   "id": "db9dbd3e-65e0-491d-849d-5b99ffe56880",
   "metadata": {},
   "source": [
    "****a. Accessing values in Tuples****\n",
    "- The below code prints the tuple content in tup. Then prints the value at index 1. Then prints  entries from 1 index to 3."
   ]
  },
  {
   "cell_type": "code",
   "execution_count": 34,
   "id": "038e85cb-14a0-487f-8d17-ed0dbbd86896",
   "metadata": {},
   "outputs": [
    {
     "name": "stdout",
     "output_type": "stream",
     "text": [
      "('Math', '98', 'C programming', '99')\n",
      "98\n",
      "('98', 'C programming')\n"
     ]
    }
   ],
   "source": [
    "tup = ('Math','98', 'C programming', '99')\n",
    "print (tup) \n",
    "print(tup[1]) \n",
    "print(tup[1:3])"
   ]
  },
  {
   "cell_type": "markdown",
   "id": "4dc29ac0-1177-4dcf-88bb-7f3704449e6b",
   "metadata": {},
   "source": [
    "****b. Updating Tuples****\n",
    "- The below code concatenates two tuples."
   ]
  },
  {
   "cell_type": "code",
   "execution_count": 35,
   "id": "62a53e2b-9aa6-4b17-b554-f545f0adf5cc",
   "metadata": {},
   "outputs": [
    {
     "name": "stdout",
     "output_type": "stream",
     "text": [
      "(12, 34.56, 'abc', 'xyz')\n"
     ]
    }
   ],
   "source": [
    "tup1 = (12, 34.56);\n",
    "tup2 = ('abc', 'xyz'); \n",
    "#Following action is not valid for tuples \n",
    "#tup1[0] = 100; \n",
    "#So let's create a new tuple as follows \n",
    "tup3 = tup1 + tup2; \n",
    "print (tup3);"
   ]
  },
  {
   "cell_type": "markdown",
   "id": "e383434e-b7e3-4272-b6b8-70e836ca0037",
   "metadata": {},
   "source": [
    "****c. Deleting Tuples****\n",
    "- The below code deletes the entire tuple."
   ]
  },
  {
   "cell_type": "code",
   "execution_count": 36,
   "id": "84452139-b134-4639-83eb-72a316e1ef39",
   "metadata": {},
   "outputs": [
    {
     "name": "stdout",
     "output_type": "stream",
     "text": [
      "('physics', 'chemistry', 1997, 2000)\n",
      "After deleting tup : \n"
     ]
    },
    {
     "ename": "NameError",
     "evalue": "name 'tup' is not defined",
     "output_type": "error",
     "traceback": [
      "\u001b[1;31m---------------------------------------------------------------------------\u001b[0m",
      "\u001b[1;31mNameError\u001b[0m                                 Traceback (most recent call last)",
      "Cell \u001b[1;32mIn[36], line 5\u001b[0m\n\u001b[0;32m      3\u001b[0m \u001b[38;5;28;01mdel\u001b[39;00m tup;\n\u001b[0;32m      4\u001b[0m \u001b[38;5;28mprint\u001b[39m (\u001b[38;5;124m\"\u001b[39m\u001b[38;5;124mAfter deleting tup : \u001b[39m\u001b[38;5;124m\"\u001b[39m);\n\u001b[1;32m----> 5\u001b[0m \u001b[38;5;28mprint\u001b[39m (tup)\n",
      "\u001b[1;31mNameError\u001b[0m: name 'tup' is not defined"
     ]
    }
   ],
   "source": [
    "tup = ('physics', 'chemistry', 1997, 2000);\n",
    "print (tup);\n",
    "del tup;\n",
    "print (\"After deleting tup : \");\n",
    "print (tup); "
   ]
  },
  {
   "cell_type": "markdown",
   "id": "81a93a08-108c-43f4-81e2-40023bf49631",
   "metadata": {},
   "source": [
    "## 2.7. Sets\n",
    "\n",
    "- The below code prints the type of list1 as List.\n",
    "- Then it makes it a set.\n",
    "- Then prints its entities.\n",
    "- Then again prints the type as Set.\n",
    "- Then it overwrites the set with new values. Prints it.\n",
    "- Then we redefine set again. Add D. Add multiple values from list entries.\n",
    "- Then use remove and discard functions to test error function. "
   ]
  },
  {
   "cell_type": "code",
   "execution_count": 13,
   "id": "b16cfb2c-e065-4185-bc5e-ad879380669a",
   "metadata": {},
   "outputs": [
    {
     "name": "stdout",
     "output_type": "stream",
     "text": [
      "<class 'list'>\n",
      "{1, 2, 3, 4, 5}\n",
      "<class 'set'>\n",
      "{1, 2, 3}\n",
      "{1.2, 1, 2, 3, 4, 5, 'C', 'D', 'Hello'}\n"
     ]
    },
    {
     "ename": "KeyError",
     "evalue": "'G'",
     "output_type": "error",
     "traceback": [
      "\u001b[1;31m---------------------------------------------------------------------------\u001b[0m",
      "\u001b[1;31mKeyError\u001b[0m                                  Traceback (most recent call last)",
      "Cell \u001b[1;32mIn[13], line 22\u001b[0m\n\u001b[0;32m     20\u001b[0m \u001b[38;5;28mprint\u001b[39m (my_set) \n\u001b[0;32m     21\u001b[0m my_set\u001b[38;5;241m.\u001b[39mdiscard(\u001b[38;5;124m'\u001b[39m\u001b[38;5;124mG\u001b[39m\u001b[38;5;124m'\u001b[39m) \u001b[38;5;66;03m# it will not raise an error \u001b[39;00m\n\u001b[1;32m---> 22\u001b[0m my_set\u001b[38;5;241m.\u001b[39mremove(\u001b[38;5;124m'\u001b[39m\u001b[38;5;124mG\u001b[39m\u001b[38;5;124m'\u001b[39m)\n",
      "\u001b[1;31mKeyError\u001b[0m: 'G'"
     ]
    }
   ],
   "source": [
    " #list\n",
    "list1 = [1,2,3,4,5]\n",
    "\n",
    "print (type(list1)) \n",
    "\n",
    "my_set = set(list1) \n",
    "\n",
    "print(my_set) \n",
    "print(type(my_set)) \n",
    "\n",
    "#set of integers \n",
    "my_set = {1,2,3} \n",
    "print (my_set)\n",
    "#set of mixed data types \n",
    "my_set = {1,\"Hello\", 1.2,'C'} \n",
    "#adding a single value \n",
    "my_set.add('D') \n",
    "#adding multiple values \n",
    "my_set.update(list1) \n",
    "print (my_set) \n",
    "my_set.discard('G') # it will not raise an error \n",
    "my_set.remove('G') # it will raise an error "
   ]
  },
  {
   "cell_type": "markdown",
   "id": "9092b3a9-32d5-4dee-8047-20754a9f4f3a",
   "metadata": {},
   "source": [
    "# 3. Comparison Operators\n",
    "\n",
    "- The below code examples demonstrate the use of comparatoor o-perators and return True or False based on the result's truthfulness."
   ]
  },
  {
   "cell_type": "code",
   "execution_count": 38,
   "id": "d993a32c-c5f5-43dc-a6c8-ced8add60898",
   "metadata": {},
   "outputs": [
    {
     "data": {
      "text/plain": [
       "True"
      ]
     },
     "execution_count": 38,
     "metadata": {},
     "output_type": "execute_result"
    }
   ],
   "source": [
    "1<3"
   ]
  },
  {
   "cell_type": "code",
   "execution_count": 39,
   "id": "9f79aa9a-8558-45d6-b899-294f857031bd",
   "metadata": {},
   "outputs": [
    {
     "data": {
      "text/plain": [
       "True"
      ]
     },
     "execution_count": 39,
     "metadata": {},
     "output_type": "execute_result"
    }
   ],
   "source": [
    "15 <= 23 "
   ]
  },
  {
   "cell_type": "code",
   "execution_count": 40,
   "id": "b6737eaf-8922-4e1f-a327-76d306a68c11",
   "metadata": {},
   "outputs": [
    {
     "data": {
      "text/plain": [
       "False"
      ]
     },
     "execution_count": 40,
     "metadata": {},
     "output_type": "execute_result"
    }
   ],
   "source": [
    "'Mehvish' == \"Zeenat\" "
   ]
  },
  {
   "cell_type": "code",
   "execution_count": 41,
   "id": "1e89752d-a262-453f-a5a4-b49339c88c95",
   "metadata": {},
   "outputs": [
    {
     "data": {
      "text/plain": [
       "False"
      ]
     },
     "execution_count": 41,
     "metadata": {},
     "output_type": "execute_result"
    }
   ],
   "source": [
    "\"Mehvish\" != \"Mehvish\" "
   ]
  },
  {
   "cell_type": "code",
   "execution_count": 42,
   "id": "6a283644-299e-4e6b-9e44-4397ded2cc44",
   "metadata": {},
   "outputs": [
    {
     "data": {
      "text/plain": [
       "True"
      ]
     },
     "execution_count": 42,
     "metadata": {},
     "output_type": "execute_result"
    }
   ],
   "source": [
    "(1==1)or(5>2)"
   ]
  },
  {
   "cell_type": "code",
   "execution_count": 43,
   "id": "7dbc0fe2-4f6b-4f8c-915c-73112581617f",
   "metadata": {},
   "outputs": [
    {
     "data": {
      "text/plain": [
       "False"
      ]
     },
     "execution_count": 43,
     "metadata": {},
     "output_type": "execute_result"
    }
   ],
   "source": [
    "(1<2)and(2<1)"
   ]
  },
  {
   "cell_type": "markdown",
   "id": "826eb489-29b5-44f1-86c2-5b0f90083b88",
   "metadata": {},
   "source": [
    "# 4. If-Else Statements\n",
    "\n",
    "- The below code prints Even or odd based on the number input."
   ]
  },
  {
   "cell_type": "code",
   "execution_count": 17,
   "id": "99281220-c75e-4250-b224-bb41532ddf27",
   "metadata": {},
   "outputs": [
    {
     "name": "stdout",
     "output_type": "stream",
     "text": [
      "Odd\n"
     ]
    }
   ],
   "source": [
    "if 25 % 2: \n",
    "    print('Odd')\n",
    "else: \n",
    "    print('Even')"
   ]
  },
  {
   "cell_type": "markdown",
   "id": "e7e13522-ca91-4af8-84dc-e85173fb5838",
   "metadata": {},
   "source": [
    "# 5. For and While Loop\n",
    "\n",
    "- The below code calculates the factorial using the for loop."
   ]
  },
  {
   "cell_type": "code",
   "execution_count": 20,
   "id": "aefe62e5-1f55-4513-8946-2dc6bd5fa650",
   "metadata": {},
   "outputs": [
    {
     "name": "stdout",
     "output_type": "stream",
     "text": [
      "120\n"
     ]
    }
   ],
   "source": [
    "#example of for loop\n",
    "fact = 1\n",
    "N = 5\n",
    "for i in range (1,N+1): \n",
    "    fact*=i \n",
    "print (fact)"
   ]
  },
  {
   "cell_type": "markdown",
   "id": "383dbeaa-08bf-4ec8-a070-57f7b6693c85",
   "metadata": {},
   "source": [
    "- The below code prints the 1 to 10 using while loop."
   ]
  },
  {
   "cell_type": "code",
   "execution_count": 24,
   "id": "be8d15c6-0044-4f15-9808-dd11ada1e7fd",
   "metadata": {},
   "outputs": [
    {
     "name": "stdout",
     "output_type": "stream",
     "text": [
      "1\n",
      "2\n",
      "3\n",
      "4\n",
      "5\n",
      "6\n",
      "7\n",
      "8\n",
      "9\n",
      "10\n"
     ]
    }
   ],
   "source": [
    " #example of while loop\n",
    "a = 0\n",
    "while a < 10: \n",
    "    a = a+1\n",
    "    print(a) "
   ]
  },
  {
   "cell_type": "markdown",
   "id": "5e4baa79-0d17-430e-b758-bcae5c2d776b",
   "metadata": {},
   "source": [
    "# 6. Functions\n",
    "\n",
    "- The below code uses the function and prints the defined string by calling the function."
   ]
  },
  {
   "cell_type": "code",
   "execution_count": 47,
   "id": "1e562a4c-4f1b-40f9-8b40-aeda0b957e2a",
   "metadata": {},
   "outputs": [
    {
     "name": "stdout",
     "output_type": "stream",
     "text": [
      "I'm first call to user defined function!\n"
     ]
    }
   ],
   "source": [
    "# Function definition is here\n",
    "def printme( str ): \n",
    "#This prints a passed string into this function \n",
    "    print (str)\n",
    "    return; \n",
    "# Now you can call printme function \n",
    "printme(\"I'm first call to user defined function!\") "
   ]
  },
  {
   "cell_type": "markdown",
   "id": "8d67cc55-9857-4ce0-9de5-008100e88ec3",
   "metadata": {},
   "source": [
    "# 7. Lambda Functions\n",
    "\n",
    "- They need 1 input and 1 expression.\n",
    "- The below code defines use of normal function."
   ]
  },
  {
   "cell_type": "code",
   "execution_count": 48,
   "id": "c92b51fa-592e-4e32-a1d1-e87ade8530ad",
   "metadata": {},
   "outputs": [
    {
     "name": "stdout",
     "output_type": "stream",
     "text": [
      "64\n"
     ]
    }
   ],
   "source": [
    "#Normal function \n",
    "def f (x): \n",
    "    return x**2 \n",
    "print (f(8)) "
   ]
  },
  {
   "cell_type": "markdown",
   "id": "15873d56-32eb-4ce7-b32e-9b3aa6b52cbf",
   "metadata": {},
   "source": [
    "- The below code defines use of lambda function."
   ]
  },
  {
   "cell_type": "code",
   "execution_count": 28,
   "id": "765542fd-a897-41b9-9f7e-54feec18af83",
   "metadata": {},
   "outputs": [
    {
     "data": {
      "text/plain": [
       "30"
      ]
     },
     "execution_count": 28,
     "metadata": {},
     "output_type": "execute_result"
    }
   ],
   "source": [
    "#Lambda Function \n",
    "#lambda expressions\n",
    "times3 = lambda var:var*3 \n",
    "times3(10) \n",
    "#lambda expressions: another way to write a function in line "
   ]
  },
  {
   "cell_type": "markdown",
   "id": "96b43da2-6ccf-4229-9246-5f7c6163b927",
   "metadata": {},
   "source": [
    "## 7.1 Map\n",
    "\n",
    "- The below code defines use of map function. Returns the split of woirds in sentences and also the number of characters in each word."
   ]
  },
  {
   "cell_type": "code",
   "execution_count": 33,
   "id": "fbfed93f-d8a0-410e-881b-9f709d238d56",
   "metadata": {},
   "outputs": [
    {
     "name": "stdout",
     "output_type": "stream",
     "text": [
      "['It', 'is', 'raining', 'cats', 'and', 'dogs']\n"
     ]
    },
    {
     "data": {
      "text/plain": [
       "[2, 2, 7, 4, 3, 4]"
      ]
     },
     "execution_count": 33,
     "metadata": {},
     "output_type": "execute_result"
    }
   ],
   "source": [
    "sentence = 'It is raining cats and dogs' \n",
    "words = sentence.split()\n",
    "print (words) \n",
    "lengths = map(lambda x: len(x), words) \n",
    "list(lengths)"
   ]
  },
  {
   "cell_type": "markdown",
   "id": "830243e6-65e0-402b-80f6-3dcbdf3191f8",
   "metadata": {},
   "source": [
    "## 7.2 Filter\n",
    "\n",
    "- The below code defines use of filter on lambda function that finds if the input is odd. Remainder is 0, so it is False."
   ]
  },
  {
   "cell_type": "code",
   "execution_count": 51,
   "id": "dfedc92a-8cf2-410e-be11-e704bd2466cf",
   "metadata": {},
   "outputs": [
    {
     "data": {
      "text/plain": [
       "[1, 1, 3, 5, 13, 21, 55]"
      ]
     },
     "execution_count": 51,
     "metadata": {},
     "output_type": "execute_result"
    }
   ],
   "source": [
    "fib = [0,1,1,2,3,5,8,13,21,34,55] \n",
    "result1 = filter(lambda x: x % 2, fib)\n",
    "list(result1)"
   ]
  },
  {
   "cell_type": "markdown",
   "id": "e987ac4c-1c42-48b1-938f-282cec5e24c2",
   "metadata": {},
   "source": [
    "- The below code defines use of filter on lambda function that finds iof the input is even."
   ]
  },
  {
   "cell_type": "code",
   "execution_count": 52,
   "id": "ee783810-088c-44a1-8490-3f426805bbeb",
   "metadata": {},
   "outputs": [
    {
     "data": {
      "text/plain": [
       "[0, 2, 8, 34]"
      ]
     },
     "execution_count": 52,
     "metadata": {},
     "output_type": "execute_result"
    }
   ],
   "source": [
    "fib = [0,1,1,2,3,5,8,13,21,34,55] \n",
    "result2 = filter(lambda x: x % 2 == 0, fib) \n",
    "list (result2) "
   ]
  },
  {
   "cell_type": "markdown",
   "id": "c2390d8c-1be7-47c5-bb0d-e81502229a84",
   "metadata": {},
   "source": [
    "# 8. File I/O\n",
    "\n",
    "- The below code defines use of assignment operator in declaring variables of different types."
   ]
  },
  {
   "cell_type": "markdown",
   "id": "1919e15f-2c37-4ae5-92c1-c4f52a6010ae",
   "metadata": {},
   "source": [
    "## 8.1 Reading input from keyboard\n",
    "- It reads only one line from standard input and returns it as a string."
   ]
  },
  {
   "cell_type": "code",
   "execution_count": 34,
   "id": "f306459d-c199-4e17-a37f-73c18c81c431",
   "metadata": {},
   "outputs": [
    {
     "name": "stdin",
     "output_type": "stream",
     "text": [
      "Enter your name:  Usama\n"
     ]
    },
    {
     "name": "stdout",
     "output_type": "stream",
     "text": [
      "Usama\n"
     ]
    }
   ],
   "source": [
    "from six.moves import input\n",
    "string = input(\"Enter your name: \");\n",
    "print(string)"
   ]
  },
  {
   "cell_type": "markdown",
   "id": "2c47b5a2-88f5-4945-8bcf-4ecca63120c4",
   "metadata": {},
   "source": [
    "## 8.2 I/O from or to Text File\n",
    "- r opens a file in read only mode.\n",
    "- r+ opens a file read and write mode.\n",
    "- w opens a file in write mode only.\n",
    "- a opens a file in append mode\n",
    "- a+ opens a file in append and read mode\n",
    "- Open a file to read"
   ]
  },
  {
   "cell_type": "code",
   "execution_count": 68,
   "id": "5e918349-466a-42f9-8774-59b3f58571f9",
   "metadata": {},
   "outputs": [
    {
     "name": "stdout",
     "output_type": "stream",
     "text": [
      "Hello. my name is Usama Javaid. I have a Masters in Electrical Engineering. \n"
     ]
    }
   ],
   "source": [
    "# Open a file to read \n",
    "fileOpen = open(\"file.txt\", \"r+\")\n",
    "str = fileOpen.read(); #to read specific content from start you can use read(12). It will read 12 characters from the start of file \n",
    "print (str)\n",
    "# Close opened file \n",
    "fileOpen.close() "
   ]
  },
  {
   "cell_type": "markdown",
   "id": "b4f1463f-a401-4e1e-98cf-5bad20bebfb2",
   "metadata": {},
   "source": [
    "- The below code defines use of appending the files."
   ]
  },
  {
   "cell_type": "code",
   "execution_count": 70,
   "id": "a324c9b0-9489-434e-bbc8-f719d4db9719",
   "metadata": {},
   "outputs": [
    {
     "name": "stdout",
     "output_type": "stream",
     "text": [
      "Hello. my name is Usama Javaid. I have a Masters in Electrical Engineering.  Information Technology Lahore\n"
     ]
    }
   ],
   "source": [
    "# Open a file to append \n",
    "fileOpen = open(\"file.txt\", \"a+\") \n",
    "fileOpen.write(\" Information Technology Lahore\"); \n",
    "fileOpen.close() \n",
    "# Open a file to read \n",
    "fileOpen = open(\"file.txt\", \"r+\") \n",
    "string = fileOpen.read(); #to read specific content from start you can use read(12). It will read 12 characte rs from the start of file \n",
    "print (string) \n",
    "# Close opend file \n",
    "fileOpen.close() "
   ]
  },
  {
   "cell_type": "markdown",
   "id": "19d69bb3-32a9-4665-818c-40e0b7765fbb",
   "metadata": {},
   "source": [
    "## 8.3 File Position\n",
    "- The below code defines the use of tell and seek functions."
   ]
  },
  {
   "cell_type": "code",
   "execution_count": 71,
   "id": "02cf07a4-4336-4327-8210-571ccddd0b08",
   "metadata": {},
   "outputs": [
    {
     "name": "stdout",
     "output_type": "stream",
     "text": [
      "ReadStringis:\n",
      " Hello. my \n",
      "Currentfileposition:\n",
      " 10\n",
      "AgainreadStringis:\n",
      " Hello. my \n"
     ]
    }
   ],
   "source": [
    "# Open a file\n",
    "fo = open(\"file.txt\", \"r+\")\n",
    "str = fo.read(10);\n",
    "print(\"ReadStringis:\\n\",str) \n",
    "# Check current position\n",
    "position = fo.tell();\n",
    "print(\"Currentfileposition:\\n\", position)\n",
    "#Repositionpointeratthebeginning once again\n",
    "position = fo.seek(0, 0);\n",
    "str = fo.read(10);\n",
    "print(\"AgainreadStringis:\\n\", str) \n",
    "# Close opend file\n",
    "fo.close()"
   ]
  },
  {
   "cell_type": "markdown",
   "id": "ffb24227-1bc4-4349-844f-4c8331485570",
   "metadata": {},
   "source": [
    "- The below code renames the file."
   ]
  },
  {
   "cell_type": "code",
   "execution_count": 72,
   "id": "d30a3efb-d7cc-48b9-b958-e07821a7c052",
   "metadata": {},
   "outputs": [],
   "source": [
    "import os\n",
    "# renameafile\n",
    "os.rename(\"file.txt\",\"newfile.txt\")"
   ]
  },
  {
   "cell_type": "markdown",
   "id": "aa9bdc25-524c-4f56-9bdb-8e0ceac24bae",
   "metadata": {},
   "source": [
    "- The below code removes the file."
   ]
  },
  {
   "cell_type": "code",
   "execution_count": 73,
   "id": "ef7a351c-66ea-4068-9a19-52e3f9f2971f",
   "metadata": {},
   "outputs": [],
   "source": [
    "#remove file \n",
    "os.remove(\"newfile.txt\") "
   ]
  },
  {
   "cell_type": "markdown",
   "id": "17c52157-ec15-4094-b049-d2161c3bcf6b",
   "metadata": {},
   "source": [
    "# 9. Pandas Introduction \n",
    "\n",
    "- Pandas is an open source library built on top of NumPy \n",
    "- It allows for fast analysis and data cleaning and preparation\n",
    "- It excels in proformance and productivity \n",
    "- It also has built-in visualization features\n",
    "- It can work with data from a wide variety of sources\n",
    "- Used for reading structured data."
   ]
  },
  {
   "cell_type": "markdown",
   "id": "95da95e8-42b7-43d3-b4f5-87d8e625e7a2",
   "metadata": {},
   "source": [
    "# 10. Series \n",
    "\n",
    "- The below codes define use of ndarray, dict, scalar value and ndarray-like types."
   ]
  },
  {
   "cell_type": "markdown",
   "id": "6faa658a-a940-42f0-b967-28a9b6552e6f",
   "metadata": {},
   "source": [
    "## 10.1  From ndarray\n"
   ]
  },
  {
   "cell_type": "code",
   "execution_count": 118,
   "id": "94eff968-92a6-40b6-9625-dba8b18aa3fd",
   "metadata": {},
   "outputs": [
    {
     "data": {
      "text/plain": [
       "a   -0.607816\n",
       "b    0.514300\n",
       "c   -0.139488\n",
       "d   -0.050562\n",
       "e    2.138872\n",
       "dtype: float64"
      ]
     },
     "execution_count": 118,
     "metadata": {},
     "output_type": "execute_result"
    }
   ],
   "source": [
    "import pandas as pd \n",
    "import numpy as np\n",
    "import matplotlib.pyplot as plt \n",
    "\"\"\"following a fucntion is called from pandas to create a series.Data would be 5 random values and indexes are assigned a-e\"\"\"\n",
    "\n",
    "s = pd.Series(np.random.randn(5), index=['a', 'b', 'c', 'd', 'e']) \n",
    "s"
   ]
  },
  {
   "cell_type": "markdown",
   "id": "7d7dfa84-6d08-42bc-b3e8-333e433b6048",
   "metadata": {},
   "source": [
    "- Following function will print the index and its datatype"
   ]
  },
  {
   "cell_type": "code",
   "execution_count": 119,
   "id": "2ab35fb7-bcb5-4f8c-8166-9be6a7cf6ba6",
   "metadata": {},
   "outputs": [
    {
     "data": {
      "text/plain": [
       "Index(['a', 'b', 'c', 'd', 'e'], dtype='object')"
      ]
     },
     "execution_count": 119,
     "metadata": {},
     "output_type": "execute_result"
    }
   ],
   "source": [
    "\"\"\"Following function will print the index and its datatype\"\"\" \n",
    "s.index "
   ]
  },
  {
   "cell_type": "code",
   "execution_count": 120,
   "id": "55747df2-e2b8-4755-88b8-e41f4903331d",
   "metadata": {},
   "outputs": [
    {
     "data": {
      "text/plain": [
       "0    0.866137\n",
       "1   -0.237004\n",
       "2    1.027830\n",
       "3    1.039478\n",
       "4   -0.908770\n",
       "dtype: float64"
      ]
     },
     "execution_count": 120,
     "metadata": {},
     "output_type": "execute_result"
    }
   ],
   "source": [
    "\"\"\"If we don't assign the index then it will be of length having values [0...len(data-1)]\"\"\"\n",
    "pd.Series(np.random.randn(5))"
   ]
  },
  {
   "cell_type": "markdown",
   "id": "8891a4a9-b988-49fb-a087-eb1cce19875b",
   "metadata": {},
   "source": [
    "## 10.2  From dict\n",
    "- If data is a dict, if index is passed the values in data corresponding to the labels in the index will be pulled out.\n",
    "- If index is not passed then it will be constructed from the sorted keys of the dict, if possible."
   ]
  },
  {
   "cell_type": "code",
   "execution_count": 121,
   "id": "123f42f4-6b93-4a8e-881b-4db2a44982fe",
   "metadata": {},
   "outputs": [
    {
     "data": {
      "text/plain": [
       "a    0.0\n",
       "b    1.0\n",
       "c    2.0\n",
       "dtype: float64"
      ]
     },
     "execution_count": 121,
     "metadata": {},
     "output_type": "execute_result"
    }
   ],
   "source": [
    "\"\"\" In following example, indexes are not given to it is constructed from the sorted keys of the dict\"\"\" \n",
    "d = {'a' : 0., 'b' : 1., 'c' : 2.} # a python dict\n",
    "pd.Series(d)"
   ]
  },
  {
   "cell_type": "markdown",
   "id": "124a9bd0-42dc-4159-9517-1368803820e3",
   "metadata": {},
   "source": [
    "- In following example, index are given, so the values in data corresponding in the index will be pulled out"
   ]
  },
  {
   "cell_type": "code",
   "execution_count": 122,
   "id": "290eaafb-b668-4449-8ee9-ca3c2458586d",
   "metadata": {},
   "outputs": [
    {
     "data": {
      "text/plain": [
       "b    1.0\n",
       "c    2.0\n",
       "d    NaN\n",
       "a    0.0\n",
       "dtype: float64"
      ]
     },
     "execution_count": 122,
     "metadata": {},
     "output_type": "execute_result"
    }
   ],
   "source": [
    "\"\"\" In following example, index are given, so the values in data corresponding in the index will be pulled out\"\"\" \n",
    "pd.Series(d, index=['b', 'c', 'd', 'a'])"
   ]
  },
  {
   "cell_type": "markdown",
   "id": "73a3cc6c-d8ac-4b32-b748-75707cd56353",
   "metadata": {},
   "source": [
    "## 10.3  From a scalar value \n",
    "- If data is a scalar value, an index must be provided. The value will be repeated to match the length of index"
   ]
  },
  {
   "cell_type": "code",
   "execution_count": 123,
   "id": "83cb19a8-db52-4ce3-a437-3fddaf248db9",
   "metadata": {},
   "outputs": [
    {
     "data": {
      "text/plain": [
       "a    5.0\n",
       "b    5.0\n",
       "c    5.0\n",
       "d    5.0\n",
       "e    5.0\n",
       "dtype: float64"
      ]
     },
     "execution_count": 123,
     "metadata": {},
     "output_type": "execute_result"
    }
   ],
   "source": [
    "\"\"\"In following example, a scalar value is given as data so it will be repeated to match the length of index\"\"\"\n",
    "pd.Series(5., index=['a', 'b', 'c', 'd', 'e']) "
   ]
  },
  {
   "cell_type": "markdown",
   "id": "f82fb2f9-4d69-4910-97bf-f0ec324586a7",
   "metadata": {},
   "source": [
    "## 10.4 Series is ndarray-like \n",
    "- It acts very similarly to a ndarray.\n",
    "It is a valid argument to most NumPy functions. However, things like slicing also slice the index"
   ]
  },
  {
   "cell_type": "code",
   "execution_count": 124,
   "id": "a94f9c09-cb67-42b9-bb98-feb65f524912",
   "metadata": {},
   "outputs": [
    {
     "name": "stderr",
     "output_type": "stream",
     "text": [
      "C:\\Users\\usama\\AppData\\Local\\Temp\\ipykernel_20316\\1294392724.py:3: FutureWarning: Series.__getitem__ treating keys as positions is deprecated. In a future version, integer keys will always be treated as labels (consistent with DataFrame behavior). To access a value by position, use `ser.iloc[pos]`\n",
      "  s[0]\n"
     ]
    },
    {
     "data": {
      "text/plain": [
       "np.float64(-0.6078159556721474)"
      ]
     },
     "execution_count": 124,
     "metadata": {},
     "output_type": "execute_result"
    }
   ],
   "source": [
    "#we can access a value just like ndarray \n",
    "#access single value \n",
    "s[0] "
   ]
  },
  {
   "cell_type": "markdown",
   "id": "70453d7d-618c-4e5d-a6d3-ca23c4679b29",
   "metadata": {},
   "source": [
    "- Access range of values"
   ]
  },
  {
   "cell_type": "code",
   "execution_count": 125,
   "id": "803b16e8-5a91-4745-bb2a-4c3620c49031",
   "metadata": {},
   "outputs": [
    {
     "data": {
      "text/plain": [
       "a   -0.607816\n",
       "b    0.514300\n",
       "c   -0.139488\n",
       "d   -0.050562\n",
       "e    2.138872\n",
       "dtype: float64"
      ]
     },
     "execution_count": 125,
     "metadata": {},
     "output_type": "execute_result"
    }
   ],
   "source": [
    " #access range of values \n",
    "s[:5]"
   ]
  },
  {
   "cell_type": "markdown",
   "id": "cecd0d8f-52ef-4231-96bc-e155aeef93f2",
   "metadata": {},
   "source": [
    "- Following example will return a range of values in series whose value is greater than the median of series"
   ]
  },
  {
   "cell_type": "code",
   "execution_count": 126,
   "id": "8faea36f-bb5f-4972-96e5-7ca1a3439fe1",
   "metadata": {},
   "outputs": [
    {
     "data": {
      "text/plain": [
       "b    0.514300\n",
       "e    2.138872\n",
       "dtype: float64"
      ]
     },
     "execution_count": 126,
     "metadata": {},
     "output_type": "execute_result"
    }
   ],
   "source": [
    "\"\"\" Following example will return a range of values in series whose value is greater than the median of series\"\"\" \n",
    "s[s > s.median()]"
   ]
  },
  {
   "cell_type": "markdown",
   "id": "e37dc487-c32e-42d3-8a57-e76c30f3838b",
   "metadata": {},
   "source": [
    "- Following example is return the values in series with indexes. 4,3,1 are the positions of the indexes"
   ]
  },
  {
   "cell_type": "code",
   "execution_count": 127,
   "id": "44655d17-d6e6-40fc-b4cd-b27b6dd23aed",
   "metadata": {},
   "outputs": [
    {
     "name": "stderr",
     "output_type": "stream",
     "text": [
      "C:\\Users\\usama\\AppData\\Local\\Temp\\ipykernel_20316\\2819298971.py:3: FutureWarning: Series.__getitem__ treating keys as positions is deprecated. In a future version, integer keys will always be treated as labels (consistent with DataFrame behavior). To access a value by position, use `ser.iloc[pos]`\n",
      "  s[[4, 3, 1]]\n"
     ]
    },
    {
     "data": {
      "text/plain": [
       "e    2.138872\n",
       "d   -0.050562\n",
       "b    0.514300\n",
       "dtype: float64"
      ]
     },
     "execution_count": 127,
     "metadata": {},
     "output_type": "execute_result"
    }
   ],
   "source": [
    "\"\"\"Following example is return the values in series with indexes. 4,3,1 are the positions of the indexes \n",
    "For example: the index at 4,3,1 are e,d,b respectively\"\"\" \n",
    "s[[4, 3, 1]]"
   ]
  },
  {
   "cell_type": "markdown",
   "id": "6514ad34-4b90-4c9f-afcb-29db989daeea",
   "metadata": {},
   "source": [
    "- Following example returns the exponent values."
   ]
  },
  {
   "cell_type": "code",
   "execution_count": 128,
   "id": "d0f96d72-607b-4026-9841-41b63708e6f7",
   "metadata": {},
   "outputs": [
    {
     "data": {
      "text/plain": [
       "a    0.544539\n",
       "b    1.672468\n",
       "c    0.869804\n",
       "d    0.950695\n",
       "e    8.489857\n",
       "dtype: float64"
      ]
     },
     "execution_count": 128,
     "metadata": {},
     "output_type": "execute_result"
    }
   ],
   "source": [
    "\"\"\" Following example returns the exponent values. just like e^a (here a is index and its respective data is \n",
    "placed here)\"\"\" \n",
    "np.exp(s)"
   ]
  },
  {
   "cell_type": "markdown",
   "id": "0b6ed1ac-5624-43e9-928e-2bbe7bfd32a5",
   "metadata": {},
   "source": [
    "- Following example will get the data of given index"
   ]
  },
  {
   "cell_type": "code",
   "execution_count": 129,
   "id": "fe374161-190a-4219-8023-711bd30d08cb",
   "metadata": {},
   "outputs": [
    {
     "data": {
      "text/plain": [
       "np.float64(-0.6078159556721474)"
      ]
     },
     "execution_count": 129,
     "metadata": {},
     "output_type": "execute_result"
    }
   ],
   "source": [
    "\"\"\"Following example will get the data of given index\"\"\" \n",
    "s['a'] "
   ]
  },
  {
   "cell_type": "markdown",
   "id": "baa03184-73b0-4e8b-8420-b75693d652ad",
   "metadata": {},
   "source": [
    "- Following example will update the data of the given index"
   ]
  },
  {
   "cell_type": "code",
   "execution_count": 130,
   "id": "339a572c-568b-473c-b7ec-54949fa07093",
   "metadata": {},
   "outputs": [
    {
     "data": {
      "text/plain": [
       "a    -0.607816\n",
       "b     0.514300\n",
       "c    -0.139488\n",
       "d    -0.050562\n",
       "e    12.000000\n",
       "dtype: float64"
      ]
     },
     "execution_count": 130,
     "metadata": {},
     "output_type": "execute_result"
    }
   ],
   "source": [
    "\"\"\"Following example will update the data of the given index\"\"\" \n",
    "s['e'] = 12. \n",
    "s # before updating e = 8.489857 but after updating e = 12.000000"
   ]
  },
  {
   "cell_type": "markdown",
   "id": "60084984-5db2-4fc9-857e-0e20f8830ed7",
   "metadata": {},
   "source": [
    "- Following will return true if 'e' is in the values of index otherwise false"
   ]
  },
  {
   "cell_type": "code",
   "execution_count": 73,
   "id": "b0789e2b-8dc0-47fc-b056-ea24f256d0e7",
   "metadata": {},
   "outputs": [
    {
     "data": {
      "text/plain": [
       "True"
      ]
     },
     "execution_count": 73,
     "metadata": {},
     "output_type": "execute_result"
    }
   ],
   "source": [
    "\"\"\" Following will return true if 'e' is in the values of index otherwise false\"\"\" \n",
    "'e' in s "
   ]
  },
  {
   "cell_type": "markdown",
   "id": "3ed7f275-080f-4d0d-90d0-95d06a59ea13",
   "metadata": {},
   "source": [
    "- What happens if label isnt there?"
   ]
  },
  {
   "cell_type": "code",
   "execution_count": 131,
   "id": "21ddecfe-d89c-4586-a399-340070c309ee",
   "metadata": {},
   "outputs": [
    {
     "ename": "KeyError",
     "evalue": "'f'",
     "output_type": "error",
     "traceback": [
      "\u001b[1;31m---------------------------------------------------------------------------\u001b[0m",
      "\u001b[1;31mKeyError\u001b[0m                                  Traceback (most recent call last)",
      "File \u001b[1;32m~\\anaconda3\\Lib\\site-packages\\pandas\\core\\indexes\\base.py:3805\u001b[0m, in \u001b[0;36mIndex.get_loc\u001b[1;34m(self, key)\u001b[0m\n\u001b[0;32m   3804\u001b[0m \u001b[38;5;28;01mtry\u001b[39;00m:\n\u001b[1;32m-> 3805\u001b[0m     \u001b[38;5;28;01mreturn\u001b[39;00m \u001b[38;5;28mself\u001b[39m\u001b[38;5;241m.\u001b[39m_engine\u001b[38;5;241m.\u001b[39mget_loc(casted_key)\n\u001b[0;32m   3806\u001b[0m \u001b[38;5;28;01mexcept\u001b[39;00m \u001b[38;5;167;01mKeyError\u001b[39;00m \u001b[38;5;28;01mas\u001b[39;00m err:\n",
      "File \u001b[1;32mindex.pyx:167\u001b[0m, in \u001b[0;36mpandas._libs.index.IndexEngine.get_loc\u001b[1;34m()\u001b[0m\n",
      "File \u001b[1;32mindex.pyx:196\u001b[0m, in \u001b[0;36mpandas._libs.index.IndexEngine.get_loc\u001b[1;34m()\u001b[0m\n",
      "File \u001b[1;32mpandas\\\\_libs\\\\hashtable_class_helper.pxi:7081\u001b[0m, in \u001b[0;36mpandas._libs.hashtable.PyObjectHashTable.get_item\u001b[1;34m()\u001b[0m\n",
      "File \u001b[1;32mpandas\\\\_libs\\\\hashtable_class_helper.pxi:7089\u001b[0m, in \u001b[0;36mpandas._libs.hashtable.PyObjectHashTable.get_item\u001b[1;34m()\u001b[0m\n",
      "\u001b[1;31mKeyError\u001b[0m: 'f'",
      "\nThe above exception was the direct cause of the following exception:\n",
      "\u001b[1;31mKeyError\u001b[0m                                  Traceback (most recent call last)",
      "Cell \u001b[1;32mIn[131], line 2\u001b[0m\n\u001b[0;32m      1\u001b[0m \u001b[38;5;124;03m\"\"\"If a label is not contained and you are trying to access its data, an exception is raised: \"\"\"\u001b[39;00m \n\u001b[1;32m----> 2\u001b[0m s[\u001b[38;5;124m'\u001b[39m\u001b[38;5;124mf\u001b[39m\u001b[38;5;124m'\u001b[39m]\n",
      "File \u001b[1;32m~\\anaconda3\\Lib\\site-packages\\pandas\\core\\series.py:1121\u001b[0m, in \u001b[0;36mSeries.__getitem__\u001b[1;34m(self, key)\u001b[0m\n\u001b[0;32m   1118\u001b[0m     \u001b[38;5;28;01mreturn\u001b[39;00m \u001b[38;5;28mself\u001b[39m\u001b[38;5;241m.\u001b[39m_values[key]\n\u001b[0;32m   1120\u001b[0m \u001b[38;5;28;01melif\u001b[39;00m key_is_scalar:\n\u001b[1;32m-> 1121\u001b[0m     \u001b[38;5;28;01mreturn\u001b[39;00m \u001b[38;5;28mself\u001b[39m\u001b[38;5;241m.\u001b[39m_get_value(key)\n\u001b[0;32m   1123\u001b[0m \u001b[38;5;66;03m# Convert generator to list before going through hashable part\u001b[39;00m\n\u001b[0;32m   1124\u001b[0m \u001b[38;5;66;03m# (We will iterate through the generator there to check for slices)\u001b[39;00m\n\u001b[0;32m   1125\u001b[0m \u001b[38;5;28;01mif\u001b[39;00m is_iterator(key):\n",
      "File \u001b[1;32m~\\anaconda3\\Lib\\site-packages\\pandas\\core\\series.py:1237\u001b[0m, in \u001b[0;36mSeries._get_value\u001b[1;34m(self, label, takeable)\u001b[0m\n\u001b[0;32m   1234\u001b[0m     \u001b[38;5;28;01mreturn\u001b[39;00m \u001b[38;5;28mself\u001b[39m\u001b[38;5;241m.\u001b[39m_values[label]\n\u001b[0;32m   1236\u001b[0m \u001b[38;5;66;03m# Similar to Index.get_value, but we do not fall back to positional\u001b[39;00m\n\u001b[1;32m-> 1237\u001b[0m loc \u001b[38;5;241m=\u001b[39m \u001b[38;5;28mself\u001b[39m\u001b[38;5;241m.\u001b[39mindex\u001b[38;5;241m.\u001b[39mget_loc(label)\n\u001b[0;32m   1239\u001b[0m \u001b[38;5;28;01mif\u001b[39;00m is_integer(loc):\n\u001b[0;32m   1240\u001b[0m     \u001b[38;5;28;01mreturn\u001b[39;00m \u001b[38;5;28mself\u001b[39m\u001b[38;5;241m.\u001b[39m_values[loc]\n",
      "File \u001b[1;32m~\\anaconda3\\Lib\\site-packages\\pandas\\core\\indexes\\base.py:3812\u001b[0m, in \u001b[0;36mIndex.get_loc\u001b[1;34m(self, key)\u001b[0m\n\u001b[0;32m   3807\u001b[0m     \u001b[38;5;28;01mif\u001b[39;00m \u001b[38;5;28misinstance\u001b[39m(casted_key, \u001b[38;5;28mslice\u001b[39m) \u001b[38;5;129;01mor\u001b[39;00m (\n\u001b[0;32m   3808\u001b[0m         \u001b[38;5;28misinstance\u001b[39m(casted_key, abc\u001b[38;5;241m.\u001b[39mIterable)\n\u001b[0;32m   3809\u001b[0m         \u001b[38;5;129;01mand\u001b[39;00m \u001b[38;5;28many\u001b[39m(\u001b[38;5;28misinstance\u001b[39m(x, \u001b[38;5;28mslice\u001b[39m) \u001b[38;5;28;01mfor\u001b[39;00m x \u001b[38;5;129;01min\u001b[39;00m casted_key)\n\u001b[0;32m   3810\u001b[0m     ):\n\u001b[0;32m   3811\u001b[0m         \u001b[38;5;28;01mraise\u001b[39;00m InvalidIndexError(key)\n\u001b[1;32m-> 3812\u001b[0m     \u001b[38;5;28;01mraise\u001b[39;00m \u001b[38;5;167;01mKeyError\u001b[39;00m(key) \u001b[38;5;28;01mfrom\u001b[39;00m\u001b[38;5;250m \u001b[39m\u001b[38;5;21;01merr\u001b[39;00m\n\u001b[0;32m   3813\u001b[0m \u001b[38;5;28;01mexcept\u001b[39;00m \u001b[38;5;167;01mTypeError\u001b[39;00m:\n\u001b[0;32m   3814\u001b[0m     \u001b[38;5;66;03m# If we have a listlike key, _check_indexing_error will raise\u001b[39;00m\n\u001b[0;32m   3815\u001b[0m     \u001b[38;5;66;03m#  InvalidIndexError. Otherwise we fall through and re-raise\u001b[39;00m\n\u001b[0;32m   3816\u001b[0m     \u001b[38;5;66;03m#  the TypeError.\u001b[39;00m\n\u001b[0;32m   3817\u001b[0m     \u001b[38;5;28mself\u001b[39m\u001b[38;5;241m.\u001b[39m_check_indexing_error(key)\n",
      "\u001b[1;31mKeyError\u001b[0m: 'f'"
     ]
    }
   ],
   "source": [
    "\"\"\"If a label is not contained and you are trying to access its data, an exception is raised: \"\"\" \n",
    "s['f'] \n",
    "# This will create error"
   ]
  },
  {
   "cell_type": "markdown",
   "id": "f7dd45d0-f9b2-494b-8f1f-2a7bf7f2d6da",
   "metadata": {},
   "source": [
    "- Using the get method"
   ]
  },
  {
   "cell_type": "code",
   "execution_count": 132,
   "id": "9cf9b987-f9d4-477a-87f9-a6c046770292",
   "metadata": {},
   "outputs": [
    {
     "data": {
      "text/plain": [
       "nan"
      ]
     },
     "execution_count": 132,
     "metadata": {},
     "output_type": "execute_result"
    }
   ],
   "source": [
    "\"\"\"Using the get method, a missing label will return None or specified default\"\"\" \n",
    "s.get('f') #it will return none\n",
    "s.get('f', np.nan) #it will return default value "
   ]
  },
  {
   "cell_type": "markdown",
   "id": "d67cc2fe-7cf3-499f-8afe-a0519dfc609f",
   "metadata": {},
   "source": [
    "## 10.5 Vectorized operations and label alignment with Series \n",
    "- When doing data analysis, as with raw NumPy arrays looping through Series value-by-value is usually not necessary.\n",
    "- Series can also be passed into most NumPy methods expecting an ndarray"
   ]
  },
  {
   "cell_type": "code",
   "execution_count": 134,
   "id": "4886fda3-5069-49fd-9447-b76b753d97e0",
   "metadata": {},
   "outputs": [
    {
     "data": {
      "text/plain": [
       "a    -1.215632\n",
       "b     1.028600\n",
       "c    -0.278975\n",
       "d    -0.101124\n",
       "e    24.000000\n",
       "dtype: float64"
      ]
     },
     "execution_count": 134,
     "metadata": {},
     "output_type": "execute_result"
    }
   ],
   "source": [
    "\"\"\"following will add the data of respective values of indexes. For example, in given output, it is calculated as: a = s['a'] +\n",
    "s['a'] b = s['b'] + s['b'] c = s['c'] + s['c'] d = s['d'] + s['d'] e = s['e'] + s['e'] \"\"\" \n",
    "s + s "
   ]
  },
  {
   "cell_type": "markdown",
   "id": "6113551e-a1fa-4d53-9b70-9e1dcc724aec",
   "metadata": {},
   "source": [
    "- Following will multiply the data of each values of indexes with 2."
   ]
  },
  {
   "cell_type": "code",
   "execution_count": 136,
   "id": "12861899-8435-4d99-8d38-de0d68aa5179",
   "metadata": {},
   "outputs": [
    {
     "data": {
      "text/plain": [
       "a    -1.215632\n",
       "b     1.028600\n",
       "c    -0.278975\n",
       "d    -0.101124\n",
       "e    24.000000\n",
       "dtype: float64"
      ]
     },
     "execution_count": 136,
     "metadata": {},
     "output_type": "execute_result"
    }
   ],
   "source": [
    "\"\"\"following will multiply the data of each values of indexes, with 2. For example, in given output, it is calculated as: \n",
    "a = s['a'] *2\n",
    "b = s['b'] *2\n",
    "c = s['c'] *2\n",
    "d = s['d'] *2 \n",
    "e = s['e'] *2\"\"\" \n",
    "s * 2 "
   ]
  },
  {
   "cell_type": "code",
   "execution_count": 139,
   "id": "95a19c94-09c5-43c0-8f47-675479f90370",
   "metadata": {},
   "outputs": [
    {
     "data": {
      "text/plain": [
       "0   -0.292887\n",
       "1   -0.276674\n",
       "2   -0.539779\n",
       "3   -1.680464\n",
       "4   -0.234068\n",
       "Name: something, dtype: float64"
      ]
     },
     "execution_count": 139,
     "metadata": {},
     "output_type": "execute_result"
    }
   ],
   "source": [
    "s = pd.Series(np.random.randn(5), name='something') \n",
    "s"
   ]
  },
  {
   "cell_type": "markdown",
   "id": "105ad0b6-bd89-447c-b3ad-7ccae5c616d9",
   "metadata": {},
   "source": [
    "- print the name attribute of serie"
   ]
  },
  {
   "cell_type": "code",
   "execution_count": 141,
   "id": "d5c60b64-010b-4bd5-b6ca-fc64c031f221",
   "metadata": {},
   "outputs": [
    {
     "data": {
      "text/plain": [
       "'something'"
      ]
     },
     "execution_count": 141,
     "metadata": {},
     "output_type": "execute_result"
    }
   ],
   "source": [
    "s.name #print the name attribute of series "
   ]
  },
  {
   "cell_type": "markdown",
   "id": "f544f51d-f72e-43bf-be59-5b38203821d1",
   "metadata": {},
   "source": [
    "- rename the series name attribute and assign to s2 object"
   ]
  },
  {
   "cell_type": "code",
   "execution_count": 142,
   "id": "7a50ebff-10f9-44c8-b4c6-eabc0c2b822b",
   "metadata": {},
   "outputs": [
    {
     "data": {
      "text/plain": [
       "'different'"
      ]
     },
     "execution_count": 142,
     "metadata": {},
     "output_type": "execute_result"
    }
   ],
   "source": [
    "#rename the series name attribute and assign to s2 object. Note that s and s2 refer to different objects. \n",
    "s2 = s.rename(\"different\") \n",
    "s2.name"
   ]
  },
  {
   "cell_type": "markdown",
   "id": "6b8e710d-98b9-4221-af9d-a118e8dda002",
   "metadata": {},
   "source": [
    "# 11. Data Frames \n",
    "\n",
    "- DataFrames are the workhorse of pandas"
   ]
  },
  {
   "cell_type": "markdown",
   "id": "03cd02fa-79b6-440b-abec-034a93b16511",
   "metadata": {},
   "source": [
    "## 11.1 From dict of Series or dicts\n",
    "- Create a dataframe. row label will be the indexes of a series. As coloum labels are not given so it will be sorted list of dict keys"
   ]
  },
  {
   "cell_type": "code",
   "execution_count": 143,
   "id": "bf9d15c9-7495-4086-ba06-a2b0cd2fbe56",
   "metadata": {},
   "outputs": [
    {
     "data": {
      "text/html": [
       "<div>\n",
       "<style scoped>\n",
       "    .dataframe tbody tr th:only-of-type {\n",
       "        vertical-align: middle;\n",
       "    }\n",
       "\n",
       "    .dataframe tbody tr th {\n",
       "        vertical-align: top;\n",
       "    }\n",
       "\n",
       "    .dataframe thead th {\n",
       "        text-align: right;\n",
       "    }\n",
       "</style>\n",
       "<table border=\"1\" class=\"dataframe\">\n",
       "  <thead>\n",
       "    <tr style=\"text-align: right;\">\n",
       "      <th></th>\n",
       "      <th>one</th>\n",
       "      <th>two</th>\n",
       "    </tr>\n",
       "  </thead>\n",
       "  <tbody>\n",
       "    <tr>\n",
       "      <th>a</th>\n",
       "      <td>1.0</td>\n",
       "      <td>1.0</td>\n",
       "    </tr>\n",
       "    <tr>\n",
       "      <th>b</th>\n",
       "      <td>2.0</td>\n",
       "      <td>2.0</td>\n",
       "    </tr>\n",
       "    <tr>\n",
       "      <th>c</th>\n",
       "      <td>3.0</td>\n",
       "      <td>3.0</td>\n",
       "    </tr>\n",
       "    <tr>\n",
       "      <th>d</th>\n",
       "      <td>NaN</td>\n",
       "      <td>4.0</td>\n",
       "    </tr>\n",
       "  </tbody>\n",
       "</table>\n",
       "</div>"
      ],
      "text/plain": [
       "   one  two\n",
       "a  1.0  1.0\n",
       "b  2.0  2.0\n",
       "c  3.0  3.0\n",
       "d  NaN  4.0"
      ]
     },
     "execution_count": 143,
     "metadata": {},
     "output_type": "execute_result"
    }
   ],
   "source": [
    "\"\"\" A dict is created \"\"\"\n",
    "d = { 'one' : pd.Series([1., 2., 3.], index=['a', 'b', 'c']),\n",
    " 'two' : pd.Series([1., 2., 3., 4.], index=['a', 'b', 'c', 'd']) \n",
    "} \n",
    "df=pd.DataFrame(d) \n",
    "df"
   ]
  },
  {
   "cell_type": "markdown",
   "id": "39077ec2-e384-4aa1-930d-3f28e8c1584e",
   "metadata": {},
   "source": [
    "- A data frame will be constructed for given row labels"
   ]
  },
  {
   "cell_type": "code",
   "execution_count": 144,
   "id": "6d2f7cae-c74b-4241-8d14-ba105d701282",
   "metadata": {},
   "outputs": [
    {
     "data": {
      "text/html": [
       "<div>\n",
       "<style scoped>\n",
       "    .dataframe tbody tr th:only-of-type {\n",
       "        vertical-align: middle;\n",
       "    }\n",
       "\n",
       "    .dataframe tbody tr th {\n",
       "        vertical-align: top;\n",
       "    }\n",
       "\n",
       "    .dataframe thead th {\n",
       "        text-align: right;\n",
       "    }\n",
       "</style>\n",
       "<table border=\"1\" class=\"dataframe\">\n",
       "  <thead>\n",
       "    <tr style=\"text-align: right;\">\n",
       "      <th></th>\n",
       "      <th>one</th>\n",
       "      <th>two</th>\n",
       "    </tr>\n",
       "  </thead>\n",
       "  <tbody>\n",
       "    <tr>\n",
       "      <th>d</th>\n",
       "      <td>NaN</td>\n",
       "      <td>4.0</td>\n",
       "    </tr>\n",
       "    <tr>\n",
       "      <th>b</th>\n",
       "      <td>2.0</td>\n",
       "      <td>2.0</td>\n",
       "    </tr>\n",
       "    <tr>\n",
       "      <th>a</th>\n",
       "      <td>1.0</td>\n",
       "      <td>1.0</td>\n",
       "    </tr>\n",
       "  </tbody>\n",
       "</table>\n",
       "</div>"
      ],
      "text/plain": [
       "   one  two\n",
       "d  NaN  4.0\n",
       "b  2.0  2.0\n",
       "a  1.0  1.0"
      ]
     },
     "execution_count": 144,
     "metadata": {},
     "output_type": "execute_result"
    }
   ],
   "source": [
    "\"\"\" a data frame will be constructed for given row labels\"\"\"\n",
    "pd.DataFrame(d, index=['d', 'b', 'a']) "
   ]
  },
  {
   "cell_type": "markdown",
   "id": "1ed7ec72-1aad-4ea9-8329-d74d23ee444a",
   "metadata": {},
   "source": [
    "- Following example shows a data frame when we give coloumn labels"
   ]
  },
  {
   "cell_type": "code",
   "execution_count": 145,
   "id": "bfd33e55-9318-472e-a12a-0724497ced30",
   "metadata": {},
   "outputs": [
    {
     "data": {
      "text/html": [
       "<div>\n",
       "<style scoped>\n",
       "    .dataframe tbody tr th:only-of-type {\n",
       "        vertical-align: middle;\n",
       "    }\n",
       "\n",
       "    .dataframe tbody tr th {\n",
       "        vertical-align: top;\n",
       "    }\n",
       "\n",
       "    .dataframe thead th {\n",
       "        text-align: right;\n",
       "    }\n",
       "</style>\n",
       "<table border=\"1\" class=\"dataframe\">\n",
       "  <thead>\n",
       "    <tr style=\"text-align: right;\">\n",
       "      <th></th>\n",
       "      <th>two</th>\n",
       "      <th>three</th>\n",
       "    </tr>\n",
       "  </thead>\n",
       "  <tbody>\n",
       "    <tr>\n",
       "      <th>d</th>\n",
       "      <td>4.0</td>\n",
       "      <td>NaN</td>\n",
       "    </tr>\n",
       "    <tr>\n",
       "      <th>b</th>\n",
       "      <td>2.0</td>\n",
       "      <td>NaN</td>\n",
       "    </tr>\n",
       "    <tr>\n",
       "      <th>a</th>\n",
       "      <td>1.0</td>\n",
       "      <td>NaN</td>\n",
       "    </tr>\n",
       "  </tbody>\n",
       "</table>\n",
       "</div>"
      ],
      "text/plain": [
       "   two three\n",
       "d  4.0   NaN\n",
       "b  2.0   NaN\n",
       "a  1.0   NaN"
      ]
     },
     "execution_count": 145,
     "metadata": {},
     "output_type": "execute_result"
    }
   ],
   "source": [
    "\"\"\"following example shows a data frame when we give coloumn labels\"\"\"\n",
    "pd.DataFrame(d, index=['d', 'b', 'a'], columns=['two', 'three'])"
   ]
  },
  {
   "cell_type": "code",
   "execution_count": 146,
   "id": "69dcadef-7380-4bfa-858c-7d44e949115a",
   "metadata": {},
   "outputs": [
    {
     "data": {
      "text/plain": [
       "Index(['one', 'two'], dtype='object')"
      ]
     },
     "execution_count": 146,
     "metadata": {},
     "output_type": "execute_result"
    }
   ],
   "source": [
    "df.columns"
   ]
  },
  {
   "cell_type": "markdown",
   "id": "8596e510-15af-4050-ae90-ebaa59f6ebf5",
   "metadata": {},
   "source": [
    "## 11.2 From dict of ndarrays / lists \n",
    "- Following examples shows that ndarray has same length"
   ]
  },
  {
   "cell_type": "code",
   "execution_count": 149,
   "id": "8570b971-58b9-4d4b-8ffa-4bd178b5a108",
   "metadata": {},
   "outputs": [
    {
     "data": {
      "text/html": [
       "<div>\n",
       "<style scoped>\n",
       "    .dataframe tbody tr th:only-of-type {\n",
       "        vertical-align: middle;\n",
       "    }\n",
       "\n",
       "    .dataframe tbody tr th {\n",
       "        vertical-align: top;\n",
       "    }\n",
       "\n",
       "    .dataframe thead th {\n",
       "        text-align: right;\n",
       "    }\n",
       "</style>\n",
       "<table border=\"1\" class=\"dataframe\">\n",
       "  <thead>\n",
       "    <tr style=\"text-align: right;\">\n",
       "      <th></th>\n",
       "      <th>one</th>\n",
       "      <th>two</th>\n",
       "    </tr>\n",
       "  </thead>\n",
       "  <tbody>\n",
       "    <tr>\n",
       "      <th>0</th>\n",
       "      <td>1.0</td>\n",
       "      <td>4.0</td>\n",
       "    </tr>\n",
       "    <tr>\n",
       "      <th>1</th>\n",
       "      <td>2.0</td>\n",
       "      <td>3.0</td>\n",
       "    </tr>\n",
       "    <tr>\n",
       "      <th>2</th>\n",
       "      <td>3.0</td>\n",
       "      <td>2.0</td>\n",
       "    </tr>\n",
       "    <tr>\n",
       "      <th>3</th>\n",
       "      <td>4.0</td>\n",
       "      <td>1.0</td>\n",
       "    </tr>\n",
       "  </tbody>\n",
       "</table>\n",
       "</div>"
      ],
      "text/plain": [
       "   one  two\n",
       "0  1.0  4.0\n",
       "1  2.0  3.0\n",
       "2  3.0  2.0\n",
       "3  4.0  1.0"
      ]
     },
     "execution_count": 149,
     "metadata": {},
     "output_type": "execute_result"
    }
   ],
   "source": [
    "\"\"\"following examples shows that ndarray has same length\"\"\"\n",
    "d = { 'one' : [1., 2., 3., 4.], 'two' : [4., 3., 2., 1.] } \n",
    "\"\"\"column labels are not given so the result will be range(n), where n is the array length\"\"\" \n",
    "pd.DataFrame(d)"
   ]
  },
  {
   "cell_type": "markdown",
   "id": "81e7828e-efa6-4785-aba5-74493f86b1a2",
   "metadata": {},
   "source": [
    "- If indexs are given then it would be same length as arrays"
   ]
  },
  {
   "cell_type": "code",
   "execution_count": 84,
   "id": "5658e530-4975-42a0-8820-12b50611e75c",
   "metadata": {},
   "outputs": [
    {
     "data": {
      "text/html": [
       "<div>\n",
       "<style scoped>\n",
       "    .dataframe tbody tr th:only-of-type {\n",
       "        vertical-align: middle;\n",
       "    }\n",
       "\n",
       "    .dataframe tbody tr th {\n",
       "        vertical-align: top;\n",
       "    }\n",
       "\n",
       "    .dataframe thead th {\n",
       "        text-align: right;\n",
       "    }\n",
       "</style>\n",
       "<table border=\"1\" class=\"dataframe\">\n",
       "  <thead>\n",
       "    <tr style=\"text-align: right;\">\n",
       "      <th></th>\n",
       "      <th>one</th>\n",
       "      <th>two</th>\n",
       "    </tr>\n",
       "  </thead>\n",
       "  <tbody>\n",
       "    <tr>\n",
       "      <th>a</th>\n",
       "      <td>1.0</td>\n",
       "      <td>4.0</td>\n",
       "    </tr>\n",
       "    <tr>\n",
       "      <th>b</th>\n",
       "      <td>2.0</td>\n",
       "      <td>3.0</td>\n",
       "    </tr>\n",
       "    <tr>\n",
       "      <th>c</th>\n",
       "      <td>3.0</td>\n",
       "      <td>2.0</td>\n",
       "    </tr>\n",
       "    <tr>\n",
       "      <th>d</th>\n",
       "      <td>4.0</td>\n",
       "      <td>1.0</td>\n",
       "    </tr>\n",
       "  </tbody>\n",
       "</table>\n",
       "</div>"
      ],
      "text/plain": [
       "   one  two\n",
       "a  1.0  4.0\n",
       "b  2.0  3.0\n",
       "c  3.0  2.0\n",
       "d  4.0  1.0"
      ]
     },
     "execution_count": 84,
     "metadata": {},
     "output_type": "execute_result"
    }
   ],
   "source": [
    "\"\"\"If indexs are given then it would be same length as arrays\"\"\"\n",
    "pd.DataFrame(d, index=['a', 'b', 'c', 'd']) "
   ]
  },
  {
   "cell_type": "markdown",
   "id": "6c393f61-9c4e-45d4-b7cd-0270b808bfff",
   "metadata": {},
   "source": [
    "## 11.3 From a list of dicts\n",
    "- Constructing data frame from a list of dicts"
   ]
  },
  {
   "cell_type": "code",
   "execution_count": 150,
   "id": "53ef12d8-b9a1-42ec-9b79-a2e72704718c",
   "metadata": {},
   "outputs": [
    {
     "data": {
      "text/html": [
       "<div>\n",
       "<style scoped>\n",
       "    .dataframe tbody tr th:only-of-type {\n",
       "        vertical-align: middle;\n",
       "    }\n",
       "\n",
       "    .dataframe tbody tr th {\n",
       "        vertical-align: top;\n",
       "    }\n",
       "\n",
       "    .dataframe thead th {\n",
       "        text-align: right;\n",
       "    }\n",
       "</style>\n",
       "<table border=\"1\" class=\"dataframe\">\n",
       "  <thead>\n",
       "    <tr style=\"text-align: right;\">\n",
       "      <th></th>\n",
       "      <th>a</th>\n",
       "      <th>b</th>\n",
       "      <th>c</th>\n",
       "    </tr>\n",
       "  </thead>\n",
       "  <tbody>\n",
       "    <tr>\n",
       "      <th>0</th>\n",
       "      <td>1</td>\n",
       "      <td>2</td>\n",
       "      <td>NaN</td>\n",
       "    </tr>\n",
       "    <tr>\n",
       "      <th>1</th>\n",
       "      <td>5</td>\n",
       "      <td>10</td>\n",
       "      <td>20.0</td>\n",
       "    </tr>\n",
       "  </tbody>\n",
       "</table>\n",
       "</div>"
      ],
      "text/plain": [
       "   a   b     c\n",
       "0  1   2   NaN\n",
       "1  5  10  20.0"
      ]
     },
     "execution_count": 150,
     "metadata": {},
     "output_type": "execute_result"
    }
   ],
   "source": [
    "\"\"\"constructing data frame from a list of dicts\"\"\" \n",
    "data2 = [{'a': 1, 'b': 2}, {'a': 5, 'b': 10, 'c': 20}]\n",
    "pd.DataFrame(data2)"
   ]
  },
  {
   "cell_type": "markdown",
   "id": "fcce96c6-abab-4eea-8723-00fa6a807135",
   "metadata": {},
   "source": [
    "- Passing list of dicts as data and indexes (row labels)"
   ]
  },
  {
   "cell_type": "code",
   "execution_count": 151,
   "id": "4192077d-40ae-4afc-b678-3bbfca52b6ef",
   "metadata": {},
   "outputs": [
    {
     "data": {
      "text/html": [
       "<div>\n",
       "<style scoped>\n",
       "    .dataframe tbody tr th:only-of-type {\n",
       "        vertical-align: middle;\n",
       "    }\n",
       "\n",
       "    .dataframe tbody tr th {\n",
       "        vertical-align: top;\n",
       "    }\n",
       "\n",
       "    .dataframe thead th {\n",
       "        text-align: right;\n",
       "    }\n",
       "</style>\n",
       "<table border=\"1\" class=\"dataframe\">\n",
       "  <thead>\n",
       "    <tr style=\"text-align: right;\">\n",
       "      <th></th>\n",
       "      <th>a</th>\n",
       "      <th>b</th>\n",
       "      <th>c</th>\n",
       "    </tr>\n",
       "  </thead>\n",
       "  <tbody>\n",
       "    <tr>\n",
       "      <th>first</th>\n",
       "      <td>1</td>\n",
       "      <td>2</td>\n",
       "      <td>NaN</td>\n",
       "    </tr>\n",
       "    <tr>\n",
       "      <th>second</th>\n",
       "      <td>5</td>\n",
       "      <td>10</td>\n",
       "      <td>20.0</td>\n",
       "    </tr>\n",
       "  </tbody>\n",
       "</table>\n",
       "</div>"
      ],
      "text/plain": [
       "        a   b     c\n",
       "first   1   2   NaN\n",
       "second  5  10  20.0"
      ]
     },
     "execution_count": 151,
     "metadata": {},
     "output_type": "execute_result"
    }
   ],
   "source": [
    "\"\"\"passing list of dicts as data and indexes (row labels)\"\"\" \n",
    "pd.DataFrame(data2, index=['first', 'second'])"
   ]
  },
  {
   "cell_type": "markdown",
   "id": "f7dfee8e-82bc-477d-95fc-2f15198ff69d",
   "metadata": {},
   "source": [
    "- Passing list of dicts as data and columns (columns labels)"
   ]
  },
  {
   "cell_type": "code",
   "execution_count": 152,
   "id": "c1c6e50c-88da-40d8-afb4-52a3f33d85b8",
   "metadata": {},
   "outputs": [
    {
     "data": {
      "text/html": [
       "<div>\n",
       "<style scoped>\n",
       "    .dataframe tbody tr th:only-of-type {\n",
       "        vertical-align: middle;\n",
       "    }\n",
       "\n",
       "    .dataframe tbody tr th {\n",
       "        vertical-align: top;\n",
       "    }\n",
       "\n",
       "    .dataframe thead th {\n",
       "        text-align: right;\n",
       "    }\n",
       "</style>\n",
       "<table border=\"1\" class=\"dataframe\">\n",
       "  <thead>\n",
       "    <tr style=\"text-align: right;\">\n",
       "      <th></th>\n",
       "      <th>a</th>\n",
       "      <th>b</th>\n",
       "    </tr>\n",
       "  </thead>\n",
       "  <tbody>\n",
       "    <tr>\n",
       "      <th>0</th>\n",
       "      <td>1</td>\n",
       "      <td>2</td>\n",
       "    </tr>\n",
       "    <tr>\n",
       "      <th>1</th>\n",
       "      <td>5</td>\n",
       "      <td>10</td>\n",
       "    </tr>\n",
       "  </tbody>\n",
       "</table>\n",
       "</div>"
      ],
      "text/plain": [
       "   a   b\n",
       "0  1   2\n",
       "1  5  10"
      ]
     },
     "execution_count": 152,
     "metadata": {},
     "output_type": "execute_result"
    }
   ],
   "source": [
    "\"\"\"passing list of dicts as data and columns (columns labels)\"\"\"\n",
    "pd.DataFrame(data2, columns=['a', 'b']) "
   ]
  },
  {
   "cell_type": "markdown",
   "id": "b4fe3e1e-fec1-40c1-b90a-82c8db6f9a24",
   "metadata": {},
   "source": [
    "## 11.4 From a dict of tuples\n",
    "- Automatically creating a multi-indexed frame by passing a tuples dictionary\n"
   ]
  },
  {
   "cell_type": "code",
   "execution_count": 154,
   "id": "cb8b8ba9-48a3-4a9b-863f-1876da1a2913",
   "metadata": {},
   "outputs": [
    {
     "data": {
      "text/html": [
       "<div>\n",
       "<style scoped>\n",
       "    .dataframe tbody tr th:only-of-type {\n",
       "        vertical-align: middle;\n",
       "    }\n",
       "\n",
       "    .dataframe tbody tr th {\n",
       "        vertical-align: top;\n",
       "    }\n",
       "\n",
       "    .dataframe thead tr th {\n",
       "        text-align: left;\n",
       "    }\n",
       "</style>\n",
       "<table border=\"1\" class=\"dataframe\">\n",
       "  <thead>\n",
       "    <tr>\n",
       "      <th></th>\n",
       "      <th></th>\n",
       "      <th colspan=\"3\" halign=\"left\">a</th>\n",
       "      <th colspan=\"2\" halign=\"left\">b</th>\n",
       "    </tr>\n",
       "    <tr>\n",
       "      <th></th>\n",
       "      <th></th>\n",
       "      <th>b</th>\n",
       "      <th>a</th>\n",
       "      <th>c</th>\n",
       "      <th>a</th>\n",
       "      <th>b</th>\n",
       "    </tr>\n",
       "  </thead>\n",
       "  <tbody>\n",
       "    <tr>\n",
       "      <th rowspan=\"3\" valign=\"top\">A</th>\n",
       "      <th>B</th>\n",
       "      <td>1.0</td>\n",
       "      <td>4.0</td>\n",
       "      <td>5.0</td>\n",
       "      <td>8.0</td>\n",
       "      <td>10.0</td>\n",
       "    </tr>\n",
       "    <tr>\n",
       "      <th>C</th>\n",
       "      <td>2.0</td>\n",
       "      <td>3.0</td>\n",
       "      <td>6.0</td>\n",
       "      <td>7.0</td>\n",
       "      <td>NaN</td>\n",
       "    </tr>\n",
       "    <tr>\n",
       "      <th>D</th>\n",
       "      <td>NaN</td>\n",
       "      <td>NaN</td>\n",
       "      <td>NaN</td>\n",
       "      <td>NaN</td>\n",
       "      <td>9.0</td>\n",
       "    </tr>\n",
       "  </tbody>\n",
       "</table>\n",
       "</div>"
      ],
      "text/plain": [
       "       a              b      \n",
       "       b    a    c    a     b\n",
       "A B  1.0  4.0  5.0  8.0  10.0\n",
       "  C  2.0  3.0  6.0  7.0   NaN\n",
       "  D  NaN  NaN  NaN  NaN   9.0"
      ]
     },
     "execution_count": 154,
     "metadata": {},
     "output_type": "execute_result"
    }
   ],
   "source": [
    "pd.DataFrame({('a', 'b'): {('A', 'B'): 1, ('A', 'C'): 2}, ('a', 'a'): {('A', 'C'): 3, ('A', 'B'): 4}, ('a', 'c'): {('A', 'B'): 5, ('A', 'C'): 6},\n",
    " ('b', 'a'): {('A', 'C'): 7, ('A', 'B'): 8}, ('b', 'b'): {('A', 'D'): 9, ('A', 'B'): 10}})\n",
    " #\"NaN shows missing data"
   ]
  },
  {
   "cell_type": "markdown",
   "id": "157f4443-70af-4d91-a6a6-ba5f75daca0a",
   "metadata": {},
   "source": [
    "## 11.5 Alternate Constructors \n",
    "- The below code demostrates the use of alternate constructors:"
   ]
  },
  {
   "cell_type": "code",
   "execution_count": 155,
   "id": "7e868524-3c12-4e27-83ca-bb207dea981c",
   "metadata": {},
   "outputs": [
    {
     "name": "stderr",
     "output_type": "stream",
     "text": [
      "C:\\Users\\usama\\AppData\\Local\\Temp\\ipykernel_20316\\3180067374.py:1: DeprecationWarning: Data type alias 'a' was deprecated in NumPy 2.0. Use the 'S' alias instead.\n",
      "  data = np.zeros((2,), dtype=[('A', 'i4'),('B', 'f4'),('C', 'a10')])\n"
     ]
    },
    {
     "data": {
      "text/plain": [
       "array([(0, 0., b''), (0, 0., b'')],\n",
       "      dtype=[('A', '<i4'), ('B', '<f4'), ('C', 'S10')])"
      ]
     },
     "execution_count": 155,
     "metadata": {},
     "output_type": "execute_result"
    }
   ],
   "source": [
    "data = np.zeros((2,), dtype=[('A', 'i4'),('B', 'f4'),('C', 'a10')]) \n",
    "data"
   ]
  },
  {
   "cell_type": "code",
   "execution_count": 156,
   "id": "39a50803-02dc-42d9-9a88-df80f1413119",
   "metadata": {},
   "outputs": [
    {
     "data": {
      "text/html": [
       "<div>\n",
       "<style scoped>\n",
       "    .dataframe tbody tr th:only-of-type {\n",
       "        vertical-align: middle;\n",
       "    }\n",
       "\n",
       "    .dataframe tbody tr th {\n",
       "        vertical-align: top;\n",
       "    }\n",
       "\n",
       "    .dataframe thead th {\n",
       "        text-align: right;\n",
       "    }\n",
       "</style>\n",
       "<table border=\"1\" class=\"dataframe\">\n",
       "  <thead>\n",
       "    <tr style=\"text-align: right;\">\n",
       "      <th></th>\n",
       "      <th>A</th>\n",
       "      <th>B</th>\n",
       "    </tr>\n",
       "    <tr>\n",
       "      <th>C</th>\n",
       "      <th></th>\n",
       "      <th></th>\n",
       "    </tr>\n",
       "  </thead>\n",
       "  <tbody>\n",
       "    <tr>\n",
       "      <th>b''</th>\n",
       "      <td>0</td>\n",
       "      <td>0.0</td>\n",
       "    </tr>\n",
       "    <tr>\n",
       "      <th>b''</th>\n",
       "      <td>0</td>\n",
       "      <td>0.0</td>\n",
       "    </tr>\n",
       "  </tbody>\n",
       "</table>\n",
       "</div>"
      ],
      "text/plain": [
       "     A    B\n",
       "C          \n",
       "b''  0  0.0\n",
       "b''  0  0.0"
      ]
     },
     "execution_count": 156,
     "metadata": {},
     "output_type": "execute_result"
    }
   ],
   "source": [
    "pd.DataFrame.from_records(data, index='C')"
   ]
  },
  {
   "cell_type": "markdown",
   "id": "74bfa4cb-c02d-4c73-8fd7-a294539ec625",
   "metadata": {},
   "source": [
    "- Using from_items. But gives error\n",
    "- Can be resolved by using from_dict()"
   ]
  },
  {
   "cell_type": "code",
   "execution_count": 166,
   "id": "dee8f2d1-0622-40a6-96d1-355eb54c0222",
   "metadata": {},
   "outputs": [
    {
     "ename": "AttributeError",
     "evalue": "type object 'DataFrame' has no attribute 'from_items'",
     "output_type": "error",
     "traceback": [
      "\u001b[1;31m---------------------------------------------------------------------------\u001b[0m",
      "\u001b[1;31mAttributeError\u001b[0m                            Traceback (most recent call last)",
      "Cell \u001b[1;32mIn[166], line 1\u001b[0m\n\u001b[1;32m----> 1\u001b[0m pd\u001b[38;5;241m.\u001b[39mDataFrame\u001b[38;5;241m.\u001b[39mfrom_items([(\u001b[38;5;124m'\u001b[39m\u001b[38;5;124mA\u001b[39m\u001b[38;5;124m'\u001b[39m, [\u001b[38;5;241m1\u001b[39m, \u001b[38;5;241m2\u001b[39m, \u001b[38;5;241m3\u001b[39m]), (\u001b[38;5;124m'\u001b[39m\u001b[38;5;124mB\u001b[39m\u001b[38;5;124m'\u001b[39m, [\u001b[38;5;241m4\u001b[39m, \u001b[38;5;241m5\u001b[39m, \u001b[38;5;241m6\u001b[39m])])\n",
      "\u001b[1;31mAttributeError\u001b[0m: type object 'DataFrame' has no attribute 'from_items'"
     ]
    }
   ],
   "source": [
    "pd.DataFrame.from_items([('A', [1, 2, 3]), ('B', [4, 5, 6])])"
   ]
  },
  {
   "cell_type": "markdown",
   "id": "8716cac4-9496-4c6d-bb73-43119e60fa3c",
   "metadata": {},
   "source": [
    "- Gives error. Wasnt able to resolve even with dict()"
   ]
  },
  {
   "cell_type": "code",
   "execution_count": 168,
   "id": "fe867d54-0adc-493f-8f10-18a32bbb84a5",
   "metadata": {},
   "outputs": [
    {
     "ename": "AttributeError",
     "evalue": "type object 'DataFrame' has no attribute 'from_items'",
     "output_type": "error",
     "traceback": [
      "\u001b[1;31m---------------------------------------------------------------------------\u001b[0m",
      "\u001b[1;31mAttributeError\u001b[0m                            Traceback (most recent call last)",
      "Cell \u001b[1;32mIn[168], line 1\u001b[0m\n\u001b[1;32m----> 1\u001b[0m pd\u001b[38;5;241m.\u001b[39mDataFrame\u001b[38;5;241m.\u001b[39mfrom_items([(\u001b[38;5;124m'\u001b[39m\u001b[38;5;124mA\u001b[39m\u001b[38;5;124m'\u001b[39m, [\u001b[38;5;241m1\u001b[39m, \u001b[38;5;241m2\u001b[39m, \u001b[38;5;241m3\u001b[39m]), (\u001b[38;5;124m'\u001b[39m\u001b[38;5;124mB\u001b[39m\u001b[38;5;124m'\u001b[39m, [\u001b[38;5;241m4\u001b[39m, \u001b[38;5;241m5\u001b[39m, \u001b[38;5;241m6\u001b[39m])], orient\u001b[38;5;241m=\u001b[39m\u001b[38;5;124m'\u001b[39m\u001b[38;5;124mindex\u001b[39m\u001b[38;5;124m'\u001b[39m, columns\u001b[38;5;241m=\u001b[39m[\u001b[38;5;124m'\u001b[39m\u001b[38;5;124mone\u001b[39m\u001b[38;5;124m'\u001b[39m, \u001b[38;5;124m'\u001b[39m\u001b[38;5;124mtwo\u001b[39m\u001b[38;5;124m'\u001b[39m, \u001b[38;5;124m'\u001b[39m\u001b[38;5;124mthree\u001b[39m\u001b[38;5;124m'\u001b[39m])\n",
      "\u001b[1;31mAttributeError\u001b[0m: type object 'DataFrame' has no attribute 'from_items'"
     ]
    }
   ],
   "source": [
    "pd.DataFrame.from_items([('A', [1, 2, 3]), ('B', [4, 5, 6])], orient='index', columns=['one', 'two', 'three'])"
   ]
  },
  {
   "cell_type": "markdown",
   "id": "9d694954-3353-4a31-a962-6c8af888dbb5",
   "metadata": {},
   "source": [
    "## 11.6 Column selection, addition, deletion  \n",
    "- Operations on coloumns."
   ]
  },
  {
   "cell_type": "code",
   "execution_count": 169,
   "id": "6b9a66b8-9211-44e7-b553-a640df531f76",
   "metadata": {},
   "outputs": [
    {
     "data": {
      "text/plain": [
       "a    1.0\n",
       "b    2.0\n",
       "c    3.0\n",
       "d    NaN\n",
       "Name: one, dtype: float64"
      ]
     },
     "execution_count": 169,
     "metadata": {},
     "output_type": "execute_result"
    }
   ],
   "source": [
    "df['one'] # it is displaying data under coloumn 'one' "
   ]
  },
  {
   "cell_type": "code",
   "execution_count": 170,
   "id": "2e6a190d-30f2-4306-9383-c65a3f6c53c9",
   "metadata": {},
   "outputs": [],
   "source": [
    "df['three'] = df['one'] * df['two'] # assigning values to a colomn named 'three' after calculation"
   ]
  },
  {
   "cell_type": "code",
   "execution_count": 171,
   "id": "def1203a-9f3e-4c66-9a59-d206bc679c3e",
   "metadata": {},
   "outputs": [],
   "source": [
    "df['flag'] = df['one'] > 2 #check if value at column 'one' is > 2 then assign True otherwise false"
   ]
  },
  {
   "cell_type": "code",
   "execution_count": 172,
   "id": "b1ad3e49-11c2-4b74-9546-5aa13c27384a",
   "metadata": {},
   "outputs": [
    {
     "data": {
      "text/html": [
       "<div>\n",
       "<style scoped>\n",
       "    .dataframe tbody tr th:only-of-type {\n",
       "        vertical-align: middle;\n",
       "    }\n",
       "\n",
       "    .dataframe tbody tr th {\n",
       "        vertical-align: top;\n",
       "    }\n",
       "\n",
       "    .dataframe thead th {\n",
       "        text-align: right;\n",
       "    }\n",
       "</style>\n",
       "<table border=\"1\" class=\"dataframe\">\n",
       "  <thead>\n",
       "    <tr style=\"text-align: right;\">\n",
       "      <th></th>\n",
       "      <th>one</th>\n",
       "      <th>two</th>\n",
       "      <th>three</th>\n",
       "      <th>flag</th>\n",
       "    </tr>\n",
       "  </thead>\n",
       "  <tbody>\n",
       "    <tr>\n",
       "      <th>a</th>\n",
       "      <td>1.0</td>\n",
       "      <td>1.0</td>\n",
       "      <td>1.0</td>\n",
       "      <td>False</td>\n",
       "    </tr>\n",
       "    <tr>\n",
       "      <th>b</th>\n",
       "      <td>2.0</td>\n",
       "      <td>2.0</td>\n",
       "      <td>4.0</td>\n",
       "      <td>False</td>\n",
       "    </tr>\n",
       "    <tr>\n",
       "      <th>c</th>\n",
       "      <td>3.0</td>\n",
       "      <td>3.0</td>\n",
       "      <td>9.0</td>\n",
       "      <td>True</td>\n",
       "    </tr>\n",
       "    <tr>\n",
       "      <th>d</th>\n",
       "      <td>NaN</td>\n",
       "      <td>4.0</td>\n",
       "      <td>NaN</td>\n",
       "      <td>False</td>\n",
       "    </tr>\n",
       "  </tbody>\n",
       "</table>\n",
       "</div>"
      ],
      "text/plain": [
       "   one  two  three   flag\n",
       "a  1.0  1.0    1.0  False\n",
       "b  2.0  2.0    4.0  False\n",
       "c  3.0  3.0    9.0   True\n",
       "d  NaN  4.0    NaN  False"
      ]
     },
     "execution_count": 172,
     "metadata": {},
     "output_type": "execute_result"
    }
   ],
   "source": [
    "df"
   ]
  },
  {
   "cell_type": "markdown",
   "id": "49f52790-7759-4c75-9ee7-5d1ec0cb6a7c",
   "metadata": {},
   "source": [
    "- Columns can be deleted or popped like with a dict"
   ]
  },
  {
   "cell_type": "code",
   "execution_count": 173,
   "id": "7c2db077-19d1-4480-bc87-c7d2b200b7b1",
   "metadata": {},
   "outputs": [],
   "source": [
    "del df['two'] #delete a coloumn 'two' from data frame"
   ]
  },
  {
   "cell_type": "code",
   "execution_count": 174,
   "id": "5eca0cd8-6ef7-4732-b274-e727b394ee2d",
   "metadata": {},
   "outputs": [],
   "source": [
    "three = df.pop('three') #pop a complete coloumn 'three' from dataframe"
   ]
  },
  {
   "cell_type": "code",
   "execution_count": 175,
   "id": "7a694593-f1b5-471e-9fc3-a455b644e6d5",
   "metadata": {},
   "outputs": [
    {
     "data": {
      "text/html": [
       "<div>\n",
       "<style scoped>\n",
       "    .dataframe tbody tr th:only-of-type {\n",
       "        vertical-align: middle;\n",
       "    }\n",
       "\n",
       "    .dataframe tbody tr th {\n",
       "        vertical-align: top;\n",
       "    }\n",
       "\n",
       "    .dataframe thead th {\n",
       "        text-align: right;\n",
       "    }\n",
       "</style>\n",
       "<table border=\"1\" class=\"dataframe\">\n",
       "  <thead>\n",
       "    <tr style=\"text-align: right;\">\n",
       "      <th></th>\n",
       "      <th>one</th>\n",
       "      <th>flag</th>\n",
       "    </tr>\n",
       "  </thead>\n",
       "  <tbody>\n",
       "    <tr>\n",
       "      <th>a</th>\n",
       "      <td>1.0</td>\n",
       "      <td>False</td>\n",
       "    </tr>\n",
       "    <tr>\n",
       "      <th>b</th>\n",
       "      <td>2.0</td>\n",
       "      <td>False</td>\n",
       "    </tr>\n",
       "    <tr>\n",
       "      <th>c</th>\n",
       "      <td>3.0</td>\n",
       "      <td>True</td>\n",
       "    </tr>\n",
       "    <tr>\n",
       "      <th>d</th>\n",
       "      <td>NaN</td>\n",
       "      <td>False</td>\n",
       "    </tr>\n",
       "  </tbody>\n",
       "</table>\n",
       "</div>"
      ],
      "text/plain": [
       "   one   flag\n",
       "a  1.0  False\n",
       "b  2.0  False\n",
       "c  3.0   True\n",
       "d  NaN  False"
      ]
     },
     "execution_count": 175,
     "metadata": {},
     "output_type": "execute_result"
    }
   ],
   "source": [
    "df"
   ]
  },
  {
   "cell_type": "markdown",
   "id": "ff677f43-a4a9-4f17-b357-4e99a6dbd3d8",
   "metadata": {},
   "source": [
    "- When inserting a scalar value, it will naturally be propagated to fill the column:"
   ]
  },
  {
   "cell_type": "code",
   "execution_count": 176,
   "id": "81f54e33-5501-4e75-b621-78c83d2b022b",
   "metadata": {},
   "outputs": [],
   "source": [
    " df['foo'] = 'bar' #a coloumn 'foo' will be populated with 'bar'"
   ]
  },
  {
   "cell_type": "code",
   "execution_count": 177,
   "id": "41b275a4-76f9-4fd1-8b56-b2d8e39a6589",
   "metadata": {},
   "outputs": [
    {
     "data": {
      "text/html": [
       "<div>\n",
       "<style scoped>\n",
       "    .dataframe tbody tr th:only-of-type {\n",
       "        vertical-align: middle;\n",
       "    }\n",
       "\n",
       "    .dataframe tbody tr th {\n",
       "        vertical-align: top;\n",
       "    }\n",
       "\n",
       "    .dataframe thead th {\n",
       "        text-align: right;\n",
       "    }\n",
       "</style>\n",
       "<table border=\"1\" class=\"dataframe\">\n",
       "  <thead>\n",
       "    <tr style=\"text-align: right;\">\n",
       "      <th></th>\n",
       "      <th>one</th>\n",
       "      <th>flag</th>\n",
       "      <th>foo</th>\n",
       "    </tr>\n",
       "  </thead>\n",
       "  <tbody>\n",
       "    <tr>\n",
       "      <th>a</th>\n",
       "      <td>1.0</td>\n",
       "      <td>False</td>\n",
       "      <td>bar</td>\n",
       "    </tr>\n",
       "    <tr>\n",
       "      <th>b</th>\n",
       "      <td>2.0</td>\n",
       "      <td>False</td>\n",
       "      <td>bar</td>\n",
       "    </tr>\n",
       "    <tr>\n",
       "      <th>c</th>\n",
       "      <td>3.0</td>\n",
       "      <td>True</td>\n",
       "      <td>bar</td>\n",
       "    </tr>\n",
       "    <tr>\n",
       "      <th>d</th>\n",
       "      <td>NaN</td>\n",
       "      <td>False</td>\n",
       "      <td>bar</td>\n",
       "    </tr>\n",
       "  </tbody>\n",
       "</table>\n",
       "</div>"
      ],
      "text/plain": [
       "   one   flag  foo\n",
       "a  1.0  False  bar\n",
       "b  2.0  False  bar\n",
       "c  3.0   True  bar\n",
       "d  NaN  False  bar"
      ]
     },
     "execution_count": 177,
     "metadata": {},
     "output_type": "execute_result"
    }
   ],
   "source": [
    "df"
   ]
  },
  {
   "cell_type": "markdown",
   "id": "9c09af24-788c-4768-aa4e-d614d2e2927d",
   "metadata": {},
   "source": [
    "- When inserting a Series that does not have the same index as the DataFrame, it will be conformed to the DataFrame’s index:"
   ]
  },
  {
   "cell_type": "code",
   "execution_count": 178,
   "id": "dc2f3ec2-300d-4bcc-a5bb-510accc1e559",
   "metadata": {},
   "outputs": [],
   "source": [
    "\"\"\"following example will take values from coloumn one until give range and will populate the new coloumn\"\"\"\n",
    "df['one_trunc'] = df['one'][:2]"
   ]
  },
  {
   "cell_type": "code",
   "execution_count": 179,
   "id": "05269ec8-418e-4b39-8d6d-7c9be833d9d0",
   "metadata": {},
   "outputs": [
    {
     "data": {
      "text/html": [
       "<div>\n",
       "<style scoped>\n",
       "    .dataframe tbody tr th:only-of-type {\n",
       "        vertical-align: middle;\n",
       "    }\n",
       "\n",
       "    .dataframe tbody tr th {\n",
       "        vertical-align: top;\n",
       "    }\n",
       "\n",
       "    .dataframe thead th {\n",
       "        text-align: right;\n",
       "    }\n",
       "</style>\n",
       "<table border=\"1\" class=\"dataframe\">\n",
       "  <thead>\n",
       "    <tr style=\"text-align: right;\">\n",
       "      <th></th>\n",
       "      <th>one</th>\n",
       "      <th>flag</th>\n",
       "      <th>foo</th>\n",
       "      <th>one_trunc</th>\n",
       "    </tr>\n",
       "  </thead>\n",
       "  <tbody>\n",
       "    <tr>\n",
       "      <th>a</th>\n",
       "      <td>1.0</td>\n",
       "      <td>False</td>\n",
       "      <td>bar</td>\n",
       "      <td>1.0</td>\n",
       "    </tr>\n",
       "    <tr>\n",
       "      <th>b</th>\n",
       "      <td>2.0</td>\n",
       "      <td>False</td>\n",
       "      <td>bar</td>\n",
       "      <td>2.0</td>\n",
       "    </tr>\n",
       "    <tr>\n",
       "      <th>c</th>\n",
       "      <td>3.0</td>\n",
       "      <td>True</td>\n",
       "      <td>bar</td>\n",
       "      <td>NaN</td>\n",
       "    </tr>\n",
       "    <tr>\n",
       "      <th>d</th>\n",
       "      <td>NaN</td>\n",
       "      <td>False</td>\n",
       "      <td>bar</td>\n",
       "      <td>NaN</td>\n",
       "    </tr>\n",
       "  </tbody>\n",
       "</table>\n",
       "</div>"
      ],
      "text/plain": [
       "   one   flag  foo  one_trunc\n",
       "a  1.0  False  bar        1.0\n",
       "b  2.0  False  bar        2.0\n",
       "c  3.0   True  bar        NaN\n",
       "d  NaN  False  bar        NaN"
      ]
     },
     "execution_count": 179,
     "metadata": {},
     "output_type": "execute_result"
    }
   ],
   "source": [
    "df"
   ]
  },
  {
   "cell_type": "markdown",
   "id": "daa9c11f-601c-4cab-beea-dab31c8384ab",
   "metadata": {},
   "source": [
    "- By default, columns get inserted at the end. The insert function is available to insert at a particular location in the columns:"
   ]
  },
  {
   "cell_type": "code",
   "execution_count": 180,
   "id": "f88c41e8-9b89-4c8b-9741-3c509ec555cd",
   "metadata": {},
   "outputs": [],
   "source": [
    "\"\"\"following function has three arguments. \n",
    "First argument: index where new coloumn will be inserted. \n",
    "Second argument: label or title of a new coloumn \n",
    "Third argument: it will create a coloumn at specified position\"\"\"\n",
    "\n",
    "df.insert(1, 'bar2', df['one'])"
   ]
  },
  {
   "cell_type": "code",
   "execution_count": 181,
   "id": "f91fcdfe-d869-42ba-97e1-c7bc894a1375",
   "metadata": {},
   "outputs": [
    {
     "data": {
      "text/html": [
       "<div>\n",
       "<style scoped>\n",
       "    .dataframe tbody tr th:only-of-type {\n",
       "        vertical-align: middle;\n",
       "    }\n",
       "\n",
       "    .dataframe tbody tr th {\n",
       "        vertical-align: top;\n",
       "    }\n",
       "\n",
       "    .dataframe thead th {\n",
       "        text-align: right;\n",
       "    }\n",
       "</style>\n",
       "<table border=\"1\" class=\"dataframe\">\n",
       "  <thead>\n",
       "    <tr style=\"text-align: right;\">\n",
       "      <th></th>\n",
       "      <th>one</th>\n",
       "      <th>bar2</th>\n",
       "      <th>flag</th>\n",
       "      <th>foo</th>\n",
       "      <th>one_trunc</th>\n",
       "    </tr>\n",
       "  </thead>\n",
       "  <tbody>\n",
       "    <tr>\n",
       "      <th>a</th>\n",
       "      <td>1.0</td>\n",
       "      <td>1.0</td>\n",
       "      <td>False</td>\n",
       "      <td>bar</td>\n",
       "      <td>1.0</td>\n",
       "    </tr>\n",
       "    <tr>\n",
       "      <th>b</th>\n",
       "      <td>2.0</td>\n",
       "      <td>2.0</td>\n",
       "      <td>False</td>\n",
       "      <td>bar</td>\n",
       "      <td>2.0</td>\n",
       "    </tr>\n",
       "    <tr>\n",
       "      <th>c</th>\n",
       "      <td>3.0</td>\n",
       "      <td>3.0</td>\n",
       "      <td>True</td>\n",
       "      <td>bar</td>\n",
       "      <td>NaN</td>\n",
       "    </tr>\n",
       "    <tr>\n",
       "      <th>d</th>\n",
       "      <td>NaN</td>\n",
       "      <td>NaN</td>\n",
       "      <td>False</td>\n",
       "      <td>bar</td>\n",
       "      <td>NaN</td>\n",
       "    </tr>\n",
       "  </tbody>\n",
       "</table>\n",
       "</div>"
      ],
      "text/plain": [
       "   one  bar2   flag  foo  one_trunc\n",
       "a  1.0   1.0  False  bar        1.0\n",
       "b  2.0   2.0  False  bar        2.0\n",
       "c  3.0   3.0   True  bar        NaN\n",
       "d  NaN   NaN  False  bar        NaN"
      ]
     },
     "execution_count": 181,
     "metadata": {},
     "output_type": "execute_result"
    }
   ],
   "source": [
    "df"
   ]
  },
  {
   "cell_type": "markdown",
   "id": "8895b027-a2bd-42f3-a59f-440554bd0270",
   "metadata": {},
   "source": [
    "## 11.7 Indexing / Selection   \n",
    "- Row selection, for example, returns a Series whose index is the columns of the DataFrame"
   ]
  },
  {
   "cell_type": "code",
   "execution_count": 182,
   "id": "205e7a13-7b19-4482-b1be-712d8242df2c",
   "metadata": {},
   "outputs": [
    {
     "data": {
      "text/plain": [
       "one            2.0\n",
       "bar2           2.0\n",
       "flag         False\n",
       "foo            bar\n",
       "one_trunc      2.0\n",
       "Name: b, dtype: object"
      ]
     },
     "execution_count": 182,
     "metadata": {},
     "output_type": "execute_result"
    }
   ],
   "source": [
    "df.loc['b'] #it will return the coloumn labels and values on row label 'b'"
   ]
  },
  {
   "cell_type": "code",
   "execution_count": 183,
   "id": "3b167c7a-095d-4f7e-aacf-3bced94a4cab",
   "metadata": {},
   "outputs": [
    {
     "data": {
      "text/plain": [
       "one           3.0\n",
       "bar2          3.0\n",
       "flag         True\n",
       "foo           bar\n",
       "one_trunc     NaN\n",
       "Name: c, dtype: object"
      ]
     },
     "execution_count": 183,
     "metadata": {},
     "output_type": "execute_result"
    }
   ],
   "source": [
    "df.iloc[2] #it will return the values of those coloumns that is > than 2 "
   ]
  },
  {
   "cell_type": "markdown",
   "id": "eeb30972-9498-4535-bc62-4b3c935b0690",
   "metadata": {},
   "source": [
    "## 11.8 Data alignment and arithmetic  \n",
    "- The below section depicts the data alignment and srithmetic operations."
   ]
  },
  {
   "cell_type": "code",
   "execution_count": 184,
   "id": "581b9a28-2cdc-4298-9417-272858776ad7",
   "metadata": {},
   "outputs": [],
   "source": [
    "df = pd.DataFrame(np.random.randn(10, 4), columns=['A', 'B', 'C', 'D'])"
   ]
  },
  {
   "cell_type": "code",
   "execution_count": 185,
   "id": "d7740e75-d028-48e9-916c-1089d668516a",
   "metadata": {},
   "outputs": [],
   "source": [
    "df2 = pd.DataFrame(np.random.randn(7, 3), columns=['A', 'B', 'C']) "
   ]
  },
  {
   "cell_type": "code",
   "execution_count": 186,
   "id": "992bde22-57d9-4ce6-a64d-967e7289528b",
   "metadata": {},
   "outputs": [
    {
     "data": {
      "text/html": [
       "<div>\n",
       "<style scoped>\n",
       "    .dataframe tbody tr th:only-of-type {\n",
       "        vertical-align: middle;\n",
       "    }\n",
       "\n",
       "    .dataframe tbody tr th {\n",
       "        vertical-align: top;\n",
       "    }\n",
       "\n",
       "    .dataframe thead th {\n",
       "        text-align: right;\n",
       "    }\n",
       "</style>\n",
       "<table border=\"1\" class=\"dataframe\">\n",
       "  <thead>\n",
       "    <tr style=\"text-align: right;\">\n",
       "      <th></th>\n",
       "      <th>A</th>\n",
       "      <th>B</th>\n",
       "      <th>C</th>\n",
       "      <th>D</th>\n",
       "    </tr>\n",
       "  </thead>\n",
       "  <tbody>\n",
       "    <tr>\n",
       "      <th>0</th>\n",
       "      <td>2.109832</td>\n",
       "      <td>-0.169145</td>\n",
       "      <td>0.824603</td>\n",
       "      <td>NaN</td>\n",
       "    </tr>\n",
       "    <tr>\n",
       "      <th>1</th>\n",
       "      <td>-0.588189</td>\n",
       "      <td>1.930489</td>\n",
       "      <td>-0.621326</td>\n",
       "      <td>NaN</td>\n",
       "    </tr>\n",
       "    <tr>\n",
       "      <th>2</th>\n",
       "      <td>1.267533</td>\n",
       "      <td>-3.994316</td>\n",
       "      <td>-1.237591</td>\n",
       "      <td>NaN</td>\n",
       "    </tr>\n",
       "    <tr>\n",
       "      <th>3</th>\n",
       "      <td>-0.149034</td>\n",
       "      <td>-0.630796</td>\n",
       "      <td>-0.179049</td>\n",
       "      <td>NaN</td>\n",
       "    </tr>\n",
       "    <tr>\n",
       "      <th>4</th>\n",
       "      <td>-0.219484</td>\n",
       "      <td>-1.160050</td>\n",
       "      <td>0.111341</td>\n",
       "      <td>NaN</td>\n",
       "    </tr>\n",
       "    <tr>\n",
       "      <th>5</th>\n",
       "      <td>-0.966592</td>\n",
       "      <td>1.099390</td>\n",
       "      <td>-1.150004</td>\n",
       "      <td>NaN</td>\n",
       "    </tr>\n",
       "    <tr>\n",
       "      <th>6</th>\n",
       "      <td>-0.839119</td>\n",
       "      <td>-0.157917</td>\n",
       "      <td>1.028853</td>\n",
       "      <td>NaN</td>\n",
       "    </tr>\n",
       "    <tr>\n",
       "      <th>7</th>\n",
       "      <td>NaN</td>\n",
       "      <td>NaN</td>\n",
       "      <td>NaN</td>\n",
       "      <td>NaN</td>\n",
       "    </tr>\n",
       "    <tr>\n",
       "      <th>8</th>\n",
       "      <td>NaN</td>\n",
       "      <td>NaN</td>\n",
       "      <td>NaN</td>\n",
       "      <td>NaN</td>\n",
       "    </tr>\n",
       "    <tr>\n",
       "      <th>9</th>\n",
       "      <td>NaN</td>\n",
       "      <td>NaN</td>\n",
       "      <td>NaN</td>\n",
       "      <td>NaN</td>\n",
       "    </tr>\n",
       "  </tbody>\n",
       "</table>\n",
       "</div>"
      ],
      "text/plain": [
       "          A         B         C   D\n",
       "0  2.109832 -0.169145  0.824603 NaN\n",
       "1 -0.588189  1.930489 -0.621326 NaN\n",
       "2  1.267533 -3.994316 -1.237591 NaN\n",
       "3 -0.149034 -0.630796 -0.179049 NaN\n",
       "4 -0.219484 -1.160050  0.111341 NaN\n",
       "5 -0.966592  1.099390 -1.150004 NaN\n",
       "6 -0.839119 -0.157917  1.028853 NaN\n",
       "7       NaN       NaN       NaN NaN\n",
       "8       NaN       NaN       NaN NaN\n",
       "9       NaN       NaN       NaN NaN"
      ]
     },
     "execution_count": 186,
     "metadata": {},
     "output_type": "execute_result"
    }
   ],
   "source": [
    "df + df2 # add values of respective coloumn labels "
   ]
  },
  {
   "cell_type": "code",
   "execution_count": 187,
   "id": "8fe7a7e6-43a3-4f69-b8f0-2373136c4cba",
   "metadata": {},
   "outputs": [
    {
     "data": {
      "text/html": [
       "<div>\n",
       "<style scoped>\n",
       "    .dataframe tbody tr th:only-of-type {\n",
       "        vertical-align: middle;\n",
       "    }\n",
       "\n",
       "    .dataframe tbody tr th {\n",
       "        vertical-align: top;\n",
       "    }\n",
       "\n",
       "    .dataframe thead th {\n",
       "        text-align: right;\n",
       "    }\n",
       "</style>\n",
       "<table border=\"1\" class=\"dataframe\">\n",
       "  <thead>\n",
       "    <tr style=\"text-align: right;\">\n",
       "      <th></th>\n",
       "      <th>A</th>\n",
       "      <th>B</th>\n",
       "      <th>C</th>\n",
       "      <th>D</th>\n",
       "    </tr>\n",
       "  </thead>\n",
       "  <tbody>\n",
       "    <tr>\n",
       "      <th>0</th>\n",
       "      <td>0.000000</td>\n",
       "      <td>0.000000</td>\n",
       "      <td>0.000000</td>\n",
       "      <td>0.000000</td>\n",
       "    </tr>\n",
       "    <tr>\n",
       "      <th>1</th>\n",
       "      <td>-0.462818</td>\n",
       "      <td>0.329311</td>\n",
       "      <td>-0.529294</td>\n",
       "      <td>2.636396</td>\n",
       "    </tr>\n",
       "    <tr>\n",
       "      <th>2</th>\n",
       "      <td>-0.990639</td>\n",
       "      <td>-2.534351</td>\n",
       "      <td>-1.862989</td>\n",
       "      <td>1.205719</td>\n",
       "    </tr>\n",
       "    <tr>\n",
       "      <th>3</th>\n",
       "      <td>-1.059928</td>\n",
       "      <td>-0.414832</td>\n",
       "      <td>-1.658320</td>\n",
       "      <td>2.524344</td>\n",
       "    </tr>\n",
       "    <tr>\n",
       "      <th>4</th>\n",
       "      <td>-0.616681</td>\n",
       "      <td>-0.431630</td>\n",
       "      <td>-0.931189</td>\n",
       "      <td>0.626626</td>\n",
       "    </tr>\n",
       "    <tr>\n",
       "      <th>5</th>\n",
       "      <td>-0.689913</td>\n",
       "      <td>-0.929265</td>\n",
       "      <td>-1.001467</td>\n",
       "      <td>4.202025</td>\n",
       "    </tr>\n",
       "    <tr>\n",
       "      <th>6</th>\n",
       "      <td>-1.956083</td>\n",
       "      <td>-1.062537</td>\n",
       "      <td>-0.568852</td>\n",
       "      <td>2.282806</td>\n",
       "    </tr>\n",
       "    <tr>\n",
       "      <th>7</th>\n",
       "      <td>-1.433878</td>\n",
       "      <td>-0.922642</td>\n",
       "      <td>-0.560758</td>\n",
       "      <td>0.526980</td>\n",
       "    </tr>\n",
       "    <tr>\n",
       "      <th>8</th>\n",
       "      <td>-0.325764</td>\n",
       "      <td>-0.637527</td>\n",
       "      <td>-0.451879</td>\n",
       "      <td>1.440696</td>\n",
       "    </tr>\n",
       "    <tr>\n",
       "      <th>9</th>\n",
       "      <td>-2.943479</td>\n",
       "      <td>-0.656038</td>\n",
       "      <td>-0.621223</td>\n",
       "      <td>0.672077</td>\n",
       "    </tr>\n",
       "  </tbody>\n",
       "</table>\n",
       "</div>"
      ],
      "text/plain": [
       "          A         B         C         D\n",
       "0  0.000000  0.000000  0.000000  0.000000\n",
       "1 -0.462818  0.329311 -0.529294  2.636396\n",
       "2 -0.990639 -2.534351 -1.862989  1.205719\n",
       "3 -1.059928 -0.414832 -1.658320  2.524344\n",
       "4 -0.616681 -0.431630 -0.931189  0.626626\n",
       "5 -0.689913 -0.929265 -1.001467  4.202025\n",
       "6 -1.956083 -1.062537 -0.568852  2.282806\n",
       "7 -1.433878 -0.922642 -0.560758  0.526980\n",
       "8 -0.325764 -0.637527 -0.451879  1.440696\n",
       "9 -2.943479 -0.656038 -0.621223  0.672077"
      ]
     },
     "execution_count": 187,
     "metadata": {},
     "output_type": "execute_result"
    }
   ],
   "source": [
    "df - df.iloc[0]"
   ]
  },
  {
   "cell_type": "code",
   "execution_count": 188,
   "id": "f190a96d-38b5-48a5-bfbb-93117a3ca1a4",
   "metadata": {},
   "outputs": [
    {
     "data": {
      "text/html": [
       "<div>\n",
       "<style scoped>\n",
       "    .dataframe tbody tr th:only-of-type {\n",
       "        vertical-align: middle;\n",
       "    }\n",
       "\n",
       "    .dataframe tbody tr th {\n",
       "        vertical-align: top;\n",
       "    }\n",
       "\n",
       "    .dataframe thead th {\n",
       "        text-align: right;\n",
       "    }\n",
       "</style>\n",
       "<table border=\"1\" class=\"dataframe\">\n",
       "  <thead>\n",
       "    <tr style=\"text-align: right;\">\n",
       "      <th></th>\n",
       "      <th>A</th>\n",
       "      <th>B</th>\n",
       "      <th>C</th>\n",
       "      <th>D</th>\n",
       "    </tr>\n",
       "  </thead>\n",
       "  <tbody>\n",
       "    <tr>\n",
       "      <th>0</th>\n",
       "      <td>7.855665</td>\n",
       "      <td>5.215850</td>\n",
       "      <td>3.946992</td>\n",
       "      <td>-6.622977</td>\n",
       "    </tr>\n",
       "    <tr>\n",
       "      <th>1</th>\n",
       "      <td>5.541576</td>\n",
       "      <td>6.862404</td>\n",
       "      <td>1.300522</td>\n",
       "      <td>6.559004</td>\n",
       "    </tr>\n",
       "    <tr>\n",
       "      <th>2</th>\n",
       "      <td>2.902470</td>\n",
       "      <td>-7.455906</td>\n",
       "      <td>-5.367951</td>\n",
       "      <td>-0.594381</td>\n",
       "    </tr>\n",
       "    <tr>\n",
       "      <th>3</th>\n",
       "      <td>2.556025</td>\n",
       "      <td>3.141691</td>\n",
       "      <td>-4.344607</td>\n",
       "      <td>5.998742</td>\n",
       "    </tr>\n",
       "    <tr>\n",
       "      <th>4</th>\n",
       "      <td>4.772258</td>\n",
       "      <td>3.057702</td>\n",
       "      <td>-0.708952</td>\n",
       "      <td>-3.489847</td>\n",
       "    </tr>\n",
       "    <tr>\n",
       "      <th>5</th>\n",
       "      <td>4.406101</td>\n",
       "      <td>0.569524</td>\n",
       "      <td>-1.060341</td>\n",
       "      <td>14.387148</td>\n",
       "    </tr>\n",
       "    <tr>\n",
       "      <th>6</th>\n",
       "      <td>-1.924748</td>\n",
       "      <td>-0.096834</td>\n",
       "      <td>1.102730</td>\n",
       "      <td>4.791055</td>\n",
       "    </tr>\n",
       "    <tr>\n",
       "      <th>7</th>\n",
       "      <td>0.686273</td>\n",
       "      <td>0.602638</td>\n",
       "      <td>1.143200</td>\n",
       "      <td>-3.988076</td>\n",
       "    </tr>\n",
       "    <tr>\n",
       "      <th>8</th>\n",
       "      <td>6.226845</td>\n",
       "      <td>2.028216</td>\n",
       "      <td>1.687596</td>\n",
       "      <td>0.580504</td>\n",
       "    </tr>\n",
       "    <tr>\n",
       "      <th>9</th>\n",
       "      <td>-6.861732</td>\n",
       "      <td>1.935662</td>\n",
       "      <td>0.840874</td>\n",
       "      <td>-3.262594</td>\n",
       "    </tr>\n",
       "  </tbody>\n",
       "</table>\n",
       "</div>"
      ],
      "text/plain": [
       "          A         B         C          D\n",
       "0  7.855665  5.215850  3.946992  -6.622977\n",
       "1  5.541576  6.862404  1.300522   6.559004\n",
       "2  2.902470 -7.455906 -5.367951  -0.594381\n",
       "3  2.556025  3.141691 -4.344607   5.998742\n",
       "4  4.772258  3.057702 -0.708952  -3.489847\n",
       "5  4.406101  0.569524 -1.060341  14.387148\n",
       "6 -1.924748 -0.096834  1.102730   4.791055\n",
       "7  0.686273  0.602638  1.143200  -3.988076\n",
       "8  6.226845  2.028216  1.687596   0.580504\n",
       "9 -6.861732  1.935662  0.840874  -3.262594"
      ]
     },
     "execution_count": 188,
     "metadata": {},
     "output_type": "execute_result"
    }
   ],
   "source": [
    "df*5+2"
   ]
  },
  {
   "cell_type": "code",
   "execution_count": 189,
   "id": "bc630881-7056-4ce5-93b1-8d59ed87fdee",
   "metadata": {},
   "outputs": [
    {
     "data": {
      "text/html": [
       "<div>\n",
       "<style scoped>\n",
       "    .dataframe tbody tr th:only-of-type {\n",
       "        vertical-align: middle;\n",
       "    }\n",
       "\n",
       "    .dataframe tbody tr th {\n",
       "        vertical-align: top;\n",
       "    }\n",
       "\n",
       "    .dataframe thead th {\n",
       "        text-align: right;\n",
       "    }\n",
       "</style>\n",
       "<table border=\"1\" class=\"dataframe\">\n",
       "  <thead>\n",
       "    <tr style=\"text-align: right;\">\n",
       "      <th></th>\n",
       "      <th>A</th>\n",
       "      <th>B</th>\n",
       "      <th>C</th>\n",
       "      <th>D</th>\n",
       "    </tr>\n",
       "  </thead>\n",
       "  <tbody>\n",
       "    <tr>\n",
       "      <th>0</th>\n",
       "      <td>0.853874</td>\n",
       "      <td>1.554799</td>\n",
       "      <td>2.568064</td>\n",
       "      <td>-0.579846</td>\n",
       "    </tr>\n",
       "    <tr>\n",
       "      <th>1</th>\n",
       "      <td>1.411801</td>\n",
       "      <td>1.028298</td>\n",
       "      <td>-7.148186</td>\n",
       "      <td>1.096731</td>\n",
       "    </tr>\n",
       "    <tr>\n",
       "      <th>2</th>\n",
       "      <td>5.540351</td>\n",
       "      <td>-0.528770</td>\n",
       "      <td>-0.678615</td>\n",
       "      <td>-1.927242</td>\n",
       "    </tr>\n",
       "    <tr>\n",
       "      <th>3</th>\n",
       "      <td>8.992396</td>\n",
       "      <td>4.379469</td>\n",
       "      <td>-0.788071</td>\n",
       "      <td>1.250393</td>\n",
       "    </tr>\n",
       "    <tr>\n",
       "      <th>4</th>\n",
       "      <td>1.803584</td>\n",
       "      <td>4.727231</td>\n",
       "      <td>-1.845732</td>\n",
       "      <td>-0.910772</td>\n",
       "    </tr>\n",
       "    <tr>\n",
       "      <th>5</th>\n",
       "      <td>2.078050</td>\n",
       "      <td>-3.495340</td>\n",
       "      <td>-1.633805</td>\n",
       "      <td>0.403644</td>\n",
       "    </tr>\n",
       "    <tr>\n",
       "      <th>6</th>\n",
       "      <td>-1.273967</td>\n",
       "      <td>-2.384547</td>\n",
       "      <td>-5.572462</td>\n",
       "      <td>1.791437</td>\n",
       "    </tr>\n",
       "    <tr>\n",
       "      <th>7</th>\n",
       "      <td>-3.805967</td>\n",
       "      <td>-3.578171</td>\n",
       "      <td>-5.835667</td>\n",
       "      <td>-0.834993</td>\n",
       "    </tr>\n",
       "    <tr>\n",
       "      <th>8</th>\n",
       "      <td>1.182915</td>\n",
       "      <td>177.205349</td>\n",
       "      <td>-16.004928</td>\n",
       "      <td>-3.522377</td>\n",
       "    </tr>\n",
       "    <tr>\n",
       "      <th>9</th>\n",
       "      <td>-0.564224</td>\n",
       "      <td>-77.714634</td>\n",
       "      <td>-4.313597</td>\n",
       "      <td>-0.950102</td>\n",
       "    </tr>\n",
       "  </tbody>\n",
       "</table>\n",
       "</div>"
      ],
      "text/plain": [
       "          A           B          C         D\n",
       "0  0.853874    1.554799   2.568064 -0.579846\n",
       "1  1.411801    1.028298  -7.148186  1.096731\n",
       "2  5.540351   -0.528770  -0.678615 -1.927242\n",
       "3  8.992396    4.379469  -0.788071  1.250393\n",
       "4  1.803584    4.727231  -1.845732 -0.910772\n",
       "5  2.078050   -3.495340  -1.633805  0.403644\n",
       "6 -1.273967   -2.384547  -5.572462  1.791437\n",
       "7 -3.805967   -3.578171  -5.835667 -0.834993\n",
       "8  1.182915  177.205349 -16.004928 -3.522377\n",
       "9 -0.564224  -77.714634  -4.313597 -0.950102"
      ]
     },
     "execution_count": 189,
     "metadata": {},
     "output_type": "execute_result"
    }
   ],
   "source": [
    "1 / df"
   ]
  },
  {
   "cell_type": "code",
   "execution_count": 190,
   "id": "e5384640-2bf6-49df-94d8-bf56028b3a5f",
   "metadata": {},
   "outputs": [
    {
     "data": {
      "text/html": [
       "<div>\n",
       "<style scoped>\n",
       "    .dataframe tbody tr th:only-of-type {\n",
       "        vertical-align: middle;\n",
       "    }\n",
       "\n",
       "    .dataframe tbody tr th {\n",
       "        vertical-align: top;\n",
       "    }\n",
       "\n",
       "    .dataframe thead th {\n",
       "        text-align: right;\n",
       "    }\n",
       "</style>\n",
       "<table border=\"1\" class=\"dataframe\">\n",
       "  <thead>\n",
       "    <tr style=\"text-align: right;\">\n",
       "      <th></th>\n",
       "      <th>A</th>\n",
       "      <th>B</th>\n",
       "      <th>C</th>\n",
       "      <th>D</th>\n",
       "    </tr>\n",
       "  </thead>\n",
       "  <tbody>\n",
       "    <tr>\n",
       "      <th>0</th>\n",
       "      <td>1.881156</td>\n",
       "      <td>1.711209e-01</td>\n",
       "      <td>0.022992</td>\n",
       "      <td>8.846041</td>\n",
       "    </tr>\n",
       "    <tr>\n",
       "      <th>1</th>\n",
       "      <td>0.251713</td>\n",
       "      <td>8.943839e-01</td>\n",
       "      <td>0.000383</td>\n",
       "      <td>0.691194</td>\n",
       "    </tr>\n",
       "    <tr>\n",
       "      <th>2</th>\n",
       "      <td>0.001061</td>\n",
       "      <td>1.279183e+01</td>\n",
       "      <td>4.715274</td>\n",
       "      <td>0.072486</td>\n",
       "    </tr>\n",
       "    <tr>\n",
       "      <th>3</th>\n",
       "      <td>0.000153</td>\n",
       "      <td>2.718406e-03</td>\n",
       "      <td>2.592621</td>\n",
       "      <td>0.409085</td>\n",
       "    </tr>\n",
       "    <tr>\n",
       "      <th>4</th>\n",
       "      <td>0.094505</td>\n",
       "      <td>2.002501e-03</td>\n",
       "      <td>0.086164</td>\n",
       "      <td>1.453319</td>\n",
       "    </tr>\n",
       "    <tr>\n",
       "      <th>5</th>\n",
       "      <td>0.053626</td>\n",
       "      <td>6.699498e-03</td>\n",
       "      <td>0.140346</td>\n",
       "      <td>37.670843</td>\n",
       "    </tr>\n",
       "    <tr>\n",
       "      <th>6</th>\n",
       "      <td>0.379636</td>\n",
       "      <td>3.092974e-02</td>\n",
       "      <td>0.001037</td>\n",
       "      <td>0.097094</td>\n",
       "    </tr>\n",
       "    <tr>\n",
       "      <th>7</th>\n",
       "      <td>0.004766</td>\n",
       "      <td>6.100363e-03</td>\n",
       "      <td>0.000862</td>\n",
       "      <td>2.057166</td>\n",
       "    </tr>\n",
       "    <tr>\n",
       "      <th>8</th>\n",
       "      <td>0.510723</td>\n",
       "      <td>1.014128e-09</td>\n",
       "      <td>0.000015</td>\n",
       "      <td>0.006496</td>\n",
       "    </tr>\n",
       "    <tr>\n",
       "      <th>9</th>\n",
       "      <td>9.867211</td>\n",
       "      <td>2.741503e-08</td>\n",
       "      <td>0.002888</td>\n",
       "      <td>1.227211</td>\n",
       "    </tr>\n",
       "  </tbody>\n",
       "</table>\n",
       "</div>"
      ],
      "text/plain": [
       "          A             B         C          D\n",
       "0  1.881156  1.711209e-01  0.022992   8.846041\n",
       "1  0.251713  8.943839e-01  0.000383   0.691194\n",
       "2  0.001061  1.279183e+01  4.715274   0.072486\n",
       "3  0.000153  2.718406e-03  2.592621   0.409085\n",
       "4  0.094505  2.002501e-03  0.086164   1.453319\n",
       "5  0.053626  6.699498e-03  0.140346  37.670843\n",
       "6  0.379636  3.092974e-02  0.001037   0.097094\n",
       "7  0.004766  6.100363e-03  0.000862   2.057166\n",
       "8  0.510723  1.014128e-09  0.000015   0.006496\n",
       "9  9.867211  2.741503e-08  0.002888   1.227211"
      ]
     },
     "execution_count": 190,
     "metadata": {},
     "output_type": "execute_result"
    }
   ],
   "source": [
    "df **4"
   ]
  },
  {
   "cell_type": "code",
   "execution_count": 191,
   "id": "7f1c5ece-0edd-4e67-8299-b9cd467ffc22",
   "metadata": {},
   "outputs": [],
   "source": [
    "df1 = pd.DataFrame({'a' : [1, 0, 1], 'b' : [0, 1, 1] }, dtype=bool)"
   ]
  },
  {
   "cell_type": "code",
   "execution_count": 192,
   "id": "33882eec-9583-4338-8361-0c7dc3e9bf8e",
   "metadata": {},
   "outputs": [],
   "source": [
    "df2 = pd.DataFrame({'a' : [0, 1, 1], 'b' : [1, 1, 0] }, dtype=bool)"
   ]
  },
  {
   "cell_type": "code",
   "execution_count": 193,
   "id": "3ca9a5a7-a090-4d2e-bd37-2a897021a71e",
   "metadata": {},
   "outputs": [
    {
     "data": {
      "text/html": [
       "<div>\n",
       "<style scoped>\n",
       "    .dataframe tbody tr th:only-of-type {\n",
       "        vertical-align: middle;\n",
       "    }\n",
       "\n",
       "    .dataframe tbody tr th {\n",
       "        vertical-align: top;\n",
       "    }\n",
       "\n",
       "    .dataframe thead th {\n",
       "        text-align: right;\n",
       "    }\n",
       "</style>\n",
       "<table border=\"1\" class=\"dataframe\">\n",
       "  <thead>\n",
       "    <tr style=\"text-align: right;\">\n",
       "      <th></th>\n",
       "      <th>a</th>\n",
       "      <th>b</th>\n",
       "    </tr>\n",
       "  </thead>\n",
       "  <tbody>\n",
       "    <tr>\n",
       "      <th>0</th>\n",
       "      <td>False</td>\n",
       "      <td>True</td>\n",
       "    </tr>\n",
       "    <tr>\n",
       "      <th>1</th>\n",
       "      <td>True</td>\n",
       "      <td>True</td>\n",
       "    </tr>\n",
       "    <tr>\n",
       "      <th>2</th>\n",
       "      <td>True</td>\n",
       "      <td>False</td>\n",
       "    </tr>\n",
       "  </tbody>\n",
       "</table>\n",
       "</div>"
      ],
      "text/plain": [
       "       a      b\n",
       "0  False   True\n",
       "1   True   True\n",
       "2   True  False"
      ]
     },
     "execution_count": 193,
     "metadata": {},
     "output_type": "execute_result"
    }
   ],
   "source": [
    "pd.DataFrame({'a' : [0, 1, 1], 'b' : [1, 1, 0] }, dtype=bool)"
   ]
  },
  {
   "cell_type": "code",
   "execution_count": 194,
   "id": "8d677332-8b01-4a00-95e2-bbf19c328fff",
   "metadata": {},
   "outputs": [
    {
     "data": {
      "text/html": [
       "<div>\n",
       "<style scoped>\n",
       "    .dataframe tbody tr th:only-of-type {\n",
       "        vertical-align: middle;\n",
       "    }\n",
       "\n",
       "    .dataframe tbody tr th {\n",
       "        vertical-align: top;\n",
       "    }\n",
       "\n",
       "    .dataframe thead th {\n",
       "        text-align: right;\n",
       "    }\n",
       "</style>\n",
       "<table border=\"1\" class=\"dataframe\">\n",
       "  <thead>\n",
       "    <tr style=\"text-align: right;\">\n",
       "      <th></th>\n",
       "      <th>a</th>\n",
       "      <th>b</th>\n",
       "    </tr>\n",
       "  </thead>\n",
       "  <tbody>\n",
       "    <tr>\n",
       "      <th>0</th>\n",
       "      <td>False</td>\n",
       "      <td>False</td>\n",
       "    </tr>\n",
       "    <tr>\n",
       "      <th>1</th>\n",
       "      <td>False</td>\n",
       "      <td>True</td>\n",
       "    </tr>\n",
       "    <tr>\n",
       "      <th>2</th>\n",
       "      <td>True</td>\n",
       "      <td>False</td>\n",
       "    </tr>\n",
       "  </tbody>\n",
       "</table>\n",
       "</div>"
      ],
      "text/plain": [
       "       a      b\n",
       "0  False  False\n",
       "1  False   True\n",
       "2   True  False"
      ]
     },
     "execution_count": 194,
     "metadata": {},
     "output_type": "execute_result"
    }
   ],
   "source": [
    "df1 & df2 #and logical operator"
   ]
  },
  {
   "cell_type": "code",
   "execution_count": 195,
   "id": "4f3b3393-9c6e-4f9a-bde7-ecc4879f2f5c",
   "metadata": {},
   "outputs": [
    {
     "data": {
      "text/html": [
       "<div>\n",
       "<style scoped>\n",
       "    .dataframe tbody tr th:only-of-type {\n",
       "        vertical-align: middle;\n",
       "    }\n",
       "\n",
       "    .dataframe tbody tr th {\n",
       "        vertical-align: top;\n",
       "    }\n",
       "\n",
       "    .dataframe thead th {\n",
       "        text-align: right;\n",
       "    }\n",
       "</style>\n",
       "<table border=\"1\" class=\"dataframe\">\n",
       "  <thead>\n",
       "    <tr style=\"text-align: right;\">\n",
       "      <th></th>\n",
       "      <th>a</th>\n",
       "      <th>b</th>\n",
       "    </tr>\n",
       "  </thead>\n",
       "  <tbody>\n",
       "    <tr>\n",
       "      <th>0</th>\n",
       "      <td>True</td>\n",
       "      <td>True</td>\n",
       "    </tr>\n",
       "    <tr>\n",
       "      <th>1</th>\n",
       "      <td>True</td>\n",
       "      <td>True</td>\n",
       "    </tr>\n",
       "    <tr>\n",
       "      <th>2</th>\n",
       "      <td>True</td>\n",
       "      <td>True</td>\n",
       "    </tr>\n",
       "  </tbody>\n",
       "</table>\n",
       "</div>"
      ],
      "text/plain": [
       "      a     b\n",
       "0  True  True\n",
       "1  True  True\n",
       "2  True  True"
      ]
     },
     "execution_count": 195,
     "metadata": {},
     "output_type": "execute_result"
    }
   ],
   "source": [
    "df1 | df2 # or operator "
   ]
  },
  {
   "cell_type": "code",
   "execution_count": 196,
   "id": "f7a7d0ef-9ac6-45c7-bb86-ed5079928f16",
   "metadata": {},
   "outputs": [
    {
     "data": {
      "text/html": [
       "<div>\n",
       "<style scoped>\n",
       "    .dataframe tbody tr th:only-of-type {\n",
       "        vertical-align: middle;\n",
       "    }\n",
       "\n",
       "    .dataframe tbody tr th {\n",
       "        vertical-align: top;\n",
       "    }\n",
       "\n",
       "    .dataframe thead th {\n",
       "        text-align: right;\n",
       "    }\n",
       "</style>\n",
       "<table border=\"1\" class=\"dataframe\">\n",
       "  <thead>\n",
       "    <tr style=\"text-align: right;\">\n",
       "      <th></th>\n",
       "      <th>a</th>\n",
       "      <th>b</th>\n",
       "    </tr>\n",
       "  </thead>\n",
       "  <tbody>\n",
       "    <tr>\n",
       "      <th>0</th>\n",
       "      <td>False</td>\n",
       "      <td>True</td>\n",
       "    </tr>\n",
       "    <tr>\n",
       "      <th>1</th>\n",
       "      <td>True</td>\n",
       "      <td>False</td>\n",
       "    </tr>\n",
       "    <tr>\n",
       "      <th>2</th>\n",
       "      <td>False</td>\n",
       "      <td>False</td>\n",
       "    </tr>\n",
       "  </tbody>\n",
       "</table>\n",
       "</div>"
      ],
      "text/plain": [
       "       a      b\n",
       "0  False   True\n",
       "1   True  False\n",
       "2  False  False"
      ]
     },
     "execution_count": 196,
     "metadata": {},
     "output_type": "execute_result"
    }
   ],
   "source": [
    "-df1 "
   ]
  },
  {
   "cell_type": "markdown",
   "id": "6dfca46f-aeb0-41d5-9abd-23012db1b6af",
   "metadata": {},
   "source": [
    "## 11.9 Transposing   \n",
    "- How to/Use of Transpose."
   ]
  },
  {
   "cell_type": "code",
   "execution_count": 197,
   "id": "917b090a-49ae-493a-93cf-68cec19bc402",
   "metadata": {},
   "outputs": [
    {
     "data": {
      "text/html": [
       "<div>\n",
       "<style scoped>\n",
       "    .dataframe tbody tr th:only-of-type {\n",
       "        vertical-align: middle;\n",
       "    }\n",
       "\n",
       "    .dataframe tbody tr th {\n",
       "        vertical-align: top;\n",
       "    }\n",
       "\n",
       "    .dataframe thead th {\n",
       "        text-align: right;\n",
       "    }\n",
       "</style>\n",
       "<table border=\"1\" class=\"dataframe\">\n",
       "  <thead>\n",
       "    <tr style=\"text-align: right;\">\n",
       "      <th></th>\n",
       "      <th>0</th>\n",
       "      <th>1</th>\n",
       "      <th>2</th>\n",
       "      <th>3</th>\n",
       "      <th>4</th>\n",
       "    </tr>\n",
       "  </thead>\n",
       "  <tbody>\n",
       "    <tr>\n",
       "      <th>A</th>\n",
       "      <td>1.171133</td>\n",
       "      <td>0.708315</td>\n",
       "      <td>0.180494</td>\n",
       "      <td>0.111205</td>\n",
       "      <td>0.554452</td>\n",
       "    </tr>\n",
       "    <tr>\n",
       "      <th>B</th>\n",
       "      <td>0.643170</td>\n",
       "      <td>0.972481</td>\n",
       "      <td>-1.891181</td>\n",
       "      <td>0.228338</td>\n",
       "      <td>0.211540</td>\n",
       "    </tr>\n",
       "    <tr>\n",
       "      <th>C</th>\n",
       "      <td>0.389398</td>\n",
       "      <td>-0.139896</td>\n",
       "      <td>-1.473590</td>\n",
       "      <td>-1.268921</td>\n",
       "      <td>-0.541790</td>\n",
       "    </tr>\n",
       "    <tr>\n",
       "      <th>D</th>\n",
       "      <td>-1.724595</td>\n",
       "      <td>0.911801</td>\n",
       "      <td>-0.518876</td>\n",
       "      <td>0.799748</td>\n",
       "      <td>-1.097969</td>\n",
       "    </tr>\n",
       "  </tbody>\n",
       "</table>\n",
       "</div>"
      ],
      "text/plain": [
       "          0         1         2         3         4\n",
       "A  1.171133  0.708315  0.180494  0.111205  0.554452\n",
       "B  0.643170  0.972481 -1.891181  0.228338  0.211540\n",
       "C  0.389398 -0.139896 -1.473590 -1.268921 -0.541790\n",
       "D -1.724595  0.911801 -0.518876  0.799748 -1.097969"
      ]
     },
     "execution_count": 197,
     "metadata": {},
     "output_type": "execute_result"
    }
   ],
   "source": [
    "# only show the first 5 rows\n",
    "df[:5].T "
   ]
  },
  {
   "cell_type": "markdown",
   "id": "682ef8cd-6f14-44b2-a0d4-93e3a6ad07ab",
   "metadata": {},
   "source": [
    "- Creating a DataFrame by passing a numpy array, with a datetime index and labeled columns:"
   ]
  },
  {
   "cell_type": "code",
   "execution_count": 198,
   "id": "b8224181-b54a-4927-8726-1211e20c5774",
   "metadata": {},
   "outputs": [],
   "source": [
    "dates = pd.date_range('20130101', periods=6)"
   ]
  },
  {
   "cell_type": "code",
   "execution_count": 199,
   "id": "4b66eebb-1c95-4e62-b2db-f3be4d892a90",
   "metadata": {},
   "outputs": [
    {
     "data": {
      "text/plain": [
       "DatetimeIndex(['2013-01-01', '2013-01-02', '2013-01-03', '2013-01-04',\n",
       "               '2013-01-05', '2013-01-06'],\n",
       "              dtype='datetime64[ns]', freq='D')"
      ]
     },
     "execution_count": 199,
     "metadata": {},
     "output_type": "execute_result"
    }
   ],
   "source": [
    "dates "
   ]
  },
  {
   "cell_type": "code",
   "execution_count": 200,
   "id": "650829e2-98b5-4cd6-a62f-c730cd97b905",
   "metadata": {},
   "outputs": [],
   "source": [
    "df = pd.DataFrame(np.random.randn(6,4), index=dates, columns=list('ABCD')) "
   ]
  },
  {
   "cell_type": "code",
   "execution_count": 201,
   "id": "db7c557f-adfc-4e3f-87b4-dc4079267903",
   "metadata": {},
   "outputs": [
    {
     "data": {
      "text/html": [
       "<div>\n",
       "<style scoped>\n",
       "    .dataframe tbody tr th:only-of-type {\n",
       "        vertical-align: middle;\n",
       "    }\n",
       "\n",
       "    .dataframe tbody tr th {\n",
       "        vertical-align: top;\n",
       "    }\n",
       "\n",
       "    .dataframe thead th {\n",
       "        text-align: right;\n",
       "    }\n",
       "</style>\n",
       "<table border=\"1\" class=\"dataframe\">\n",
       "  <thead>\n",
       "    <tr style=\"text-align: right;\">\n",
       "      <th></th>\n",
       "      <th>A</th>\n",
       "      <th>B</th>\n",
       "      <th>C</th>\n",
       "      <th>D</th>\n",
       "    </tr>\n",
       "  </thead>\n",
       "  <tbody>\n",
       "    <tr>\n",
       "      <th>2013-01-01</th>\n",
       "      <td>0.041612</td>\n",
       "      <td>0.221396</td>\n",
       "      <td>-0.949293</td>\n",
       "      <td>0.214663</td>\n",
       "    </tr>\n",
       "    <tr>\n",
       "      <th>2013-01-02</th>\n",
       "      <td>0.339625</td>\n",
       "      <td>-0.867590</td>\n",
       "      <td>0.598684</td>\n",
       "      <td>-0.724398</td>\n",
       "    </tr>\n",
       "    <tr>\n",
       "      <th>2013-01-03</th>\n",
       "      <td>1.882702</td>\n",
       "      <td>-1.012813</td>\n",
       "      <td>-0.155118</td>\n",
       "      <td>-0.817385</td>\n",
       "    </tr>\n",
       "    <tr>\n",
       "      <th>2013-01-04</th>\n",
       "      <td>0.004448</td>\n",
       "      <td>0.759398</td>\n",
       "      <td>-1.220958</td>\n",
       "      <td>0.045582</td>\n",
       "    </tr>\n",
       "    <tr>\n",
       "      <th>2013-01-05</th>\n",
       "      <td>0.105459</td>\n",
       "      <td>-0.351591</td>\n",
       "      <td>0.185854</td>\n",
       "      <td>-0.350329</td>\n",
       "    </tr>\n",
       "    <tr>\n",
       "      <th>2013-01-06</th>\n",
       "      <td>-1.032255</td>\n",
       "      <td>-0.486715</td>\n",
       "      <td>-0.816309</td>\n",
       "      <td>1.540473</td>\n",
       "    </tr>\n",
       "  </tbody>\n",
       "</table>\n",
       "</div>"
      ],
      "text/plain": [
       "                   A         B         C         D\n",
       "2013-01-01  0.041612  0.221396 -0.949293  0.214663\n",
       "2013-01-02  0.339625 -0.867590  0.598684 -0.724398\n",
       "2013-01-03  1.882702 -1.012813 -0.155118 -0.817385\n",
       "2013-01-04  0.004448  0.759398 -1.220958  0.045582\n",
       "2013-01-05  0.105459 -0.351591  0.185854 -0.350329\n",
       "2013-01-06 -1.032255 -0.486715 -0.816309  1.540473"
      ]
     },
     "execution_count": 201,
     "metadata": {},
     "output_type": "execute_result"
    }
   ],
   "source": [
    "df"
   ]
  },
  {
   "cell_type": "markdown",
   "id": "40d7e33a-59bb-4518-bb88-746fb5cda599",
   "metadata": {},
   "source": [
    "- Creating a DataFrame by passing a dict of objects that can be converted to series-like"
   ]
  },
  {
   "cell_type": "code",
   "execution_count": 202,
   "id": "7a52b9cf-8fc3-4174-b18c-089801b3b0a4",
   "metadata": {},
   "outputs": [],
   "source": [
    "df2 = pd.DataFrame({ 'A' : 1., \n",
    "'B' : pd.Timestamp('20130102'),\n",
    " 'C' : pd.Series(1,index=list(range(4)),dtype='float32'),\n",
    " 'D' : np.array([3] * 4,dtype='int32'),\n",
    " 'E' : pd.Categorical([\"test\",\"train\",\"test\",\"train\"]),\n",
    " 'F' : 'foo' }) "
   ]
  },
  {
   "cell_type": "code",
   "execution_count": 203,
   "id": "2a8465e6-4912-4e6c-a759-5e7bc8192b6d",
   "metadata": {},
   "outputs": [
    {
     "data": {
      "text/html": [
       "<div>\n",
       "<style scoped>\n",
       "    .dataframe tbody tr th:only-of-type {\n",
       "        vertical-align: middle;\n",
       "    }\n",
       "\n",
       "    .dataframe tbody tr th {\n",
       "        vertical-align: top;\n",
       "    }\n",
       "\n",
       "    .dataframe thead th {\n",
       "        text-align: right;\n",
       "    }\n",
       "</style>\n",
       "<table border=\"1\" class=\"dataframe\">\n",
       "  <thead>\n",
       "    <tr style=\"text-align: right;\">\n",
       "      <th></th>\n",
       "      <th>A</th>\n",
       "      <th>B</th>\n",
       "      <th>C</th>\n",
       "      <th>D</th>\n",
       "      <th>E</th>\n",
       "      <th>F</th>\n",
       "    </tr>\n",
       "  </thead>\n",
       "  <tbody>\n",
       "    <tr>\n",
       "      <th>0</th>\n",
       "      <td>1.0</td>\n",
       "      <td>2013-01-02</td>\n",
       "      <td>1.0</td>\n",
       "      <td>3</td>\n",
       "      <td>test</td>\n",
       "      <td>foo</td>\n",
       "    </tr>\n",
       "    <tr>\n",
       "      <th>1</th>\n",
       "      <td>1.0</td>\n",
       "      <td>2013-01-02</td>\n",
       "      <td>1.0</td>\n",
       "      <td>3</td>\n",
       "      <td>train</td>\n",
       "      <td>foo</td>\n",
       "    </tr>\n",
       "    <tr>\n",
       "      <th>2</th>\n",
       "      <td>1.0</td>\n",
       "      <td>2013-01-02</td>\n",
       "      <td>1.0</td>\n",
       "      <td>3</td>\n",
       "      <td>test</td>\n",
       "      <td>foo</td>\n",
       "    </tr>\n",
       "    <tr>\n",
       "      <th>3</th>\n",
       "      <td>1.0</td>\n",
       "      <td>2013-01-02</td>\n",
       "      <td>1.0</td>\n",
       "      <td>3</td>\n",
       "      <td>train</td>\n",
       "      <td>foo</td>\n",
       "    </tr>\n",
       "  </tbody>\n",
       "</table>\n",
       "</div>"
      ],
      "text/plain": [
       "     A          B    C  D      E    F\n",
       "0  1.0 2013-01-02  1.0  3   test  foo\n",
       "1  1.0 2013-01-02  1.0  3  train  foo\n",
       "2  1.0 2013-01-02  1.0  3   test  foo\n",
       "3  1.0 2013-01-02  1.0  3  train  foo"
      ]
     },
     "execution_count": 203,
     "metadata": {},
     "output_type": "execute_result"
    }
   ],
   "source": [
    "df2"
   ]
  },
  {
   "cell_type": "code",
   "execution_count": 204,
   "id": "6e1982a7-9f6a-4416-9216-448ed1d23f85",
   "metadata": {},
   "outputs": [
    {
     "data": {
      "text/plain": [
       "A          float64\n",
       "B    datetime64[s]\n",
       "C          float32\n",
       "D            int32\n",
       "E         category\n",
       "F           object\n",
       "dtype: object"
      ]
     },
     "execution_count": 204,
     "metadata": {},
     "output_type": "execute_result"
    }
   ],
   "source": [
    "#Having specific dtypes \n",
    "df2.dtypes"
   ]
  },
  {
   "cell_type": "markdown",
   "id": "a9481694-0a48-4bff-99d1-67f0cfd9b76d",
   "metadata": {},
   "source": [
    "# 12. Viewing Data \n",
    "\n",
    "- The below code defines viewing data:"
   ]
  },
  {
   "cell_type": "code",
   "execution_count": 205,
   "id": "e7629da1-6f51-494b-b188-f0c528dc00f5",
   "metadata": {},
   "outputs": [
    {
     "data": {
      "text/html": [
       "<div>\n",
       "<style scoped>\n",
       "    .dataframe tbody tr th:only-of-type {\n",
       "        vertical-align: middle;\n",
       "    }\n",
       "\n",
       "    .dataframe tbody tr th {\n",
       "        vertical-align: top;\n",
       "    }\n",
       "\n",
       "    .dataframe thead th {\n",
       "        text-align: right;\n",
       "    }\n",
       "</style>\n",
       "<table border=\"1\" class=\"dataframe\">\n",
       "  <thead>\n",
       "    <tr style=\"text-align: right;\">\n",
       "      <th></th>\n",
       "      <th>A</th>\n",
       "      <th>B</th>\n",
       "      <th>C</th>\n",
       "      <th>D</th>\n",
       "    </tr>\n",
       "  </thead>\n",
       "  <tbody>\n",
       "    <tr>\n",
       "      <th>2013-01-01</th>\n",
       "      <td>0.041612</td>\n",
       "      <td>0.221396</td>\n",
       "      <td>-0.949293</td>\n",
       "      <td>0.214663</td>\n",
       "    </tr>\n",
       "    <tr>\n",
       "      <th>2013-01-02</th>\n",
       "      <td>0.339625</td>\n",
       "      <td>-0.867590</td>\n",
       "      <td>0.598684</td>\n",
       "      <td>-0.724398</td>\n",
       "    </tr>\n",
       "    <tr>\n",
       "      <th>2013-01-03</th>\n",
       "      <td>1.882702</td>\n",
       "      <td>-1.012813</td>\n",
       "      <td>-0.155118</td>\n",
       "      <td>-0.817385</td>\n",
       "    </tr>\n",
       "    <tr>\n",
       "      <th>2013-01-04</th>\n",
       "      <td>0.004448</td>\n",
       "      <td>0.759398</td>\n",
       "      <td>-1.220958</td>\n",
       "      <td>0.045582</td>\n",
       "    </tr>\n",
       "    <tr>\n",
       "      <th>2013-01-05</th>\n",
       "      <td>0.105459</td>\n",
       "      <td>-0.351591</td>\n",
       "      <td>0.185854</td>\n",
       "      <td>-0.350329</td>\n",
       "    </tr>\n",
       "  </tbody>\n",
       "</table>\n",
       "</div>"
      ],
      "text/plain": [
       "                   A         B         C         D\n",
       "2013-01-01  0.041612  0.221396 -0.949293  0.214663\n",
       "2013-01-02  0.339625 -0.867590  0.598684 -0.724398\n",
       "2013-01-03  1.882702 -1.012813 -0.155118 -0.817385\n",
       "2013-01-04  0.004448  0.759398 -1.220958  0.045582\n",
       "2013-01-05  0.105459 -0.351591  0.185854 -0.350329"
      ]
     },
     "execution_count": 205,
     "metadata": {},
     "output_type": "execute_result"
    }
   ],
   "source": [
    "df.head() #display first 5 records"
   ]
  },
  {
   "cell_type": "code",
   "execution_count": 206,
   "id": "9766b923-5ff2-4e99-9489-586d521cec0c",
   "metadata": {},
   "outputs": [
    {
     "data": {
      "text/html": [
       "<div>\n",
       "<style scoped>\n",
       "    .dataframe tbody tr th:only-of-type {\n",
       "        vertical-align: middle;\n",
       "    }\n",
       "\n",
       "    .dataframe tbody tr th {\n",
       "        vertical-align: top;\n",
       "    }\n",
       "\n",
       "    .dataframe thead th {\n",
       "        text-align: right;\n",
       "    }\n",
       "</style>\n",
       "<table border=\"1\" class=\"dataframe\">\n",
       "  <thead>\n",
       "    <tr style=\"text-align: right;\">\n",
       "      <th></th>\n",
       "      <th>A</th>\n",
       "      <th>B</th>\n",
       "      <th>C</th>\n",
       "      <th>D</th>\n",
       "    </tr>\n",
       "  </thead>\n",
       "  <tbody>\n",
       "    <tr>\n",
       "      <th>2013-01-04</th>\n",
       "      <td>0.004448</td>\n",
       "      <td>0.759398</td>\n",
       "      <td>-1.220958</td>\n",
       "      <td>0.045582</td>\n",
       "    </tr>\n",
       "    <tr>\n",
       "      <th>2013-01-05</th>\n",
       "      <td>0.105459</td>\n",
       "      <td>-0.351591</td>\n",
       "      <td>0.185854</td>\n",
       "      <td>-0.350329</td>\n",
       "    </tr>\n",
       "    <tr>\n",
       "      <th>2013-01-06</th>\n",
       "      <td>-1.032255</td>\n",
       "      <td>-0.486715</td>\n",
       "      <td>-0.816309</td>\n",
       "      <td>1.540473</td>\n",
       "    </tr>\n",
       "  </tbody>\n",
       "</table>\n",
       "</div>"
      ],
      "text/plain": [
       "                   A         B         C         D\n",
       "2013-01-04  0.004448  0.759398 -1.220958  0.045582\n",
       "2013-01-05  0.105459 -0.351591  0.185854 -0.350329\n",
       "2013-01-06 -1.032255 -0.486715 -0.816309  1.540473"
      ]
     },
     "execution_count": 206,
     "metadata": {},
     "output_type": "execute_result"
    }
   ],
   "source": [
    "df.tail(3) #display last 3 records"
   ]
  },
  {
   "cell_type": "code",
   "execution_count": 207,
   "id": "b08e84a6-d7f1-484b-ae3c-24330dc3e512",
   "metadata": {},
   "outputs": [
    {
     "data": {
      "text/plain": [
       "DatetimeIndex(['2013-01-01', '2013-01-02', '2013-01-03', '2013-01-04',\n",
       "               '2013-01-05', '2013-01-06'],\n",
       "              dtype='datetime64[ns]', freq='D')"
      ]
     },
     "execution_count": 207,
     "metadata": {},
     "output_type": "execute_result"
    }
   ],
   "source": [
    "df.index #display indexes"
   ]
  },
  {
   "cell_type": "code",
   "execution_count": 208,
   "id": "a1d3f165-623b-42e9-b10e-0fb29c4eafe5",
   "metadata": {},
   "outputs": [
    {
     "data": {
      "text/plain": [
       "Index(['A', 'B', 'C', 'D'], dtype='object')"
      ]
     },
     "execution_count": 208,
     "metadata": {},
     "output_type": "execute_result"
    }
   ],
   "source": [
    "df.columns #display coloumns"
   ]
  },
  {
   "cell_type": "code",
   "execution_count": 209,
   "id": "b9687985-4b93-4fd7-82cd-7889323a95db",
   "metadata": {},
   "outputs": [
    {
     "data": {
      "text/plain": [
       "array([[ 0.04161222,  0.22139569, -0.94929264,  0.21466339],\n",
       "       [ 0.33962457, -0.86758966,  0.59868392, -0.72439799],\n",
       "       [ 1.88270173, -1.01281292, -0.15511803, -0.81738451],\n",
       "       [ 0.00444792,  0.75939753, -1.22095839,  0.04558184],\n",
       "       [ 0.10545909, -0.35159138,  0.18585361, -0.35032882],\n",
       "       [-1.03225456, -0.4867153 , -0.81630884,  1.54047259]])"
      ]
     },
     "execution_count": 209,
     "metadata": {},
     "output_type": "execute_result"
    }
   ],
   "source": [
    "df.values # print values"
   ]
  },
  {
   "cell_type": "code",
   "execution_count": 210,
   "id": "df5e6bbf-0bae-4119-a50c-7a6836bfdd5b",
   "metadata": {},
   "outputs": [
    {
     "data": {
      "text/html": [
       "<div>\n",
       "<style scoped>\n",
       "    .dataframe tbody tr th:only-of-type {\n",
       "        vertical-align: middle;\n",
       "    }\n",
       "\n",
       "    .dataframe tbody tr th {\n",
       "        vertical-align: top;\n",
       "    }\n",
       "\n",
       "    .dataframe thead th {\n",
       "        text-align: right;\n",
       "    }\n",
       "</style>\n",
       "<table border=\"1\" class=\"dataframe\">\n",
       "  <thead>\n",
       "    <tr style=\"text-align: right;\">\n",
       "      <th></th>\n",
       "      <th>2013-01-01</th>\n",
       "      <th>2013-01-02</th>\n",
       "      <th>2013-01-03</th>\n",
       "      <th>2013-01-04</th>\n",
       "      <th>2013-01-05</th>\n",
       "      <th>2013-01-06</th>\n",
       "    </tr>\n",
       "  </thead>\n",
       "  <tbody>\n",
       "    <tr>\n",
       "      <th>A</th>\n",
       "      <td>0.041612</td>\n",
       "      <td>0.339625</td>\n",
       "      <td>1.882702</td>\n",
       "      <td>0.004448</td>\n",
       "      <td>0.105459</td>\n",
       "      <td>-1.032255</td>\n",
       "    </tr>\n",
       "    <tr>\n",
       "      <th>B</th>\n",
       "      <td>0.221396</td>\n",
       "      <td>-0.867590</td>\n",
       "      <td>-1.012813</td>\n",
       "      <td>0.759398</td>\n",
       "      <td>-0.351591</td>\n",
       "      <td>-0.486715</td>\n",
       "    </tr>\n",
       "    <tr>\n",
       "      <th>C</th>\n",
       "      <td>-0.949293</td>\n",
       "      <td>0.598684</td>\n",
       "      <td>-0.155118</td>\n",
       "      <td>-1.220958</td>\n",
       "      <td>0.185854</td>\n",
       "      <td>-0.816309</td>\n",
       "    </tr>\n",
       "    <tr>\n",
       "      <th>D</th>\n",
       "      <td>0.214663</td>\n",
       "      <td>-0.724398</td>\n",
       "      <td>-0.817385</td>\n",
       "      <td>0.045582</td>\n",
       "      <td>-0.350329</td>\n",
       "      <td>1.540473</td>\n",
       "    </tr>\n",
       "  </tbody>\n",
       "</table>\n",
       "</div>"
      ],
      "text/plain": [
       "   2013-01-01  2013-01-02  2013-01-03  2013-01-04  2013-01-05  2013-01-06\n",
       "A    0.041612    0.339625    1.882702    0.004448    0.105459   -1.032255\n",
       "B    0.221396   -0.867590   -1.012813    0.759398   -0.351591   -0.486715\n",
       "C   -0.949293    0.598684   -0.155118   -1.220958    0.185854   -0.816309\n",
       "D    0.214663   -0.724398   -0.817385    0.045582   -0.350329    1.540473"
      ]
     },
     "execution_count": 210,
     "metadata": {},
     "output_type": "execute_result"
    }
   ],
   "source": [
    "# Transposing your data \n",
    "df.T "
   ]
  },
  {
   "cell_type": "code",
   "execution_count": 211,
   "id": "bc7ef959-81df-4b8d-90c8-c628df8da9d2",
   "metadata": {},
   "outputs": [
    {
     "data": {
      "text/html": [
       "<div>\n",
       "<style scoped>\n",
       "    .dataframe tbody tr th:only-of-type {\n",
       "        vertical-align: middle;\n",
       "    }\n",
       "\n",
       "    .dataframe tbody tr th {\n",
       "        vertical-align: top;\n",
       "    }\n",
       "\n",
       "    .dataframe thead th {\n",
       "        text-align: right;\n",
       "    }\n",
       "</style>\n",
       "<table border=\"1\" class=\"dataframe\">\n",
       "  <thead>\n",
       "    <tr style=\"text-align: right;\">\n",
       "      <th></th>\n",
       "      <th>D</th>\n",
       "      <th>C</th>\n",
       "      <th>B</th>\n",
       "      <th>A</th>\n",
       "    </tr>\n",
       "  </thead>\n",
       "  <tbody>\n",
       "    <tr>\n",
       "      <th>2013-01-01</th>\n",
       "      <td>0.214663</td>\n",
       "      <td>-0.949293</td>\n",
       "      <td>0.221396</td>\n",
       "      <td>0.041612</td>\n",
       "    </tr>\n",
       "    <tr>\n",
       "      <th>2013-01-02</th>\n",
       "      <td>-0.724398</td>\n",
       "      <td>0.598684</td>\n",
       "      <td>-0.867590</td>\n",
       "      <td>0.339625</td>\n",
       "    </tr>\n",
       "    <tr>\n",
       "      <th>2013-01-03</th>\n",
       "      <td>-0.817385</td>\n",
       "      <td>-0.155118</td>\n",
       "      <td>-1.012813</td>\n",
       "      <td>1.882702</td>\n",
       "    </tr>\n",
       "    <tr>\n",
       "      <th>2013-01-04</th>\n",
       "      <td>0.045582</td>\n",
       "      <td>-1.220958</td>\n",
       "      <td>0.759398</td>\n",
       "      <td>0.004448</td>\n",
       "    </tr>\n",
       "    <tr>\n",
       "      <th>2013-01-05</th>\n",
       "      <td>-0.350329</td>\n",
       "      <td>0.185854</td>\n",
       "      <td>-0.351591</td>\n",
       "      <td>0.105459</td>\n",
       "    </tr>\n",
       "    <tr>\n",
       "      <th>2013-01-06</th>\n",
       "      <td>1.540473</td>\n",
       "      <td>-0.816309</td>\n",
       "      <td>-0.486715</td>\n",
       "      <td>-1.032255</td>\n",
       "    </tr>\n",
       "  </tbody>\n",
       "</table>\n",
       "</div>"
      ],
      "text/plain": [
       "                   D         C         B         A\n",
       "2013-01-01  0.214663 -0.949293  0.221396  0.041612\n",
       "2013-01-02 -0.724398  0.598684 -0.867590  0.339625\n",
       "2013-01-03 -0.817385 -0.155118 -1.012813  1.882702\n",
       "2013-01-04  0.045582 -1.220958  0.759398  0.004448\n",
       "2013-01-05 -0.350329  0.185854 -0.351591  0.105459\n",
       "2013-01-06  1.540473 -0.816309 -0.486715 -1.032255"
      ]
     },
     "execution_count": 211,
     "metadata": {},
     "output_type": "execute_result"
    }
   ],
   "source": [
    "#Sorting by an axis\n",
    "df.sort_index(axis=1, ascending=False)"
   ]
  },
  {
   "cell_type": "code",
   "execution_count": 216,
   "id": "a136125c-093b-4884-9efb-09963760eb7e",
   "metadata": {},
   "outputs": [
    {
     "data": {
      "text/html": [
       "<div>\n",
       "<style scoped>\n",
       "    .dataframe tbody tr th:only-of-type {\n",
       "        vertical-align: middle;\n",
       "    }\n",
       "\n",
       "    .dataframe tbody tr th {\n",
       "        vertical-align: top;\n",
       "    }\n",
       "\n",
       "    .dataframe thead th {\n",
       "        text-align: right;\n",
       "    }\n",
       "</style>\n",
       "<table border=\"1\" class=\"dataframe\">\n",
       "  <thead>\n",
       "    <tr style=\"text-align: right;\">\n",
       "      <th></th>\n",
       "      <th>A</th>\n",
       "      <th>B</th>\n",
       "      <th>C</th>\n",
       "      <th>D</th>\n",
       "    </tr>\n",
       "  </thead>\n",
       "  <tbody>\n",
       "    <tr>\n",
       "      <th>2013-01-03</th>\n",
       "      <td>1.882702</td>\n",
       "      <td>-1.012813</td>\n",
       "      <td>-0.155118</td>\n",
       "      <td>-0.817385</td>\n",
       "    </tr>\n",
       "    <tr>\n",
       "      <th>2013-01-02</th>\n",
       "      <td>0.339625</td>\n",
       "      <td>-0.867590</td>\n",
       "      <td>0.598684</td>\n",
       "      <td>-0.724398</td>\n",
       "    </tr>\n",
       "    <tr>\n",
       "      <th>2013-01-06</th>\n",
       "      <td>-1.032255</td>\n",
       "      <td>-0.486715</td>\n",
       "      <td>-0.816309</td>\n",
       "      <td>1.540473</td>\n",
       "    </tr>\n",
       "    <tr>\n",
       "      <th>2013-01-05</th>\n",
       "      <td>0.105459</td>\n",
       "      <td>-0.351591</td>\n",
       "      <td>0.185854</td>\n",
       "      <td>-0.350329</td>\n",
       "    </tr>\n",
       "    <tr>\n",
       "      <th>2013-01-01</th>\n",
       "      <td>0.041612</td>\n",
       "      <td>0.221396</td>\n",
       "      <td>-0.949293</td>\n",
       "      <td>0.214663</td>\n",
       "    </tr>\n",
       "    <tr>\n",
       "      <th>2013-01-04</th>\n",
       "      <td>0.004448</td>\n",
       "      <td>0.759398</td>\n",
       "      <td>-1.220958</td>\n",
       "      <td>0.045582</td>\n",
       "    </tr>\n",
       "  </tbody>\n",
       "</table>\n",
       "</div>"
      ],
      "text/plain": [
       "                   A         B         C         D\n",
       "2013-01-03  1.882702 -1.012813 -0.155118 -0.817385\n",
       "2013-01-02  0.339625 -0.867590  0.598684 -0.724398\n",
       "2013-01-06 -1.032255 -0.486715 -0.816309  1.540473\n",
       "2013-01-05  0.105459 -0.351591  0.185854 -0.350329\n",
       "2013-01-01  0.041612  0.221396 -0.949293  0.214663\n",
       "2013-01-04  0.004448  0.759398 -1.220958  0.045582"
      ]
     },
     "execution_count": 216,
     "metadata": {},
     "output_type": "execute_result"
    }
   ],
   "source": [
    "#Sorting by values\n",
    "df.sort_values(by='B')"
   ]
  },
  {
   "cell_type": "code",
   "execution_count": 217,
   "id": "0bcd1727-c1a1-497c-9cac-23424955830a",
   "metadata": {},
   "outputs": [
    {
     "data": {
      "text/html": [
       "<div>\n",
       "<style scoped>\n",
       "    .dataframe tbody tr th:only-of-type {\n",
       "        vertical-align: middle;\n",
       "    }\n",
       "\n",
       "    .dataframe tbody tr th {\n",
       "        vertical-align: top;\n",
       "    }\n",
       "\n",
       "    .dataframe thead th {\n",
       "        text-align: right;\n",
       "    }\n",
       "</style>\n",
       "<table border=\"1\" class=\"dataframe\">\n",
       "  <thead>\n",
       "    <tr style=\"text-align: right;\">\n",
       "      <th></th>\n",
       "      <th>A</th>\n",
       "      <th>B</th>\n",
       "      <th>C</th>\n",
       "      <th>D</th>\n",
       "    </tr>\n",
       "  </thead>\n",
       "  <tbody>\n",
       "    <tr>\n",
       "      <th>count</th>\n",
       "      <td>6.000000</td>\n",
       "      <td>6.000000</td>\n",
       "      <td>6.000000</td>\n",
       "      <td>6.000000</td>\n",
       "    </tr>\n",
       "    <tr>\n",
       "      <th>mean</th>\n",
       "      <td>0.223598</td>\n",
       "      <td>-0.289653</td>\n",
       "      <td>-0.392857</td>\n",
       "      <td>-0.015232</td>\n",
       "    </tr>\n",
       "    <tr>\n",
       "      <th>std</th>\n",
       "      <td>0.942163</td>\n",
       "      <td>0.672506</td>\n",
       "      <td>0.714040</td>\n",
       "      <td>0.864340</td>\n",
       "    </tr>\n",
       "    <tr>\n",
       "      <th>min</th>\n",
       "      <td>-1.032255</td>\n",
       "      <td>-1.012813</td>\n",
       "      <td>-1.220958</td>\n",
       "      <td>-0.817385</td>\n",
       "    </tr>\n",
       "    <tr>\n",
       "      <th>25%</th>\n",
       "      <td>0.013739</td>\n",
       "      <td>-0.772371</td>\n",
       "      <td>-0.916047</td>\n",
       "      <td>-0.630881</td>\n",
       "    </tr>\n",
       "    <tr>\n",
       "      <th>50%</th>\n",
       "      <td>0.073536</td>\n",
       "      <td>-0.419153</td>\n",
       "      <td>-0.485713</td>\n",
       "      <td>-0.152373</td>\n",
       "    </tr>\n",
       "    <tr>\n",
       "      <th>75%</th>\n",
       "      <td>0.281083</td>\n",
       "      <td>0.078149</td>\n",
       "      <td>0.100611</td>\n",
       "      <td>0.172393</td>\n",
       "    </tr>\n",
       "    <tr>\n",
       "      <th>max</th>\n",
       "      <td>1.882702</td>\n",
       "      <td>0.759398</td>\n",
       "      <td>0.598684</td>\n",
       "      <td>1.540473</td>\n",
       "    </tr>\n",
       "  </tbody>\n",
       "</table>\n",
       "</div>"
      ],
      "text/plain": [
       "              A         B         C         D\n",
       "count  6.000000  6.000000  6.000000  6.000000\n",
       "mean   0.223598 -0.289653 -0.392857 -0.015232\n",
       "std    0.942163  0.672506  0.714040  0.864340\n",
       "min   -1.032255 -1.012813 -1.220958 -0.817385\n",
       "25%    0.013739 -0.772371 -0.916047 -0.630881\n",
       "50%    0.073536 -0.419153 -0.485713 -0.152373\n",
       "75%    0.281083  0.078149  0.100611  0.172393\n",
       "max    1.882702  0.759398  0.598684  1.540473"
      ]
     },
     "execution_count": 217,
     "metadata": {},
     "output_type": "execute_result"
    }
   ],
   "source": [
    "# Describe shows a quick statistic summary of your data\n",
    "df.describe() "
   ]
  },
  {
   "cell_type": "code",
   "execution_count": 219,
   "id": "5c4d554d-cd68-42d5-a1a7-7cb4e483e9c8",
   "metadata": {},
   "outputs": [
    {
     "data": {
      "text/plain": [
       "2013-01-01    0.041612\n",
       "2013-01-02    0.339625\n",
       "2013-01-03    1.882702\n",
       "2013-01-04    0.004448\n",
       "2013-01-05    0.105459\n",
       "2013-01-06   -1.032255\n",
       "Freq: D, Name: A, dtype: float64"
      ]
     },
     "execution_count": 219,
     "metadata": {},
     "output_type": "execute_result"
    }
   ],
   "source": [
    " #Selecting a single column, which yields a Series, equivalent to df.A \n",
    "df['A']"
   ]
  },
  {
   "cell_type": "code",
   "execution_count": 220,
   "id": "4312b219-bea1-469d-9920-acbb0e8a81c1",
   "metadata": {},
   "outputs": [
    {
     "data": {
      "text/html": [
       "<div>\n",
       "<style scoped>\n",
       "    .dataframe tbody tr th:only-of-type {\n",
       "        vertical-align: middle;\n",
       "    }\n",
       "\n",
       "    .dataframe tbody tr th {\n",
       "        vertical-align: top;\n",
       "    }\n",
       "\n",
       "    .dataframe thead th {\n",
       "        text-align: right;\n",
       "    }\n",
       "</style>\n",
       "<table border=\"1\" class=\"dataframe\">\n",
       "  <thead>\n",
       "    <tr style=\"text-align: right;\">\n",
       "      <th></th>\n",
       "      <th>A</th>\n",
       "      <th>B</th>\n",
       "      <th>C</th>\n",
       "      <th>D</th>\n",
       "    </tr>\n",
       "  </thead>\n",
       "  <tbody>\n",
       "    <tr>\n",
       "      <th>2013-01-01</th>\n",
       "      <td>0.041612</td>\n",
       "      <td>0.221396</td>\n",
       "      <td>-0.949293</td>\n",
       "      <td>0.214663</td>\n",
       "    </tr>\n",
       "    <tr>\n",
       "      <th>2013-01-02</th>\n",
       "      <td>0.339625</td>\n",
       "      <td>-0.867590</td>\n",
       "      <td>0.598684</td>\n",
       "      <td>-0.724398</td>\n",
       "    </tr>\n",
       "    <tr>\n",
       "      <th>2013-01-03</th>\n",
       "      <td>1.882702</td>\n",
       "      <td>-1.012813</td>\n",
       "      <td>-0.155118</td>\n",
       "      <td>-0.817385</td>\n",
       "    </tr>\n",
       "  </tbody>\n",
       "</table>\n",
       "</div>"
      ],
      "text/plain": [
       "                   A         B         C         D\n",
       "2013-01-01  0.041612  0.221396 -0.949293  0.214663\n",
       "2013-01-02  0.339625 -0.867590  0.598684 -0.724398\n",
       "2013-01-03  1.882702 -1.012813 -0.155118 -0.817385"
      ]
     },
     "execution_count": 220,
     "metadata": {},
     "output_type": "execute_result"
    }
   ],
   "source": [
    "#Selecting via [], which slices the rows. \n",
    "df[0:3]"
   ]
  },
  {
   "cell_type": "code",
   "execution_count": 221,
   "id": "d0464f3a-a681-423f-9a4d-680375714b5f",
   "metadata": {},
   "outputs": [
    {
     "data": {
      "text/html": [
       "<div>\n",
       "<style scoped>\n",
       "    .dataframe tbody tr th:only-of-type {\n",
       "        vertical-align: middle;\n",
       "    }\n",
       "\n",
       "    .dataframe tbody tr th {\n",
       "        vertical-align: top;\n",
       "    }\n",
       "\n",
       "    .dataframe thead th {\n",
       "        text-align: right;\n",
       "    }\n",
       "</style>\n",
       "<table border=\"1\" class=\"dataframe\">\n",
       "  <thead>\n",
       "    <tr style=\"text-align: right;\">\n",
       "      <th></th>\n",
       "      <th>A</th>\n",
       "      <th>B</th>\n",
       "      <th>C</th>\n",
       "      <th>D</th>\n",
       "    </tr>\n",
       "  </thead>\n",
       "  <tbody>\n",
       "    <tr>\n",
       "      <th>2013-01-02</th>\n",
       "      <td>0.339625</td>\n",
       "      <td>-0.867590</td>\n",
       "      <td>0.598684</td>\n",
       "      <td>-0.724398</td>\n",
       "    </tr>\n",
       "    <tr>\n",
       "      <th>2013-01-03</th>\n",
       "      <td>1.882702</td>\n",
       "      <td>-1.012813</td>\n",
       "      <td>-0.155118</td>\n",
       "      <td>-0.817385</td>\n",
       "    </tr>\n",
       "    <tr>\n",
       "      <th>2013-01-04</th>\n",
       "      <td>0.004448</td>\n",
       "      <td>0.759398</td>\n",
       "      <td>-1.220958</td>\n",
       "      <td>0.045582</td>\n",
       "    </tr>\n",
       "  </tbody>\n",
       "</table>\n",
       "</div>"
      ],
      "text/plain": [
       "                   A         B         C         D\n",
       "2013-01-02  0.339625 -0.867590  0.598684 -0.724398\n",
       "2013-01-03  1.882702 -1.012813 -0.155118 -0.817385\n",
       "2013-01-04  0.004448  0.759398 -1.220958  0.045582"
      ]
     },
     "execution_count": 221,
     "metadata": {},
     "output_type": "execute_result"
    }
   ],
   "source": [
    "df['20130102':'20130104']"
   ]
  },
  {
   "cell_type": "code",
   "execution_count": 222,
   "id": "583cf9ce-6d8c-4b2e-adb6-071fe025f819",
   "metadata": {},
   "outputs": [
    {
     "data": {
      "text/html": [
       "<div>\n",
       "<style scoped>\n",
       "    .dataframe tbody tr th:only-of-type {\n",
       "        vertical-align: middle;\n",
       "    }\n",
       "\n",
       "    .dataframe tbody tr th {\n",
       "        vertical-align: top;\n",
       "    }\n",
       "\n",
       "    .dataframe thead th {\n",
       "        text-align: right;\n",
       "    }\n",
       "</style>\n",
       "<table border=\"1\" class=\"dataframe\">\n",
       "  <thead>\n",
       "    <tr style=\"text-align: right;\">\n",
       "      <th></th>\n",
       "      <th>A</th>\n",
       "      <th>B</th>\n",
       "    </tr>\n",
       "  </thead>\n",
       "  <tbody>\n",
       "    <tr>\n",
       "      <th>2013-01-01</th>\n",
       "      <td>0.041612</td>\n",
       "      <td>0.221396</td>\n",
       "    </tr>\n",
       "    <tr>\n",
       "      <th>2013-01-02</th>\n",
       "      <td>0.339625</td>\n",
       "      <td>-0.867590</td>\n",
       "    </tr>\n",
       "    <tr>\n",
       "      <th>2013-01-03</th>\n",
       "      <td>1.882702</td>\n",
       "      <td>-1.012813</td>\n",
       "    </tr>\n",
       "    <tr>\n",
       "      <th>2013-01-04</th>\n",
       "      <td>0.004448</td>\n",
       "      <td>0.759398</td>\n",
       "    </tr>\n",
       "    <tr>\n",
       "      <th>2013-01-05</th>\n",
       "      <td>0.105459</td>\n",
       "      <td>-0.351591</td>\n",
       "    </tr>\n",
       "    <tr>\n",
       "      <th>2013-01-06</th>\n",
       "      <td>-1.032255</td>\n",
       "      <td>-0.486715</td>\n",
       "    </tr>\n",
       "  </tbody>\n",
       "</table>\n",
       "</div>"
      ],
      "text/plain": [
       "                   A         B\n",
       "2013-01-01  0.041612  0.221396\n",
       "2013-01-02  0.339625 -0.867590\n",
       "2013-01-03  1.882702 -1.012813\n",
       "2013-01-04  0.004448  0.759398\n",
       "2013-01-05  0.105459 -0.351591\n",
       "2013-01-06 -1.032255 -0.486715"
      ]
     },
     "execution_count": 222,
     "metadata": {},
     "output_type": "execute_result"
    }
   ],
   "source": [
    "#Selecting on a multi-axis by label\n",
    "df.loc[:,['A','B']]"
   ]
  },
  {
   "cell_type": "code",
   "execution_count": 223,
   "id": "4fe83074-f096-4739-8385-77df221adbbd",
   "metadata": {},
   "outputs": [
    {
     "data": {
      "text/html": [
       "<div>\n",
       "<style scoped>\n",
       "    .dataframe tbody tr th:only-of-type {\n",
       "        vertical-align: middle;\n",
       "    }\n",
       "\n",
       "    .dataframe tbody tr th {\n",
       "        vertical-align: top;\n",
       "    }\n",
       "\n",
       "    .dataframe thead th {\n",
       "        text-align: right;\n",
       "    }\n",
       "</style>\n",
       "<table border=\"1\" class=\"dataframe\">\n",
       "  <thead>\n",
       "    <tr style=\"text-align: right;\">\n",
       "      <th></th>\n",
       "      <th>A</th>\n",
       "      <th>B</th>\n",
       "    </tr>\n",
       "  </thead>\n",
       "  <tbody>\n",
       "    <tr>\n",
       "      <th>2013-01-02</th>\n",
       "      <td>0.339625</td>\n",
       "      <td>-0.867590</td>\n",
       "    </tr>\n",
       "    <tr>\n",
       "      <th>2013-01-03</th>\n",
       "      <td>1.882702</td>\n",
       "      <td>-1.012813</td>\n",
       "    </tr>\n",
       "    <tr>\n",
       "      <th>2013-01-04</th>\n",
       "      <td>0.004448</td>\n",
       "      <td>0.759398</td>\n",
       "    </tr>\n",
       "  </tbody>\n",
       "</table>\n",
       "</div>"
      ],
      "text/plain": [
       "                   A         B\n",
       "2013-01-02  0.339625 -0.867590\n",
       "2013-01-03  1.882702 -1.012813\n",
       "2013-01-04  0.004448  0.759398"
      ]
     },
     "execution_count": 223,
     "metadata": {},
     "output_type": "execute_result"
    }
   ],
   "source": [
    "#Showing label slicing, both endpoints are included\n",
    "df.loc['20130102':'20130104',['A','B']]"
   ]
  },
  {
   "cell_type": "code",
   "execution_count": 224,
   "id": "4ee7b199-fc8e-4e91-ab4b-e97fb057f3d6",
   "metadata": {},
   "outputs": [
    {
     "data": {
      "text/plain": [
       "A    0.339625\n",
       "B   -0.867590\n",
       "Name: 2013-01-02 00:00:00, dtype: float64"
      ]
     },
     "execution_count": 224,
     "metadata": {},
     "output_type": "execute_result"
    }
   ],
   "source": [
    " # Reduction in the dimensions of the returned object \n",
    "df.loc['20130102',['A','B']]"
   ]
  },
  {
   "cell_type": "code",
   "execution_count": 225,
   "id": "9004aad1-6e47-4fe6-bd7d-13eda6040ec5",
   "metadata": {},
   "outputs": [
    {
     "data": {
      "text/plain": [
       "np.float64(0.041612218257731495)"
      ]
     },
     "execution_count": 225,
     "metadata": {},
     "output_type": "execute_result"
    }
   ],
   "source": [
    "# For getting a scalar value \n",
    "df.loc[dates[0],'A']"
   ]
  },
  {
   "cell_type": "code",
   "execution_count": 226,
   "id": "ec0c2e98-18ec-4ce5-9e0e-d3f5cd3c2c69",
   "metadata": {},
   "outputs": [
    {
     "data": {
      "text/plain": [
       "np.float64(0.041612218257731495)"
      ]
     },
     "execution_count": 226,
     "metadata": {},
     "output_type": "execute_result"
    }
   ],
   "source": [
    "# For getting fast access to a scalar \n",
    "df.at[dates[0],'A']"
   ]
  },
  {
   "cell_type": "code",
   "execution_count": 227,
   "id": "f711594b-bc1c-41bd-b5ce-5c0ef16926a2",
   "metadata": {},
   "outputs": [
    {
     "data": {
      "text/plain": [
       "A    0.004448\n",
       "B    0.759398\n",
       "C   -1.220958\n",
       "D    0.045582\n",
       "Name: 2013-01-04 00:00:00, dtype: float64"
      ]
     },
     "execution_count": 227,
     "metadata": {},
     "output_type": "execute_result"
    }
   ],
   "source": [
    "# Select via the position of the passed integers \n",
    "df.iloc[3]"
   ]
  },
  {
   "cell_type": "code",
   "execution_count": 228,
   "id": "372d4531-4137-46a6-a6e2-9e2cc76b67b2",
   "metadata": {},
   "outputs": [
    {
     "data": {
      "text/html": [
       "<div>\n",
       "<style scoped>\n",
       "    .dataframe tbody tr th:only-of-type {\n",
       "        vertical-align: middle;\n",
       "    }\n",
       "\n",
       "    .dataframe tbody tr th {\n",
       "        vertical-align: top;\n",
       "    }\n",
       "\n",
       "    .dataframe thead th {\n",
       "        text-align: right;\n",
       "    }\n",
       "</style>\n",
       "<table border=\"1\" class=\"dataframe\">\n",
       "  <thead>\n",
       "    <tr style=\"text-align: right;\">\n",
       "      <th></th>\n",
       "      <th>A</th>\n",
       "      <th>B</th>\n",
       "    </tr>\n",
       "  </thead>\n",
       "  <tbody>\n",
       "    <tr>\n",
       "      <th>2013-01-04</th>\n",
       "      <td>0.004448</td>\n",
       "      <td>0.759398</td>\n",
       "    </tr>\n",
       "    <tr>\n",
       "      <th>2013-01-05</th>\n",
       "      <td>0.105459</td>\n",
       "      <td>-0.351591</td>\n",
       "    </tr>\n",
       "  </tbody>\n",
       "</table>\n",
       "</div>"
      ],
      "text/plain": [
       "                   A         B\n",
       "2013-01-04  0.004448  0.759398\n",
       "2013-01-05  0.105459 -0.351591"
      ]
     },
     "execution_count": 228,
     "metadata": {},
     "output_type": "execute_result"
    }
   ],
   "source": [
    " # By integer slices, acting similar to numpy/python \n",
    "df.iloc[3:5,0:2]"
   ]
  },
  {
   "cell_type": "code",
   "execution_count": 229,
   "id": "080fc8ab-dfb0-4aa4-acf9-2e2647988608",
   "metadata": {},
   "outputs": [
    {
     "data": {
      "text/html": [
       "<div>\n",
       "<style scoped>\n",
       "    .dataframe tbody tr th:only-of-type {\n",
       "        vertical-align: middle;\n",
       "    }\n",
       "\n",
       "    .dataframe tbody tr th {\n",
       "        vertical-align: top;\n",
       "    }\n",
       "\n",
       "    .dataframe thead th {\n",
       "        text-align: right;\n",
       "    }\n",
       "</style>\n",
       "<table border=\"1\" class=\"dataframe\">\n",
       "  <thead>\n",
       "    <tr style=\"text-align: right;\">\n",
       "      <th></th>\n",
       "      <th>A</th>\n",
       "      <th>C</th>\n",
       "    </tr>\n",
       "  </thead>\n",
       "  <tbody>\n",
       "    <tr>\n",
       "      <th>2013-01-02</th>\n",
       "      <td>0.339625</td>\n",
       "      <td>0.598684</td>\n",
       "    </tr>\n",
       "    <tr>\n",
       "      <th>2013-01-03</th>\n",
       "      <td>1.882702</td>\n",
       "      <td>-0.155118</td>\n",
       "    </tr>\n",
       "    <tr>\n",
       "      <th>2013-01-05</th>\n",
       "      <td>0.105459</td>\n",
       "      <td>0.185854</td>\n",
       "    </tr>\n",
       "  </tbody>\n",
       "</table>\n",
       "</div>"
      ],
      "text/plain": [
       "                   A         C\n",
       "2013-01-02  0.339625  0.598684\n",
       "2013-01-03  1.882702 -0.155118\n",
       "2013-01-05  0.105459  0.185854"
      ]
     },
     "execution_count": 229,
     "metadata": {},
     "output_type": "execute_result"
    }
   ],
   "source": [
    "# By lists of integer position locations, similar to the numpy/python style\n",
    "df.iloc[[1,2,4],[0,2]]"
   ]
  },
  {
   "cell_type": "code",
   "execution_count": 230,
   "id": "97d0d1b8-8525-4b12-8af0-edc3489f22f7",
   "metadata": {},
   "outputs": [
    {
     "data": {
      "text/html": [
       "<div>\n",
       "<style scoped>\n",
       "    .dataframe tbody tr th:only-of-type {\n",
       "        vertical-align: middle;\n",
       "    }\n",
       "\n",
       "    .dataframe tbody tr th {\n",
       "        vertical-align: top;\n",
       "    }\n",
       "\n",
       "    .dataframe thead th {\n",
       "        text-align: right;\n",
       "    }\n",
       "</style>\n",
       "<table border=\"1\" class=\"dataframe\">\n",
       "  <thead>\n",
       "    <tr style=\"text-align: right;\">\n",
       "      <th></th>\n",
       "      <th>B</th>\n",
       "      <th>C</th>\n",
       "    </tr>\n",
       "  </thead>\n",
       "  <tbody>\n",
       "    <tr>\n",
       "      <th>2013-01-01</th>\n",
       "      <td>0.221396</td>\n",
       "      <td>-0.949293</td>\n",
       "    </tr>\n",
       "    <tr>\n",
       "      <th>2013-01-02</th>\n",
       "      <td>-0.867590</td>\n",
       "      <td>0.598684</td>\n",
       "    </tr>\n",
       "    <tr>\n",
       "      <th>2013-01-03</th>\n",
       "      <td>-1.012813</td>\n",
       "      <td>-0.155118</td>\n",
       "    </tr>\n",
       "    <tr>\n",
       "      <th>2013-01-04</th>\n",
       "      <td>0.759398</td>\n",
       "      <td>-1.220958</td>\n",
       "    </tr>\n",
       "    <tr>\n",
       "      <th>2013-01-05</th>\n",
       "      <td>-0.351591</td>\n",
       "      <td>0.185854</td>\n",
       "    </tr>\n",
       "    <tr>\n",
       "      <th>2013-01-06</th>\n",
       "      <td>-0.486715</td>\n",
       "      <td>-0.816309</td>\n",
       "    </tr>\n",
       "  </tbody>\n",
       "</table>\n",
       "</div>"
      ],
      "text/plain": [
       "                   B         C\n",
       "2013-01-01  0.221396 -0.949293\n",
       "2013-01-02 -0.867590  0.598684\n",
       "2013-01-03 -1.012813 -0.155118\n",
       "2013-01-04  0.759398 -1.220958\n",
       "2013-01-05 -0.351591  0.185854\n",
       "2013-01-06 -0.486715 -0.816309"
      ]
     },
     "execution_count": 230,
     "metadata": {},
     "output_type": "execute_result"
    }
   ],
   "source": [
    "# For slicing rows explicitly\n",
    "df.iloc[:,1:3]"
   ]
  },
  {
   "cell_type": "code",
   "execution_count": 231,
   "id": "8911df3d-bdb4-4697-9975-9f0a993a5d20",
   "metadata": {},
   "outputs": [
    {
     "data": {
      "text/plain": [
       "np.float64(-0.8675896648148513)"
      ]
     },
     "execution_count": 231,
     "metadata": {},
     "output_type": "execute_result"
    }
   ],
   "source": [
    "# For getting a value explicitly \n",
    "df.iloc[1,1]"
   ]
  },
  {
   "cell_type": "code",
   "execution_count": 232,
   "id": "8fbb289f-8d08-4878-a89e-a4574220f952",
   "metadata": {},
   "outputs": [
    {
     "data": {
      "text/html": [
       "<div>\n",
       "<style scoped>\n",
       "    .dataframe tbody tr th:only-of-type {\n",
       "        vertical-align: middle;\n",
       "    }\n",
       "\n",
       "    .dataframe tbody tr th {\n",
       "        vertical-align: top;\n",
       "    }\n",
       "\n",
       "    .dataframe thead th {\n",
       "        text-align: right;\n",
       "    }\n",
       "</style>\n",
       "<table border=\"1\" class=\"dataframe\">\n",
       "  <thead>\n",
       "    <tr style=\"text-align: right;\">\n",
       "      <th></th>\n",
       "      <th>A</th>\n",
       "      <th>B</th>\n",
       "      <th>C</th>\n",
       "      <th>D</th>\n",
       "    </tr>\n",
       "  </thead>\n",
       "  <tbody>\n",
       "    <tr>\n",
       "      <th>2013-01-01</th>\n",
       "      <td>0.041612</td>\n",
       "      <td>0.221396</td>\n",
       "      <td>-0.949293</td>\n",
       "      <td>0.214663</td>\n",
       "    </tr>\n",
       "    <tr>\n",
       "      <th>2013-01-02</th>\n",
       "      <td>0.339625</td>\n",
       "      <td>-0.867590</td>\n",
       "      <td>0.598684</td>\n",
       "      <td>-0.724398</td>\n",
       "    </tr>\n",
       "    <tr>\n",
       "      <th>2013-01-03</th>\n",
       "      <td>1.882702</td>\n",
       "      <td>-1.012813</td>\n",
       "      <td>-0.155118</td>\n",
       "      <td>-0.817385</td>\n",
       "    </tr>\n",
       "    <tr>\n",
       "      <th>2013-01-04</th>\n",
       "      <td>0.004448</td>\n",
       "      <td>0.759398</td>\n",
       "      <td>-1.220958</td>\n",
       "      <td>0.045582</td>\n",
       "    </tr>\n",
       "    <tr>\n",
       "      <th>2013-01-05</th>\n",
       "      <td>0.105459</td>\n",
       "      <td>-0.351591</td>\n",
       "      <td>0.185854</td>\n",
       "      <td>-0.350329</td>\n",
       "    </tr>\n",
       "  </tbody>\n",
       "</table>\n",
       "</div>"
      ],
      "text/plain": [
       "                   A         B         C         D\n",
       "2013-01-01  0.041612  0.221396 -0.949293  0.214663\n",
       "2013-01-02  0.339625 -0.867590  0.598684 -0.724398\n",
       "2013-01-03  1.882702 -1.012813 -0.155118 -0.817385\n",
       "2013-01-04  0.004448  0.759398 -1.220958  0.045582\n",
       "2013-01-05  0.105459 -0.351591  0.185854 -0.350329"
      ]
     },
     "execution_count": 232,
     "metadata": {},
     "output_type": "execute_result"
    }
   ],
   "source": [
    "# Using a single column’s values to select data. \n",
    "df[df.A > 0]"
   ]
  },
  {
   "cell_type": "code",
   "execution_count": 233,
   "id": "cf90b15f-3d21-4dda-a503-39a538081b9a",
   "metadata": {},
   "outputs": [
    {
     "data": {
      "text/html": [
       "<div>\n",
       "<style scoped>\n",
       "    .dataframe tbody tr th:only-of-type {\n",
       "        vertical-align: middle;\n",
       "    }\n",
       "\n",
       "    .dataframe tbody tr th {\n",
       "        vertical-align: top;\n",
       "    }\n",
       "\n",
       "    .dataframe thead th {\n",
       "        text-align: right;\n",
       "    }\n",
       "</style>\n",
       "<table border=\"1\" class=\"dataframe\">\n",
       "  <thead>\n",
       "    <tr style=\"text-align: right;\">\n",
       "      <th></th>\n",
       "      <th>A</th>\n",
       "      <th>B</th>\n",
       "      <th>C</th>\n",
       "      <th>D</th>\n",
       "    </tr>\n",
       "  </thead>\n",
       "  <tbody>\n",
       "    <tr>\n",
       "      <th>2013-01-01</th>\n",
       "      <td>0.041612</td>\n",
       "      <td>0.221396</td>\n",
       "      <td>NaN</td>\n",
       "      <td>0.214663</td>\n",
       "    </tr>\n",
       "    <tr>\n",
       "      <th>2013-01-02</th>\n",
       "      <td>0.339625</td>\n",
       "      <td>NaN</td>\n",
       "      <td>0.598684</td>\n",
       "      <td>NaN</td>\n",
       "    </tr>\n",
       "    <tr>\n",
       "      <th>2013-01-03</th>\n",
       "      <td>1.882702</td>\n",
       "      <td>NaN</td>\n",
       "      <td>NaN</td>\n",
       "      <td>NaN</td>\n",
       "    </tr>\n",
       "    <tr>\n",
       "      <th>2013-01-04</th>\n",
       "      <td>0.004448</td>\n",
       "      <td>0.759398</td>\n",
       "      <td>NaN</td>\n",
       "      <td>0.045582</td>\n",
       "    </tr>\n",
       "    <tr>\n",
       "      <th>2013-01-05</th>\n",
       "      <td>0.105459</td>\n",
       "      <td>NaN</td>\n",
       "      <td>0.185854</td>\n",
       "      <td>NaN</td>\n",
       "    </tr>\n",
       "    <tr>\n",
       "      <th>2013-01-06</th>\n",
       "      <td>NaN</td>\n",
       "      <td>NaN</td>\n",
       "      <td>NaN</td>\n",
       "      <td>1.540473</td>\n",
       "    </tr>\n",
       "  </tbody>\n",
       "</table>\n",
       "</div>"
      ],
      "text/plain": [
       "                   A         B         C         D\n",
       "2013-01-01  0.041612  0.221396       NaN  0.214663\n",
       "2013-01-02  0.339625       NaN  0.598684       NaN\n",
       "2013-01-03  1.882702       NaN       NaN       NaN\n",
       "2013-01-04  0.004448  0.759398       NaN  0.045582\n",
       "2013-01-05  0.105459       NaN  0.185854       NaN\n",
       "2013-01-06       NaN       NaN       NaN  1.540473"
      ]
     },
     "execution_count": 233,
     "metadata": {},
     "output_type": "execute_result"
    }
   ],
   "source": [
    "# Selecting values from a DataFrame where a boolean condition is met.\n",
    "df[df > 0]"
   ]
  },
  {
   "cell_type": "code",
   "execution_count": 234,
   "id": "f42b0483-2fad-489d-969f-3a08c2167ddb",
   "metadata": {},
   "outputs": [],
   "source": [
    "# Using the isin() method for filtering:\n",
    "df2 = df.copy()"
   ]
  },
  {
   "cell_type": "code",
   "execution_count": 235,
   "id": "be2da3bb-e457-4eb1-b643-95c50dbf8ec7",
   "metadata": {},
   "outputs": [],
   "source": [
    "df2['E'] = ['one', 'one','two','three','four','three']"
   ]
  },
  {
   "cell_type": "code",
   "execution_count": 236,
   "id": "9b2f4a63-2fa7-42c7-aa11-0e89afd2012d",
   "metadata": {},
   "outputs": [
    {
     "data": {
      "text/html": [
       "<div>\n",
       "<style scoped>\n",
       "    .dataframe tbody tr th:only-of-type {\n",
       "        vertical-align: middle;\n",
       "    }\n",
       "\n",
       "    .dataframe tbody tr th {\n",
       "        vertical-align: top;\n",
       "    }\n",
       "\n",
       "    .dataframe thead th {\n",
       "        text-align: right;\n",
       "    }\n",
       "</style>\n",
       "<table border=\"1\" class=\"dataframe\">\n",
       "  <thead>\n",
       "    <tr style=\"text-align: right;\">\n",
       "      <th></th>\n",
       "      <th>A</th>\n",
       "      <th>B</th>\n",
       "      <th>C</th>\n",
       "      <th>D</th>\n",
       "      <th>E</th>\n",
       "    </tr>\n",
       "  </thead>\n",
       "  <tbody>\n",
       "    <tr>\n",
       "      <th>2013-01-01</th>\n",
       "      <td>0.041612</td>\n",
       "      <td>0.221396</td>\n",
       "      <td>-0.949293</td>\n",
       "      <td>0.214663</td>\n",
       "      <td>one</td>\n",
       "    </tr>\n",
       "    <tr>\n",
       "      <th>2013-01-02</th>\n",
       "      <td>0.339625</td>\n",
       "      <td>-0.867590</td>\n",
       "      <td>0.598684</td>\n",
       "      <td>-0.724398</td>\n",
       "      <td>one</td>\n",
       "    </tr>\n",
       "    <tr>\n",
       "      <th>2013-01-03</th>\n",
       "      <td>1.882702</td>\n",
       "      <td>-1.012813</td>\n",
       "      <td>-0.155118</td>\n",
       "      <td>-0.817385</td>\n",
       "      <td>two</td>\n",
       "    </tr>\n",
       "    <tr>\n",
       "      <th>2013-01-04</th>\n",
       "      <td>0.004448</td>\n",
       "      <td>0.759398</td>\n",
       "      <td>-1.220958</td>\n",
       "      <td>0.045582</td>\n",
       "      <td>three</td>\n",
       "    </tr>\n",
       "    <tr>\n",
       "      <th>2013-01-05</th>\n",
       "      <td>0.105459</td>\n",
       "      <td>-0.351591</td>\n",
       "      <td>0.185854</td>\n",
       "      <td>-0.350329</td>\n",
       "      <td>four</td>\n",
       "    </tr>\n",
       "    <tr>\n",
       "      <th>2013-01-06</th>\n",
       "      <td>-1.032255</td>\n",
       "      <td>-0.486715</td>\n",
       "      <td>-0.816309</td>\n",
       "      <td>1.540473</td>\n",
       "      <td>three</td>\n",
       "    </tr>\n",
       "  </tbody>\n",
       "</table>\n",
       "</div>"
      ],
      "text/plain": [
       "                   A         B         C         D      E\n",
       "2013-01-01  0.041612  0.221396 -0.949293  0.214663    one\n",
       "2013-01-02  0.339625 -0.867590  0.598684 -0.724398    one\n",
       "2013-01-03  1.882702 -1.012813 -0.155118 -0.817385    two\n",
       "2013-01-04  0.004448  0.759398 -1.220958  0.045582  three\n",
       "2013-01-05  0.105459 -0.351591  0.185854 -0.350329   four\n",
       "2013-01-06 -1.032255 -0.486715 -0.816309  1.540473  three"
      ]
     },
     "execution_count": 236,
     "metadata": {},
     "output_type": "execute_result"
    }
   ],
   "source": [
    "df2"
   ]
  },
  {
   "cell_type": "code",
   "execution_count": 237,
   "id": "52dd5976-c35c-42ad-8600-5a40d4eb1f25",
   "metadata": {},
   "outputs": [
    {
     "data": {
      "text/html": [
       "<div>\n",
       "<style scoped>\n",
       "    .dataframe tbody tr th:only-of-type {\n",
       "        vertical-align: middle;\n",
       "    }\n",
       "\n",
       "    .dataframe tbody tr th {\n",
       "        vertical-align: top;\n",
       "    }\n",
       "\n",
       "    .dataframe thead th {\n",
       "        text-align: right;\n",
       "    }\n",
       "</style>\n",
       "<table border=\"1\" class=\"dataframe\">\n",
       "  <thead>\n",
       "    <tr style=\"text-align: right;\">\n",
       "      <th></th>\n",
       "      <th>A</th>\n",
       "      <th>B</th>\n",
       "      <th>C</th>\n",
       "      <th>D</th>\n",
       "      <th>E</th>\n",
       "    </tr>\n",
       "  </thead>\n",
       "  <tbody>\n",
       "    <tr>\n",
       "      <th>2013-01-03</th>\n",
       "      <td>1.882702</td>\n",
       "      <td>-1.012813</td>\n",
       "      <td>-0.155118</td>\n",
       "      <td>-0.817385</td>\n",
       "      <td>two</td>\n",
       "    </tr>\n",
       "    <tr>\n",
       "      <th>2013-01-05</th>\n",
       "      <td>0.105459</td>\n",
       "      <td>-0.351591</td>\n",
       "      <td>0.185854</td>\n",
       "      <td>-0.350329</td>\n",
       "      <td>four</td>\n",
       "    </tr>\n",
       "  </tbody>\n",
       "</table>\n",
       "</div>"
      ],
      "text/plain": [
       "                   A         B         C         D     E\n",
       "2013-01-03  1.882702 -1.012813 -0.155118 -0.817385   two\n",
       "2013-01-05  0.105459 -0.351591  0.185854 -0.350329  four"
      ]
     },
     "execution_count": 237,
     "metadata": {},
     "output_type": "execute_result"
    }
   ],
   "source": [
    "df2[df2['E'].isin(['two','four'])]"
   ]
  },
  {
   "cell_type": "code",
   "execution_count": null,
   "id": "26853978-abe0-410c-a02b-0ac7a32de7f9",
   "metadata": {},
   "outputs": [],
   "source": []
  }
 ],
 "metadata": {
  "kernelspec": {
   "display_name": "Python [conda env:base] *",
   "language": "python",
   "name": "conda-base-py"
  },
  "language_info": {
   "codemirror_mode": {
    "name": "ipython",
    "version": 3
   },
   "file_extension": ".py",
   "mimetype": "text/x-python",
   "name": "python",
   "nbconvert_exporter": "python",
   "pygments_lexer": "ipython3",
   "version": "3.13.5"
  }
 },
 "nbformat": 4,
 "nbformat_minor": 5
}
